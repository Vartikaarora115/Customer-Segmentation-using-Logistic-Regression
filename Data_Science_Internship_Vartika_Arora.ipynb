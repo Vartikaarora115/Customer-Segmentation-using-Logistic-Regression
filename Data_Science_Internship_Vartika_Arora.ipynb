{
  "nbformat": 4,
  "nbformat_minor": 0,
  "metadata": {
    "colab": {
      "provenance": [],
      "collapsed_sections": [
        "X8dTQMma7b_0",
        "QCOUbocp7nAY",
        "yFDZxtBMCFg2",
        "QlaWD-GOy4_Q",
        "wy2zviP45r9P",
        "d-lhGvvQ8dnx",
        "bfarnZoqOqOx",
        "BVDQLxabRWji",
        "8kxRLvorS6YM",
        "kLNTv7q-g2UE"
      ]
    },
    "kernelspec": {
      "name": "python3",
      "display_name": "Python 3"
    },
    "language_info": {
      "name": "python"
    }
  },
  "cells": [
    {
      "cell_type": "markdown",
      "source": [
        "# Importing Data and modules"
      ],
      "metadata": {
        "id": "Cm6MutEoZpY4"
      }
    },
    {
      "cell_type": "code",
      "source": [
        "#importing modules\n",
        "\n",
        "import pandas as pd\n",
        "from sklearn.linear_model import LogisticRegression\n",
        "from sklearn.model_selection import train_test_split, GridSearchCV,RandomizedSearchCV\n",
        "from sklearn.metrics import recall_score,precision_score,f1_score,accuracy_score, confusion_matrix, classification_report,roc_auc_score\n",
        "import numpy as np \n",
        "import matplotlib.pyplot as plt\n",
        "import seaborn as sns"
      ],
      "metadata": {
        "id": "5DqislDo4raU"
      },
      "execution_count": 90,
      "outputs": []
    },
    {
      "cell_type": "code",
      "source": [
        "#importing data\n",
        "\n",
        "sheet_name = 'Data_Science_Internship'\n",
        "id='1rK1CLqpsd6JfSBLk9nRE-f0NzDc9lEXgxZ-cKjxIN_s'\n",
        "url=\"https://docs.google.com/spreadsheets/d/{}/gviz/tq?tqx=out:csv&sheet={}\".format(id, sheet_name)"
      ],
      "metadata": {
        "id": "fr1w_dXeo-QI"
      },
      "execution_count": 9,
      "outputs": []
    },
    {
      "cell_type": "code",
      "source": [
        "df=pd.read_csv(url)\n",
        "df.head()"
      ],
      "metadata": {
        "colab": {
          "base_uri": "https://localhost:8080/",
          "height": 392
        },
        "id": "WVP27e70AM2d",
        "outputId": "764c7e79-4d54-41b0-9a9f-b3a7d25742b7"
      },
      "execution_count": 10,
      "outputs": [
        {
          "output_type": "execute_result",
          "data": {
            "text/plain": [
              "   Unnamed: 0                                           Agent_id status  \\\n",
              "0           0  1deba9e96f404694373de9749ddd1ca8aa7bb823145a6f...   LOST   \n",
              "1           1  299ae77a4ef350ae0dd37d6bba1c002d03444fb1edb236...   LOST   \n",
              "2           2  c213697430c006013012dd2aca82dd9732aa0a1a6bca13...   LOST   \n",
              "3           3  eac9815a500f908736d303e23aa227f0957177b0e6756b...   LOST   \n",
              "4           4  1deba9e96f404694373de9749ddd1ca8aa7bb823145a6f...   LOST   \n",
              "\n",
              "      lost_reason                budget                                lease  \\\n",
              "0  Not responding                   NaN                                  NaN   \n",
              "1      Low budget                   NaN                                  NaN   \n",
              "2  Not responding  £121 - £180 Per Week  Full Year Course Stay 40 - 44 weeks   \n",
              "3      Low budget                   0-0                                    0   \n",
              "4       Junk lead                   NaN                                  NaN   \n",
              "\n",
              "     movein                                             source  \\\n",
              "0       NaN  9b2d5b4678781e53038e91ea5324530a03f27dc1d0e5f6...   \n",
              "1       NaN  9b2d5b4678781e53038e91ea5324530a03f27dc1d0e5f6...   \n",
              "2  31/08/22  7aae3e886e89fc1187a5c47d6cea1c22998ee610ade1f2...   \n",
              "3       NaN  ba2d0a29556ac20f86f45e4543c0825428cba33fd7a9ea...   \n",
              "4       NaN  9b2d5b4678781e53038e91ea5324530a03f27dc1d0e5f6...   \n",
              "\n",
              "                                         source_city  \\\n",
              "0  9b2d5b4678781e53038e91ea5324530a03f27dc1d0e5f6...   \n",
              "1  9b2d5b4678781e53038e91ea5324530a03f27dc1d0e5f6...   \n",
              "2  9b8cc3c63cdf447e463c11544924bf027945cbd29675f7...   \n",
              "3  a5f0d2d08eb0592087e3a3a2f9c1ba2c67cc30f2efd2bd...   \n",
              "4  9b2d5b4678781e53038e91ea5324530a03f27dc1d0e5f6...   \n",
              "\n",
              "                                      source_country  \\\n",
              "0  9b2d5b4678781e53038e91ea5324530a03f27dc1d0e5f6...   \n",
              "1  9b2d5b4678781e53038e91ea5324530a03f27dc1d0e5f6...   \n",
              "2  e09e10e67812e9d236ad900e5d46b4308fc62f5d69446a...   \n",
              "3  e09e10e67812e9d236ad900e5d46b4308fc62f5d69446a...   \n",
              "4  9b2d5b4678781e53038e91ea5324530a03f27dc1d0e5f6...   \n",
              "\n",
              "                                          utm_source  \\\n",
              "0  3d59f7548e1af2151b64135003ce63c0a484c26b9b8b16...   \n",
              "1  3d59f7548e1af2151b64135003ce63c0a484c26b9b8b16...   \n",
              "2  bbdefa2950f49882f295b1285d4fa9dec45fc4144bfb07...   \n",
              "3  bbdefa2950f49882f295b1285d4fa9dec45fc4144bfb07...   \n",
              "4  3d59f7548e1af2151b64135003ce63c0a484c26b9b8b16...   \n",
              "\n",
              "                                          utm_medium  \\\n",
              "0  268ad70eb5bc4737a2ae28162cbca30118cc94520e49ef...   \n",
              "1  268ad70eb5bc4737a2ae28162cbca30118cc94520e49ef...   \n",
              "2  09076eb7665d1fb9389c7c4517fee0b00e43092eb34821...   \n",
              "3  09076eb7665d1fb9389c7c4517fee0b00e43092eb34821...   \n",
              "4  268ad70eb5bc4737a2ae28162cbca30118cc94520e49ef...   \n",
              "\n",
              "                                            des_city  \\\n",
              "0  ecc0e7dc084f141b29479058967d0bc07dee25d9690a98...   \n",
              "1  5372372f3bf5896820cb2819300c3e681820d82c6efc54...   \n",
              "2  11ab03a1a8c367191355c152f39fe28cae5e426fce49ef...   \n",
              "3  19372fa44c57a01c37a5a8418779ca3d99b0b59731fb35...   \n",
              "4  9b2d5b4678781e53038e91ea5324530a03f27dc1d0e5f6...   \n",
              "\n",
              "                                         des_country room_type  \\\n",
              "0  8d23a6e37e0a6431a8f1b43a91026dcff51170a89a6512...       NaN   \n",
              "1  8d23a6e37e0a6431a8f1b43a91026dcff51170a89a6512...       NaN   \n",
              "2  8d23a6e37e0a6431a8f1b43a91026dcff51170a89a6512...   Ensuite   \n",
              "3  8d23a6e37e0a6431a8f1b43a91026dcff51170a89a6512...       NaN   \n",
              "4  9b2d5b4678781e53038e91ea5324530a03f27dc1d0e5f6...       NaN   \n",
              "\n",
              "                                             lead_id  \n",
              "0  cd5dc0d9393f3980d11d4ba6f88f8110c2b7a7f7796307...  \n",
              "1  b94693673a5f7178d1b114e4004ad52377d3244dd24a3d...  \n",
              "2  96ea4e2bf04496c044745938c0299c264c3f4ba079e572...  \n",
              "3  1d2b34d8add02a182a4129023766ca4585a8ddced0e5b3...  \n",
              "4  fc10fffd29cfbe93c55158fb47752a7501c211d253468c...  "
            ],
            "text/html": [
              "\n",
              "  <div id=\"df-9e8581da-71f2-46d6-89ab-3c51477fbf2e\">\n",
              "    <div class=\"colab-df-container\">\n",
              "      <div>\n",
              "<style scoped>\n",
              "    .dataframe tbody tr th:only-of-type {\n",
              "        vertical-align: middle;\n",
              "    }\n",
              "\n",
              "    .dataframe tbody tr th {\n",
              "        vertical-align: top;\n",
              "    }\n",
              "\n",
              "    .dataframe thead th {\n",
              "        text-align: right;\n",
              "    }\n",
              "</style>\n",
              "<table border=\"1\" class=\"dataframe\">\n",
              "  <thead>\n",
              "    <tr style=\"text-align: right;\">\n",
              "      <th></th>\n",
              "      <th>Unnamed: 0</th>\n",
              "      <th>Agent_id</th>\n",
              "      <th>status</th>\n",
              "      <th>lost_reason</th>\n",
              "      <th>budget</th>\n",
              "      <th>lease</th>\n",
              "      <th>movein</th>\n",
              "      <th>source</th>\n",
              "      <th>source_city</th>\n",
              "      <th>source_country</th>\n",
              "      <th>utm_source</th>\n",
              "      <th>utm_medium</th>\n",
              "      <th>des_city</th>\n",
              "      <th>des_country</th>\n",
              "      <th>room_type</th>\n",
              "      <th>lead_id</th>\n",
              "    </tr>\n",
              "  </thead>\n",
              "  <tbody>\n",
              "    <tr>\n",
              "      <th>0</th>\n",
              "      <td>0</td>\n",
              "      <td>1deba9e96f404694373de9749ddd1ca8aa7bb823145a6f...</td>\n",
              "      <td>LOST</td>\n",
              "      <td>Not responding</td>\n",
              "      <td>NaN</td>\n",
              "      <td>NaN</td>\n",
              "      <td>NaN</td>\n",
              "      <td>9b2d5b4678781e53038e91ea5324530a03f27dc1d0e5f6...</td>\n",
              "      <td>9b2d5b4678781e53038e91ea5324530a03f27dc1d0e5f6...</td>\n",
              "      <td>9b2d5b4678781e53038e91ea5324530a03f27dc1d0e5f6...</td>\n",
              "      <td>3d59f7548e1af2151b64135003ce63c0a484c26b9b8b16...</td>\n",
              "      <td>268ad70eb5bc4737a2ae28162cbca30118cc94520e49ef...</td>\n",
              "      <td>ecc0e7dc084f141b29479058967d0bc07dee25d9690a98...</td>\n",
              "      <td>8d23a6e37e0a6431a8f1b43a91026dcff51170a89a6512...</td>\n",
              "      <td>NaN</td>\n",
              "      <td>cd5dc0d9393f3980d11d4ba6f88f8110c2b7a7f7796307...</td>\n",
              "    </tr>\n",
              "    <tr>\n",
              "      <th>1</th>\n",
              "      <td>1</td>\n",
              "      <td>299ae77a4ef350ae0dd37d6bba1c002d03444fb1edb236...</td>\n",
              "      <td>LOST</td>\n",
              "      <td>Low budget</td>\n",
              "      <td>NaN</td>\n",
              "      <td>NaN</td>\n",
              "      <td>NaN</td>\n",
              "      <td>9b2d5b4678781e53038e91ea5324530a03f27dc1d0e5f6...</td>\n",
              "      <td>9b2d5b4678781e53038e91ea5324530a03f27dc1d0e5f6...</td>\n",
              "      <td>9b2d5b4678781e53038e91ea5324530a03f27dc1d0e5f6...</td>\n",
              "      <td>3d59f7548e1af2151b64135003ce63c0a484c26b9b8b16...</td>\n",
              "      <td>268ad70eb5bc4737a2ae28162cbca30118cc94520e49ef...</td>\n",
              "      <td>5372372f3bf5896820cb2819300c3e681820d82c6efc54...</td>\n",
              "      <td>8d23a6e37e0a6431a8f1b43a91026dcff51170a89a6512...</td>\n",
              "      <td>NaN</td>\n",
              "      <td>b94693673a5f7178d1b114e4004ad52377d3244dd24a3d...</td>\n",
              "    </tr>\n",
              "    <tr>\n",
              "      <th>2</th>\n",
              "      <td>2</td>\n",
              "      <td>c213697430c006013012dd2aca82dd9732aa0a1a6bca13...</td>\n",
              "      <td>LOST</td>\n",
              "      <td>Not responding</td>\n",
              "      <td>£121 - £180 Per Week</td>\n",
              "      <td>Full Year Course Stay 40 - 44 weeks</td>\n",
              "      <td>31/08/22</td>\n",
              "      <td>7aae3e886e89fc1187a5c47d6cea1c22998ee610ade1f2...</td>\n",
              "      <td>9b8cc3c63cdf447e463c11544924bf027945cbd29675f7...</td>\n",
              "      <td>e09e10e67812e9d236ad900e5d46b4308fc62f5d69446a...</td>\n",
              "      <td>bbdefa2950f49882f295b1285d4fa9dec45fc4144bfb07...</td>\n",
              "      <td>09076eb7665d1fb9389c7c4517fee0b00e43092eb34821...</td>\n",
              "      <td>11ab03a1a8c367191355c152f39fe28cae5e426fce49ef...</td>\n",
              "      <td>8d23a6e37e0a6431a8f1b43a91026dcff51170a89a6512...</td>\n",
              "      <td>Ensuite</td>\n",
              "      <td>96ea4e2bf04496c044745938c0299c264c3f4ba079e572...</td>\n",
              "    </tr>\n",
              "    <tr>\n",
              "      <th>3</th>\n",
              "      <td>3</td>\n",
              "      <td>eac9815a500f908736d303e23aa227f0957177b0e6756b...</td>\n",
              "      <td>LOST</td>\n",
              "      <td>Low budget</td>\n",
              "      <td>0-0</td>\n",
              "      <td>0</td>\n",
              "      <td>NaN</td>\n",
              "      <td>ba2d0a29556ac20f86f45e4543c0825428cba33fd7a9ea...</td>\n",
              "      <td>a5f0d2d08eb0592087e3a3a2f9c1ba2c67cc30f2efd2bd...</td>\n",
              "      <td>e09e10e67812e9d236ad900e5d46b4308fc62f5d69446a...</td>\n",
              "      <td>bbdefa2950f49882f295b1285d4fa9dec45fc4144bfb07...</td>\n",
              "      <td>09076eb7665d1fb9389c7c4517fee0b00e43092eb34821...</td>\n",
              "      <td>19372fa44c57a01c37a5a8418779ca3d99b0b59731fb35...</td>\n",
              "      <td>8d23a6e37e0a6431a8f1b43a91026dcff51170a89a6512...</td>\n",
              "      <td>NaN</td>\n",
              "      <td>1d2b34d8add02a182a4129023766ca4585a8ddced0e5b3...</td>\n",
              "    </tr>\n",
              "    <tr>\n",
              "      <th>4</th>\n",
              "      <td>4</td>\n",
              "      <td>1deba9e96f404694373de9749ddd1ca8aa7bb823145a6f...</td>\n",
              "      <td>LOST</td>\n",
              "      <td>Junk lead</td>\n",
              "      <td>NaN</td>\n",
              "      <td>NaN</td>\n",
              "      <td>NaN</td>\n",
              "      <td>9b2d5b4678781e53038e91ea5324530a03f27dc1d0e5f6...</td>\n",
              "      <td>9b2d5b4678781e53038e91ea5324530a03f27dc1d0e5f6...</td>\n",
              "      <td>9b2d5b4678781e53038e91ea5324530a03f27dc1d0e5f6...</td>\n",
              "      <td>3d59f7548e1af2151b64135003ce63c0a484c26b9b8b16...</td>\n",
              "      <td>268ad70eb5bc4737a2ae28162cbca30118cc94520e49ef...</td>\n",
              "      <td>9b2d5b4678781e53038e91ea5324530a03f27dc1d0e5f6...</td>\n",
              "      <td>9b2d5b4678781e53038e91ea5324530a03f27dc1d0e5f6...</td>\n",
              "      <td>NaN</td>\n",
              "      <td>fc10fffd29cfbe93c55158fb47752a7501c211d253468c...</td>\n",
              "    </tr>\n",
              "  </tbody>\n",
              "</table>\n",
              "</div>\n",
              "      <button class=\"colab-df-convert\" onclick=\"convertToInteractive('df-9e8581da-71f2-46d6-89ab-3c51477fbf2e')\"\n",
              "              title=\"Convert this dataframe to an interactive table.\"\n",
              "              style=\"display:none;\">\n",
              "        \n",
              "  <svg xmlns=\"http://www.w3.org/2000/svg\" height=\"24px\"viewBox=\"0 0 24 24\"\n",
              "       width=\"24px\">\n",
              "    <path d=\"M0 0h24v24H0V0z\" fill=\"none\"/>\n",
              "    <path d=\"M18.56 5.44l.94 2.06.94-2.06 2.06-.94-2.06-.94-.94-2.06-.94 2.06-2.06.94zm-11 1L8.5 8.5l.94-2.06 2.06-.94-2.06-.94L8.5 2.5l-.94 2.06-2.06.94zm10 10l.94 2.06.94-2.06 2.06-.94-2.06-.94-.94-2.06-.94 2.06-2.06.94z\"/><path d=\"M17.41 7.96l-1.37-1.37c-.4-.4-.92-.59-1.43-.59-.52 0-1.04.2-1.43.59L10.3 9.45l-7.72 7.72c-.78.78-.78 2.05 0 2.83L4 21.41c.39.39.9.59 1.41.59.51 0 1.02-.2 1.41-.59l7.78-7.78 2.81-2.81c.8-.78.8-2.07 0-2.86zM5.41 20L4 18.59l7.72-7.72 1.47 1.35L5.41 20z\"/>\n",
              "  </svg>\n",
              "      </button>\n",
              "      \n",
              "  <style>\n",
              "    .colab-df-container {\n",
              "      display:flex;\n",
              "      flex-wrap:wrap;\n",
              "      gap: 12px;\n",
              "    }\n",
              "\n",
              "    .colab-df-convert {\n",
              "      background-color: #E8F0FE;\n",
              "      border: none;\n",
              "      border-radius: 50%;\n",
              "      cursor: pointer;\n",
              "      display: none;\n",
              "      fill: #1967D2;\n",
              "      height: 32px;\n",
              "      padding: 0 0 0 0;\n",
              "      width: 32px;\n",
              "    }\n",
              "\n",
              "    .colab-df-convert:hover {\n",
              "      background-color: #E2EBFA;\n",
              "      box-shadow: 0px 1px 2px rgba(60, 64, 67, 0.3), 0px 1px 3px 1px rgba(60, 64, 67, 0.15);\n",
              "      fill: #174EA6;\n",
              "    }\n",
              "\n",
              "    [theme=dark] .colab-df-convert {\n",
              "      background-color: #3B4455;\n",
              "      fill: #D2E3FC;\n",
              "    }\n",
              "\n",
              "    [theme=dark] .colab-df-convert:hover {\n",
              "      background-color: #434B5C;\n",
              "      box-shadow: 0px 1px 3px 1px rgba(0, 0, 0, 0.15);\n",
              "      filter: drop-shadow(0px 1px 2px rgba(0, 0, 0, 0.3));\n",
              "      fill: #FFFFFF;\n",
              "    }\n",
              "  </style>\n",
              "\n",
              "      <script>\n",
              "        const buttonEl =\n",
              "          document.querySelector('#df-9e8581da-71f2-46d6-89ab-3c51477fbf2e button.colab-df-convert');\n",
              "        buttonEl.style.display =\n",
              "          google.colab.kernel.accessAllowed ? 'block' : 'none';\n",
              "\n",
              "        async function convertToInteractive(key) {\n",
              "          const element = document.querySelector('#df-9e8581da-71f2-46d6-89ab-3c51477fbf2e');\n",
              "          const dataTable =\n",
              "            await google.colab.kernel.invokeFunction('convertToInteractive',\n",
              "                                                     [key], {});\n",
              "          if (!dataTable) return;\n",
              "\n",
              "          const docLinkHtml = 'Like what you see? Visit the ' +\n",
              "            '<a target=\"_blank\" href=https://colab.research.google.com/notebooks/data_table.ipynb>data table notebook</a>'\n",
              "            + ' to learn more about interactive tables.';\n",
              "          element.innerHTML = '';\n",
              "          dataTable['output_type'] = 'display_data';\n",
              "          await google.colab.output.renderOutput(dataTable, element);\n",
              "          const docLink = document.createElement('div');\n",
              "          docLink.innerHTML = docLinkHtml;\n",
              "          element.appendChild(docLink);\n",
              "        }\n",
              "      </script>\n",
              "    </div>\n",
              "  </div>\n",
              "  "
            ]
          },
          "metadata": {},
          "execution_count": 10
        }
      ]
    },
    {
      "cell_type": "code",
      "source": [
        "df.info()"
      ],
      "metadata": {
        "colab": {
          "base_uri": "https://localhost:8080/"
        },
        "id": "pynvLdgk4rUs",
        "outputId": "20e3d86c-1b14-498a-c5e1-775bdeb1554e"
      },
      "execution_count": 11,
      "outputs": [
        {
          "output_type": "stream",
          "name": "stdout",
          "text": [
            "<class 'pandas.core.frame.DataFrame'>\n",
            "RangeIndex: 46608 entries, 0 to 46607\n",
            "Data columns (total 16 columns):\n",
            " #   Column          Non-Null Count  Dtype \n",
            "---  ------          --------------  ----- \n",
            " 0   Unnamed: 0      46608 non-null  int64 \n",
            " 1   Agent_id        46608 non-null  object\n",
            " 2   status          46608 non-null  object\n",
            " 3   lost_reason     43244 non-null  object\n",
            " 4   budget          42908 non-null  object\n",
            " 5   lease           44267 non-null  object\n",
            " 6   movein          32970 non-null  object\n",
            " 7   source          46608 non-null  object\n",
            " 8   source_city     46608 non-null  object\n",
            " 9   source_country  46608 non-null  object\n",
            " 10  utm_source      46608 non-null  object\n",
            " 11  utm_medium      46608 non-null  object\n",
            " 12  des_city        46608 non-null  object\n",
            " 13  des_country     46608 non-null  object\n",
            " 14  room_type       23061 non-null  object\n",
            " 15  lead_id         46608 non-null  object\n",
            "dtypes: int64(1), object(15)\n",
            "memory usage: 5.7+ MB\n"
          ]
        }
      ]
    },
    {
      "cell_type": "code",
      "source": [
        "df.shape"
      ],
      "metadata": {
        "colab": {
          "base_uri": "https://localhost:8080/"
        },
        "id": "7nbUAYVZ0Dv1",
        "outputId": "f3ab8e8e-6f21-4d55-cf6d-32d4d6ad4ac3"
      },
      "execution_count": 12,
      "outputs": [
        {
          "output_type": "execute_result",
          "data": {
            "text/plain": [
              "(46608, 16)"
            ]
          },
          "metadata": {},
          "execution_count": 12
        }
      ]
    },
    {
      "cell_type": "code",
      "source": [
        "df.columns"
      ],
      "metadata": {
        "id": "cQm_Hj8_B7lL",
        "colab": {
          "base_uri": "https://localhost:8080/"
        },
        "outputId": "1af7095d-8366-4adc-ebfc-705491cc646e"
      },
      "execution_count": 13,
      "outputs": [
        {
          "output_type": "execute_result",
          "data": {
            "text/plain": [
              "Index(['Unnamed: 0', 'Agent_id', 'status', 'lost_reason', 'budget', 'lease',\n",
              "       'movein', 'source', 'source_city', 'source_country', 'utm_source',\n",
              "       'utm_medium', 'des_city', 'des_country', 'room_type', 'lead_id'],\n",
              "      dtype='object')"
            ]
          },
          "metadata": {},
          "execution_count": 13
        }
      ]
    },
    {
      "cell_type": "code",
      "source": [
        "#dropping this unnamed extra column\n",
        "df.drop(columns = 'Unnamed: 0', inplace = True)"
      ],
      "metadata": {
        "id": "tr7zQv3yU9zY"
      },
      "execution_count": 14,
      "outputs": []
    },
    {
      "cell_type": "code",
      "source": [
        "# checking for unique values\n",
        "v=[]\n",
        "for a in df.columns:\n",
        "  x=df[a].nunique()\n",
        "  v.append(x)\n",
        "d={'column':df.columns,'unique_values': v}\n",
        "unique_values = pd.DataFrame.from_dict(d)\n",
        "unique_values"
      ],
      "metadata": {
        "colab": {
          "base_uri": "https://localhost:8080/",
          "height": 520
        },
        "id": "Nlz5f4jTQ-vO",
        "outputId": "4648f48d-6325-4003-d9e0-7d71952aa10c"
      },
      "execution_count": 15,
      "outputs": [
        {
          "output_type": "execute_result",
          "data": {
            "text/plain": [
              "            column  unique_values\n",
              "0         Agent_id            120\n",
              "1           status              6\n",
              "2      lost_reason             30\n",
              "3           budget           1857\n",
              "4            lease            311\n",
              "5           movein            477\n",
              "6           source            683\n",
              "7      source_city           4336\n",
              "8   source_country            186\n",
              "9       utm_source             35\n",
              "10      utm_medium             64\n",
              "11        des_city            220\n",
              "12     des_country             15\n",
              "13       room_type              5\n",
              "14         lead_id          30574"
            ],
            "text/html": [
              "\n",
              "  <div id=\"df-a29720f5-7772-4e51-822b-c8f8181c1c39\">\n",
              "    <div class=\"colab-df-container\">\n",
              "      <div>\n",
              "<style scoped>\n",
              "    .dataframe tbody tr th:only-of-type {\n",
              "        vertical-align: middle;\n",
              "    }\n",
              "\n",
              "    .dataframe tbody tr th {\n",
              "        vertical-align: top;\n",
              "    }\n",
              "\n",
              "    .dataframe thead th {\n",
              "        text-align: right;\n",
              "    }\n",
              "</style>\n",
              "<table border=\"1\" class=\"dataframe\">\n",
              "  <thead>\n",
              "    <tr style=\"text-align: right;\">\n",
              "      <th></th>\n",
              "      <th>column</th>\n",
              "      <th>unique_values</th>\n",
              "    </tr>\n",
              "  </thead>\n",
              "  <tbody>\n",
              "    <tr>\n",
              "      <th>0</th>\n",
              "      <td>Agent_id</td>\n",
              "      <td>120</td>\n",
              "    </tr>\n",
              "    <tr>\n",
              "      <th>1</th>\n",
              "      <td>status</td>\n",
              "      <td>6</td>\n",
              "    </tr>\n",
              "    <tr>\n",
              "      <th>2</th>\n",
              "      <td>lost_reason</td>\n",
              "      <td>30</td>\n",
              "    </tr>\n",
              "    <tr>\n",
              "      <th>3</th>\n",
              "      <td>budget</td>\n",
              "      <td>1857</td>\n",
              "    </tr>\n",
              "    <tr>\n",
              "      <th>4</th>\n",
              "      <td>lease</td>\n",
              "      <td>311</td>\n",
              "    </tr>\n",
              "    <tr>\n",
              "      <th>5</th>\n",
              "      <td>movein</td>\n",
              "      <td>477</td>\n",
              "    </tr>\n",
              "    <tr>\n",
              "      <th>6</th>\n",
              "      <td>source</td>\n",
              "      <td>683</td>\n",
              "    </tr>\n",
              "    <tr>\n",
              "      <th>7</th>\n",
              "      <td>source_city</td>\n",
              "      <td>4336</td>\n",
              "    </tr>\n",
              "    <tr>\n",
              "      <th>8</th>\n",
              "      <td>source_country</td>\n",
              "      <td>186</td>\n",
              "    </tr>\n",
              "    <tr>\n",
              "      <th>9</th>\n",
              "      <td>utm_source</td>\n",
              "      <td>35</td>\n",
              "    </tr>\n",
              "    <tr>\n",
              "      <th>10</th>\n",
              "      <td>utm_medium</td>\n",
              "      <td>64</td>\n",
              "    </tr>\n",
              "    <tr>\n",
              "      <th>11</th>\n",
              "      <td>des_city</td>\n",
              "      <td>220</td>\n",
              "    </tr>\n",
              "    <tr>\n",
              "      <th>12</th>\n",
              "      <td>des_country</td>\n",
              "      <td>15</td>\n",
              "    </tr>\n",
              "    <tr>\n",
              "      <th>13</th>\n",
              "      <td>room_type</td>\n",
              "      <td>5</td>\n",
              "    </tr>\n",
              "    <tr>\n",
              "      <th>14</th>\n",
              "      <td>lead_id</td>\n",
              "      <td>30574</td>\n",
              "    </tr>\n",
              "  </tbody>\n",
              "</table>\n",
              "</div>\n",
              "      <button class=\"colab-df-convert\" onclick=\"convertToInteractive('df-a29720f5-7772-4e51-822b-c8f8181c1c39')\"\n",
              "              title=\"Convert this dataframe to an interactive table.\"\n",
              "              style=\"display:none;\">\n",
              "        \n",
              "  <svg xmlns=\"http://www.w3.org/2000/svg\" height=\"24px\"viewBox=\"0 0 24 24\"\n",
              "       width=\"24px\">\n",
              "    <path d=\"M0 0h24v24H0V0z\" fill=\"none\"/>\n",
              "    <path d=\"M18.56 5.44l.94 2.06.94-2.06 2.06-.94-2.06-.94-.94-2.06-.94 2.06-2.06.94zm-11 1L8.5 8.5l.94-2.06 2.06-.94-2.06-.94L8.5 2.5l-.94 2.06-2.06.94zm10 10l.94 2.06.94-2.06 2.06-.94-2.06-.94-.94-2.06-.94 2.06-2.06.94z\"/><path d=\"M17.41 7.96l-1.37-1.37c-.4-.4-.92-.59-1.43-.59-.52 0-1.04.2-1.43.59L10.3 9.45l-7.72 7.72c-.78.78-.78 2.05 0 2.83L4 21.41c.39.39.9.59 1.41.59.51 0 1.02-.2 1.41-.59l7.78-7.78 2.81-2.81c.8-.78.8-2.07 0-2.86zM5.41 20L4 18.59l7.72-7.72 1.47 1.35L5.41 20z\"/>\n",
              "  </svg>\n",
              "      </button>\n",
              "      \n",
              "  <style>\n",
              "    .colab-df-container {\n",
              "      display:flex;\n",
              "      flex-wrap:wrap;\n",
              "      gap: 12px;\n",
              "    }\n",
              "\n",
              "    .colab-df-convert {\n",
              "      background-color: #E8F0FE;\n",
              "      border: none;\n",
              "      border-radius: 50%;\n",
              "      cursor: pointer;\n",
              "      display: none;\n",
              "      fill: #1967D2;\n",
              "      height: 32px;\n",
              "      padding: 0 0 0 0;\n",
              "      width: 32px;\n",
              "    }\n",
              "\n",
              "    .colab-df-convert:hover {\n",
              "      background-color: #E2EBFA;\n",
              "      box-shadow: 0px 1px 2px rgba(60, 64, 67, 0.3), 0px 1px 3px 1px rgba(60, 64, 67, 0.15);\n",
              "      fill: #174EA6;\n",
              "    }\n",
              "\n",
              "    [theme=dark] .colab-df-convert {\n",
              "      background-color: #3B4455;\n",
              "      fill: #D2E3FC;\n",
              "    }\n",
              "\n",
              "    [theme=dark] .colab-df-convert:hover {\n",
              "      background-color: #434B5C;\n",
              "      box-shadow: 0px 1px 3px 1px rgba(0, 0, 0, 0.15);\n",
              "      filter: drop-shadow(0px 1px 2px rgba(0, 0, 0, 0.3));\n",
              "      fill: #FFFFFF;\n",
              "    }\n",
              "  </style>\n",
              "\n",
              "      <script>\n",
              "        const buttonEl =\n",
              "          document.querySelector('#df-a29720f5-7772-4e51-822b-c8f8181c1c39 button.colab-df-convert');\n",
              "        buttonEl.style.display =\n",
              "          google.colab.kernel.accessAllowed ? 'block' : 'none';\n",
              "\n",
              "        async function convertToInteractive(key) {\n",
              "          const element = document.querySelector('#df-a29720f5-7772-4e51-822b-c8f8181c1c39');\n",
              "          const dataTable =\n",
              "            await google.colab.kernel.invokeFunction('convertToInteractive',\n",
              "                                                     [key], {});\n",
              "          if (!dataTable) return;\n",
              "\n",
              "          const docLinkHtml = 'Like what you see? Visit the ' +\n",
              "            '<a target=\"_blank\" href=https://colab.research.google.com/notebooks/data_table.ipynb>data table notebook</a>'\n",
              "            + ' to learn more about interactive tables.';\n",
              "          element.innerHTML = '';\n",
              "          dataTable['output_type'] = 'display_data';\n",
              "          await google.colab.output.renderOutput(dataTable, element);\n",
              "          const docLink = document.createElement('div');\n",
              "          docLink.innerHTML = docLinkHtml;\n",
              "          element.appendChild(docLink);\n",
              "        }\n",
              "      </script>\n",
              "    </div>\n",
              "  </div>\n",
              "  "
            ]
          },
          "metadata": {},
          "execution_count": 15
        }
      ]
    },
    {
      "cell_type": "markdown",
      "source": [
        "# **Data Cleaning**"
      ],
      "metadata": {
        "id": "KQRb30mfS2pt"
      }
    },
    {
      "cell_type": "code",
      "source": [
        "#droping the duplicate entries\n",
        "df.drop_duplicates(subset='lead_id', keep=\"first\",inplace=True)"
      ],
      "metadata": {
        "id": "5lWzElu5VO1w"
      },
      "execution_count": 16,
      "outputs": []
    },
    {
      "cell_type": "code",
      "source": [
        "df.status.unique()\n"
      ],
      "metadata": {
        "colab": {
          "base_uri": "https://localhost:8080/"
        },
        "id": "ObRiTViY4rFy",
        "outputId": "bdefff12-c5c1-4fb2-a73a-70126e739a63"
      },
      "execution_count": 19,
      "outputs": [
        {
          "output_type": "execute_result",
          "data": {
            "text/plain": [
              "array(['LOST', 'WON', 'OPPORTUNITY', 'CONTACTED', 'PROCESSING',\n",
              "       'IMPORTANT'], dtype=object)"
            ]
          },
          "metadata": {},
          "execution_count": 19
        }
      ]
    },
    {
      "cell_type": "code",
      "source": [
        "#creating a dataframe where status value is either won or lost\n",
        "new_df= df[df['status'].isin(['LOST','WON'])]\n",
        "new_df.shape"
      ],
      "metadata": {
        "colab": {
          "base_uri": "https://localhost:8080/"
        },
        "id": "8cW5asVjukxT",
        "outputId": "99119b50-3f79-44d3-9765-1b69b6943a48"
      },
      "execution_count": 20,
      "outputs": [
        {
          "output_type": "execute_result",
          "data": {
            "text/plain": [
              "(30382, 15)"
            ]
          },
          "metadata": {},
          "execution_count": 20
        }
      ]
    },
    {
      "cell_type": "code",
      "source": [
        "#changing status values for won and lost to 1 and 0\n",
        "new_df['status']= new_df['status'].replace(['WON','LOST'],[1,0])"
      ],
      "metadata": {
        "id": "o4CG29AoUCTQ",
        "colab": {
          "base_uri": "https://localhost:8080/"
        },
        "outputId": "69e6837f-490f-4e83-9b5e-ce224cf72eb3"
      },
      "execution_count": 21,
      "outputs": [
        {
          "output_type": "stream",
          "name": "stderr",
          "text": [
            "<ipython-input-21-001e48d28d63>:2: SettingWithCopyWarning: \n",
            "A value is trying to be set on a copy of a slice from a DataFrame.\n",
            "Try using .loc[row_indexer,col_indexer] = value instead\n",
            "\n",
            "See the caveats in the documentation: https://pandas.pydata.org/pandas-docs/stable/user_guide/indexing.html#returning-a-view-versus-a-copy\n",
            "  new_df['status']= new_df['status'].replace(['WON','LOST'],[1,0])\n"
          ]
        }
      ]
    },
    {
      "cell_type": "code",
      "source": [
        "new_df.head()"
      ],
      "metadata": {
        "colab": {
          "base_uri": "https://localhost:8080/",
          "height": 374
        },
        "id": "1va5NBb5Pxfu",
        "outputId": "d061edbf-e1b5-4034-aa0f-4bd8a3072f55"
      },
      "execution_count": 22,
      "outputs": [
        {
          "output_type": "execute_result",
          "data": {
            "text/plain": [
              "                                            Agent_id  status     lost_reason  \\\n",
              "0  1deba9e96f404694373de9749ddd1ca8aa7bb823145a6f...       0  Not responding   \n",
              "1  299ae77a4ef350ae0dd37d6bba1c002d03444fb1edb236...       0      Low budget   \n",
              "2  c213697430c006013012dd2aca82dd9732aa0a1a6bca13...       0  Not responding   \n",
              "3  eac9815a500f908736d303e23aa227f0957177b0e6756b...       0      Low budget   \n",
              "4  1deba9e96f404694373de9749ddd1ca8aa7bb823145a6f...       0       Junk lead   \n",
              "\n",
              "                 budget                                lease    movein  \\\n",
              "0                   NaN                                  NaN       NaN   \n",
              "1                   NaN                                  NaN       NaN   \n",
              "2  £121 - £180 Per Week  Full Year Course Stay 40 - 44 weeks  31/08/22   \n",
              "3                   0-0                                    0       NaN   \n",
              "4                   NaN                                  NaN       NaN   \n",
              "\n",
              "                                              source  \\\n",
              "0  9b2d5b4678781e53038e91ea5324530a03f27dc1d0e5f6...   \n",
              "1  9b2d5b4678781e53038e91ea5324530a03f27dc1d0e5f6...   \n",
              "2  7aae3e886e89fc1187a5c47d6cea1c22998ee610ade1f2...   \n",
              "3  ba2d0a29556ac20f86f45e4543c0825428cba33fd7a9ea...   \n",
              "4  9b2d5b4678781e53038e91ea5324530a03f27dc1d0e5f6...   \n",
              "\n",
              "                                         source_city  \\\n",
              "0  9b2d5b4678781e53038e91ea5324530a03f27dc1d0e5f6...   \n",
              "1  9b2d5b4678781e53038e91ea5324530a03f27dc1d0e5f6...   \n",
              "2  9b8cc3c63cdf447e463c11544924bf027945cbd29675f7...   \n",
              "3  a5f0d2d08eb0592087e3a3a2f9c1ba2c67cc30f2efd2bd...   \n",
              "4  9b2d5b4678781e53038e91ea5324530a03f27dc1d0e5f6...   \n",
              "\n",
              "                                      source_country  \\\n",
              "0  9b2d5b4678781e53038e91ea5324530a03f27dc1d0e5f6...   \n",
              "1  9b2d5b4678781e53038e91ea5324530a03f27dc1d0e5f6...   \n",
              "2  e09e10e67812e9d236ad900e5d46b4308fc62f5d69446a...   \n",
              "3  e09e10e67812e9d236ad900e5d46b4308fc62f5d69446a...   \n",
              "4  9b2d5b4678781e53038e91ea5324530a03f27dc1d0e5f6...   \n",
              "\n",
              "                                          utm_source  \\\n",
              "0  3d59f7548e1af2151b64135003ce63c0a484c26b9b8b16...   \n",
              "1  3d59f7548e1af2151b64135003ce63c0a484c26b9b8b16...   \n",
              "2  bbdefa2950f49882f295b1285d4fa9dec45fc4144bfb07...   \n",
              "3  bbdefa2950f49882f295b1285d4fa9dec45fc4144bfb07...   \n",
              "4  3d59f7548e1af2151b64135003ce63c0a484c26b9b8b16...   \n",
              "\n",
              "                                          utm_medium  \\\n",
              "0  268ad70eb5bc4737a2ae28162cbca30118cc94520e49ef...   \n",
              "1  268ad70eb5bc4737a2ae28162cbca30118cc94520e49ef...   \n",
              "2  09076eb7665d1fb9389c7c4517fee0b00e43092eb34821...   \n",
              "3  09076eb7665d1fb9389c7c4517fee0b00e43092eb34821...   \n",
              "4  268ad70eb5bc4737a2ae28162cbca30118cc94520e49ef...   \n",
              "\n",
              "                                            des_city  \\\n",
              "0  ecc0e7dc084f141b29479058967d0bc07dee25d9690a98...   \n",
              "1  5372372f3bf5896820cb2819300c3e681820d82c6efc54...   \n",
              "2  11ab03a1a8c367191355c152f39fe28cae5e426fce49ef...   \n",
              "3  19372fa44c57a01c37a5a8418779ca3d99b0b59731fb35...   \n",
              "4  9b2d5b4678781e53038e91ea5324530a03f27dc1d0e5f6...   \n",
              "\n",
              "                                         des_country room_type  \\\n",
              "0  8d23a6e37e0a6431a8f1b43a91026dcff51170a89a6512...       NaN   \n",
              "1  8d23a6e37e0a6431a8f1b43a91026dcff51170a89a6512...       NaN   \n",
              "2  8d23a6e37e0a6431a8f1b43a91026dcff51170a89a6512...   Ensuite   \n",
              "3  8d23a6e37e0a6431a8f1b43a91026dcff51170a89a6512...       NaN   \n",
              "4  9b2d5b4678781e53038e91ea5324530a03f27dc1d0e5f6...       NaN   \n",
              "\n",
              "                                             lead_id  \n",
              "0  cd5dc0d9393f3980d11d4ba6f88f8110c2b7a7f7796307...  \n",
              "1  b94693673a5f7178d1b114e4004ad52377d3244dd24a3d...  \n",
              "2  96ea4e2bf04496c044745938c0299c264c3f4ba079e572...  \n",
              "3  1d2b34d8add02a182a4129023766ca4585a8ddced0e5b3...  \n",
              "4  fc10fffd29cfbe93c55158fb47752a7501c211d253468c...  "
            ],
            "text/html": [
              "\n",
              "  <div id=\"df-2461167d-3a1a-4be4-9ec8-d544dc2d7592\">\n",
              "    <div class=\"colab-df-container\">\n",
              "      <div>\n",
              "<style scoped>\n",
              "    .dataframe tbody tr th:only-of-type {\n",
              "        vertical-align: middle;\n",
              "    }\n",
              "\n",
              "    .dataframe tbody tr th {\n",
              "        vertical-align: top;\n",
              "    }\n",
              "\n",
              "    .dataframe thead th {\n",
              "        text-align: right;\n",
              "    }\n",
              "</style>\n",
              "<table border=\"1\" class=\"dataframe\">\n",
              "  <thead>\n",
              "    <tr style=\"text-align: right;\">\n",
              "      <th></th>\n",
              "      <th>Agent_id</th>\n",
              "      <th>status</th>\n",
              "      <th>lost_reason</th>\n",
              "      <th>budget</th>\n",
              "      <th>lease</th>\n",
              "      <th>movein</th>\n",
              "      <th>source</th>\n",
              "      <th>source_city</th>\n",
              "      <th>source_country</th>\n",
              "      <th>utm_source</th>\n",
              "      <th>utm_medium</th>\n",
              "      <th>des_city</th>\n",
              "      <th>des_country</th>\n",
              "      <th>room_type</th>\n",
              "      <th>lead_id</th>\n",
              "    </tr>\n",
              "  </thead>\n",
              "  <tbody>\n",
              "    <tr>\n",
              "      <th>0</th>\n",
              "      <td>1deba9e96f404694373de9749ddd1ca8aa7bb823145a6f...</td>\n",
              "      <td>0</td>\n",
              "      <td>Not responding</td>\n",
              "      <td>NaN</td>\n",
              "      <td>NaN</td>\n",
              "      <td>NaN</td>\n",
              "      <td>9b2d5b4678781e53038e91ea5324530a03f27dc1d0e5f6...</td>\n",
              "      <td>9b2d5b4678781e53038e91ea5324530a03f27dc1d0e5f6...</td>\n",
              "      <td>9b2d5b4678781e53038e91ea5324530a03f27dc1d0e5f6...</td>\n",
              "      <td>3d59f7548e1af2151b64135003ce63c0a484c26b9b8b16...</td>\n",
              "      <td>268ad70eb5bc4737a2ae28162cbca30118cc94520e49ef...</td>\n",
              "      <td>ecc0e7dc084f141b29479058967d0bc07dee25d9690a98...</td>\n",
              "      <td>8d23a6e37e0a6431a8f1b43a91026dcff51170a89a6512...</td>\n",
              "      <td>NaN</td>\n",
              "      <td>cd5dc0d9393f3980d11d4ba6f88f8110c2b7a7f7796307...</td>\n",
              "    </tr>\n",
              "    <tr>\n",
              "      <th>1</th>\n",
              "      <td>299ae77a4ef350ae0dd37d6bba1c002d03444fb1edb236...</td>\n",
              "      <td>0</td>\n",
              "      <td>Low budget</td>\n",
              "      <td>NaN</td>\n",
              "      <td>NaN</td>\n",
              "      <td>NaN</td>\n",
              "      <td>9b2d5b4678781e53038e91ea5324530a03f27dc1d0e5f6...</td>\n",
              "      <td>9b2d5b4678781e53038e91ea5324530a03f27dc1d0e5f6...</td>\n",
              "      <td>9b2d5b4678781e53038e91ea5324530a03f27dc1d0e5f6...</td>\n",
              "      <td>3d59f7548e1af2151b64135003ce63c0a484c26b9b8b16...</td>\n",
              "      <td>268ad70eb5bc4737a2ae28162cbca30118cc94520e49ef...</td>\n",
              "      <td>5372372f3bf5896820cb2819300c3e681820d82c6efc54...</td>\n",
              "      <td>8d23a6e37e0a6431a8f1b43a91026dcff51170a89a6512...</td>\n",
              "      <td>NaN</td>\n",
              "      <td>b94693673a5f7178d1b114e4004ad52377d3244dd24a3d...</td>\n",
              "    </tr>\n",
              "    <tr>\n",
              "      <th>2</th>\n",
              "      <td>c213697430c006013012dd2aca82dd9732aa0a1a6bca13...</td>\n",
              "      <td>0</td>\n",
              "      <td>Not responding</td>\n",
              "      <td>£121 - £180 Per Week</td>\n",
              "      <td>Full Year Course Stay 40 - 44 weeks</td>\n",
              "      <td>31/08/22</td>\n",
              "      <td>7aae3e886e89fc1187a5c47d6cea1c22998ee610ade1f2...</td>\n",
              "      <td>9b8cc3c63cdf447e463c11544924bf027945cbd29675f7...</td>\n",
              "      <td>e09e10e67812e9d236ad900e5d46b4308fc62f5d69446a...</td>\n",
              "      <td>bbdefa2950f49882f295b1285d4fa9dec45fc4144bfb07...</td>\n",
              "      <td>09076eb7665d1fb9389c7c4517fee0b00e43092eb34821...</td>\n",
              "      <td>11ab03a1a8c367191355c152f39fe28cae5e426fce49ef...</td>\n",
              "      <td>8d23a6e37e0a6431a8f1b43a91026dcff51170a89a6512...</td>\n",
              "      <td>Ensuite</td>\n",
              "      <td>96ea4e2bf04496c044745938c0299c264c3f4ba079e572...</td>\n",
              "    </tr>\n",
              "    <tr>\n",
              "      <th>3</th>\n",
              "      <td>eac9815a500f908736d303e23aa227f0957177b0e6756b...</td>\n",
              "      <td>0</td>\n",
              "      <td>Low budget</td>\n",
              "      <td>0-0</td>\n",
              "      <td>0</td>\n",
              "      <td>NaN</td>\n",
              "      <td>ba2d0a29556ac20f86f45e4543c0825428cba33fd7a9ea...</td>\n",
              "      <td>a5f0d2d08eb0592087e3a3a2f9c1ba2c67cc30f2efd2bd...</td>\n",
              "      <td>e09e10e67812e9d236ad900e5d46b4308fc62f5d69446a...</td>\n",
              "      <td>bbdefa2950f49882f295b1285d4fa9dec45fc4144bfb07...</td>\n",
              "      <td>09076eb7665d1fb9389c7c4517fee0b00e43092eb34821...</td>\n",
              "      <td>19372fa44c57a01c37a5a8418779ca3d99b0b59731fb35...</td>\n",
              "      <td>8d23a6e37e0a6431a8f1b43a91026dcff51170a89a6512...</td>\n",
              "      <td>NaN</td>\n",
              "      <td>1d2b34d8add02a182a4129023766ca4585a8ddced0e5b3...</td>\n",
              "    </tr>\n",
              "    <tr>\n",
              "      <th>4</th>\n",
              "      <td>1deba9e96f404694373de9749ddd1ca8aa7bb823145a6f...</td>\n",
              "      <td>0</td>\n",
              "      <td>Junk lead</td>\n",
              "      <td>NaN</td>\n",
              "      <td>NaN</td>\n",
              "      <td>NaN</td>\n",
              "      <td>9b2d5b4678781e53038e91ea5324530a03f27dc1d0e5f6...</td>\n",
              "      <td>9b2d5b4678781e53038e91ea5324530a03f27dc1d0e5f6...</td>\n",
              "      <td>9b2d5b4678781e53038e91ea5324530a03f27dc1d0e5f6...</td>\n",
              "      <td>3d59f7548e1af2151b64135003ce63c0a484c26b9b8b16...</td>\n",
              "      <td>268ad70eb5bc4737a2ae28162cbca30118cc94520e49ef...</td>\n",
              "      <td>9b2d5b4678781e53038e91ea5324530a03f27dc1d0e5f6...</td>\n",
              "      <td>9b2d5b4678781e53038e91ea5324530a03f27dc1d0e5f6...</td>\n",
              "      <td>NaN</td>\n",
              "      <td>fc10fffd29cfbe93c55158fb47752a7501c211d253468c...</td>\n",
              "    </tr>\n",
              "  </tbody>\n",
              "</table>\n",
              "</div>\n",
              "      <button class=\"colab-df-convert\" onclick=\"convertToInteractive('df-2461167d-3a1a-4be4-9ec8-d544dc2d7592')\"\n",
              "              title=\"Convert this dataframe to an interactive table.\"\n",
              "              style=\"display:none;\">\n",
              "        \n",
              "  <svg xmlns=\"http://www.w3.org/2000/svg\" height=\"24px\"viewBox=\"0 0 24 24\"\n",
              "       width=\"24px\">\n",
              "    <path d=\"M0 0h24v24H0V0z\" fill=\"none\"/>\n",
              "    <path d=\"M18.56 5.44l.94 2.06.94-2.06 2.06-.94-2.06-.94-.94-2.06-.94 2.06-2.06.94zm-11 1L8.5 8.5l.94-2.06 2.06-.94-2.06-.94L8.5 2.5l-.94 2.06-2.06.94zm10 10l.94 2.06.94-2.06 2.06-.94-2.06-.94-.94-2.06-.94 2.06-2.06.94z\"/><path d=\"M17.41 7.96l-1.37-1.37c-.4-.4-.92-.59-1.43-.59-.52 0-1.04.2-1.43.59L10.3 9.45l-7.72 7.72c-.78.78-.78 2.05 0 2.83L4 21.41c.39.39.9.59 1.41.59.51 0 1.02-.2 1.41-.59l7.78-7.78 2.81-2.81c.8-.78.8-2.07 0-2.86zM5.41 20L4 18.59l7.72-7.72 1.47 1.35L5.41 20z\"/>\n",
              "  </svg>\n",
              "      </button>\n",
              "      \n",
              "  <style>\n",
              "    .colab-df-container {\n",
              "      display:flex;\n",
              "      flex-wrap:wrap;\n",
              "      gap: 12px;\n",
              "    }\n",
              "\n",
              "    .colab-df-convert {\n",
              "      background-color: #E8F0FE;\n",
              "      border: none;\n",
              "      border-radius: 50%;\n",
              "      cursor: pointer;\n",
              "      display: none;\n",
              "      fill: #1967D2;\n",
              "      height: 32px;\n",
              "      padding: 0 0 0 0;\n",
              "      width: 32px;\n",
              "    }\n",
              "\n",
              "    .colab-df-convert:hover {\n",
              "      background-color: #E2EBFA;\n",
              "      box-shadow: 0px 1px 2px rgba(60, 64, 67, 0.3), 0px 1px 3px 1px rgba(60, 64, 67, 0.15);\n",
              "      fill: #174EA6;\n",
              "    }\n",
              "\n",
              "    [theme=dark] .colab-df-convert {\n",
              "      background-color: #3B4455;\n",
              "      fill: #D2E3FC;\n",
              "    }\n",
              "\n",
              "    [theme=dark] .colab-df-convert:hover {\n",
              "      background-color: #434B5C;\n",
              "      box-shadow: 0px 1px 3px 1px rgba(0, 0, 0, 0.15);\n",
              "      filter: drop-shadow(0px 1px 2px rgba(0, 0, 0, 0.3));\n",
              "      fill: #FFFFFF;\n",
              "    }\n",
              "  </style>\n",
              "\n",
              "      <script>\n",
              "        const buttonEl =\n",
              "          document.querySelector('#df-2461167d-3a1a-4be4-9ec8-d544dc2d7592 button.colab-df-convert');\n",
              "        buttonEl.style.display =\n",
              "          google.colab.kernel.accessAllowed ? 'block' : 'none';\n",
              "\n",
              "        async function convertToInteractive(key) {\n",
              "          const element = document.querySelector('#df-2461167d-3a1a-4be4-9ec8-d544dc2d7592');\n",
              "          const dataTable =\n",
              "            await google.colab.kernel.invokeFunction('convertToInteractive',\n",
              "                                                     [key], {});\n",
              "          if (!dataTable) return;\n",
              "\n",
              "          const docLinkHtml = 'Like what you see? Visit the ' +\n",
              "            '<a target=\"_blank\" href=https://colab.research.google.com/notebooks/data_table.ipynb>data table notebook</a>'\n",
              "            + ' to learn more about interactive tables.';\n",
              "          element.innerHTML = '';\n",
              "          dataTable['output_type'] = 'display_data';\n",
              "          await google.colab.output.renderOutput(dataTable, element);\n",
              "          const docLink = document.createElement('div');\n",
              "          docLink.innerHTML = docLinkHtml;\n",
              "          element.appendChild(docLink);\n",
              "        }\n",
              "      </script>\n",
              "    </div>\n",
              "  </div>\n",
              "  "
            ]
          },
          "metadata": {},
          "execution_count": 22
        }
      ]
    },
    {
      "cell_type": "code",
      "source": [
        "#replacing all the invalid id values with NaN mentioned in the problem statement\n",
        "new_df.replace('9b2d5b4678781e53038e91ea5324530a03f27dc1d0e5f6c9bc9d493a23be9de0', np.nan,inplace=True)"
      ],
      "metadata": {
        "colab": {
          "base_uri": "https://localhost:8080/"
        },
        "id": "bsw3mYOhY0wm",
        "outputId": "74d94602-10fa-470a-c5c5-3d73f36974d4"
      },
      "execution_count": 23,
      "outputs": [
        {
          "output_type": "stream",
          "name": "stderr",
          "text": [
            "<ipython-input-23-e2ee65b79ae2>:2: SettingWithCopyWarning: \n",
            "A value is trying to be set on a copy of a slice from a DataFrame\n",
            "\n",
            "See the caveats in the documentation: https://pandas.pydata.org/pandas-docs/stable/user_guide/indexing.html#returning-a-view-versus-a-copy\n",
            "  new_df.replace('9b2d5b4678781e53038e91ea5324530a03f27dc1d0e5f6c9bc9d493a23be9de0', np.nan,inplace=True)\n"
          ]
        }
      ]
    },
    {
      "cell_type": "code",
      "source": [
        "#checking for null values in dataset\n",
        "new_df.isna().sum()"
      ],
      "metadata": {
        "id": "a70vGhGG4rEB",
        "colab": {
          "base_uri": "https://localhost:8080/"
        },
        "outputId": "c634d836-4cae-41ab-8830-268a6e706dba"
      },
      "execution_count": 24,
      "outputs": [
        {
          "output_type": "execute_result",
          "data": {
            "text/plain": [
              "Agent_id              0\n",
              "status                0\n",
              "lost_reason        2034\n",
              "budget             2358\n",
              "lease              1492\n",
              "movein             9005\n",
              "source             3923\n",
              "source_city        5494\n",
              "source_country     5360\n",
              "utm_source           50\n",
              "utm_medium         2099\n",
              "des_city           1687\n",
              "des_country        1687\n",
              "room_type         15291\n",
              "lead_id               0\n",
              "dtype: int64"
            ]
          },
          "metadata": {},
          "execution_count": 24
        }
      ]
    },
    {
      "cell_type": "code",
      "source": [
        "#checking null values percentage\n",
        "round(100*(new_df.isnull().sum()/len(new_df.index)), 2)"
      ],
      "metadata": {
        "colab": {
          "base_uri": "https://localhost:8080/"
        },
        "id": "nZQjza4PVxeF",
        "outputId": "062d5ba8-98e3-4499-a299-de1c81b63d81"
      },
      "execution_count": 25,
      "outputs": [
        {
          "output_type": "execute_result",
          "data": {
            "text/plain": [
              "Agent_id           0.00\n",
              "status             0.00\n",
              "lost_reason        6.69\n",
              "budget             7.76\n",
              "lease              4.91\n",
              "movein            29.64\n",
              "source            12.91\n",
              "source_city       18.08\n",
              "source_country    17.64\n",
              "utm_source         0.16\n",
              "utm_medium         6.91\n",
              "des_city           5.55\n",
              "des_country        5.55\n",
              "room_type         50.33\n",
              "lead_id            0.00\n",
              "dtype: float64"
            ]
          },
          "metadata": {},
          "execution_count": 25
        }
      ]
    },
    {
      "cell_type": "markdown",
      "source": [
        "1. Since we have high percentage of missing data for room type column and move in column we will drop these columns from the dataset to aid in better performing model.\n",
        "\n",
        "2. We will also drop lead_id as it is a unique id to all for the leads and lost reason column from our dataset as it will not serve any purpose."
      ],
      "metadata": {
        "id": "UwDxUSgMKgXs"
      }
    },
    {
      "cell_type": "code",
      "source": [
        "#dropping all the 4 coluns from dataset\n",
        "new_df.drop(columns = ['lost_reason','movein','room_type','lead_id'], inplace = True)"
      ],
      "metadata": {
        "colab": {
          "base_uri": "https://localhost:8080/"
        },
        "id": "83lF_sTcUwmN",
        "outputId": "866d10f9-d930-4ce8-8323-88f09f175103"
      },
      "execution_count": 26,
      "outputs": [
        {
          "output_type": "stream",
          "name": "stderr",
          "text": [
            "<ipython-input-26-ed9bcb5b1115>:2: SettingWithCopyWarning: \n",
            "A value is trying to be set on a copy of a slice from a DataFrame\n",
            "\n",
            "See the caveats in the documentation: https://pandas.pydata.org/pandas-docs/stable/user_guide/indexing.html#returning-a-view-versus-a-copy\n",
            "  new_df.drop(columns = ['lost_reason','movein','room_type','lead_id'], inplace = True)\n"
          ]
        }
      ]
    },
    {
      "cell_type": "code",
      "source": [
        "new_df.shape"
      ],
      "metadata": {
        "colab": {
          "base_uri": "https://localhost:8080/"
        },
        "id": "01qGqjE2Vg84",
        "outputId": "0a50b351-e2f0-4996-cdbd-10b316720f91"
      },
      "execution_count": 27,
      "outputs": [
        {
          "output_type": "execute_result",
          "data": {
            "text/plain": [
              "(30382, 11)"
            ]
          },
          "metadata": {},
          "execution_count": 27
        }
      ]
    },
    {
      "cell_type": "markdown",
      "source": [
        "## **1.Budget**"
      ],
      "metadata": {
        "id": "X8dTQMma7b_0"
      }
    },
    {
      "cell_type": "code",
      "source": [
        "new_df.columns"
      ],
      "metadata": {
        "colab": {
          "base_uri": "https://localhost:8080/"
        },
        "id": "z83iH8a1iVUl",
        "outputId": "872f0ffb-42d5-46b8-92cf-42c099b773fa"
      },
      "execution_count": 28,
      "outputs": [
        {
          "output_type": "execute_result",
          "data": {
            "text/plain": [
              "Index(['Agent_id', 'status', 'budget', 'lease', 'source', 'source_city',\n",
              "       'source_country', 'utm_source', 'utm_medium', 'des_city',\n",
              "       'des_country'],\n",
              "      dtype='object')"
            ]
          },
          "metadata": {},
          "execution_count": 28
        }
      ]
    },
    {
      "cell_type": "code",
      "source": [
        "budget= pd.DataFrame(new_df['budget'].value_counts())\n",
        "budget"
      ],
      "metadata": {
        "colab": {
          "base_uri": "https://localhost:8080/",
          "height": 424
        },
        "id": "OeV-yDo9VxbC",
        "outputId": "29d47e70-163c-40c3-b1f7-1ca5497913f8"
      },
      "execution_count": 29,
      "outputs": [
        {
          "output_type": "execute_result",
          "data": {
            "text/plain": [
              "                                 budget\n",
              "£60 - £120 Per week                6497\n",
              "£121 - £180 Per Week               5821\n",
              "0-0                                3799\n",
              "£181 - £240 Per Week               1433\n",
              "100                                 995\n",
              "...                                 ...\n",
              "600-750pm                             1\n",
              "1400-1500                             1\n",
              "0-600-700 per month                   1\n",
              "0-140/week for double occupancy       1\n",
              "0-500 PCM                             1\n",
              "\n",
              "[1397 rows x 1 columns]"
            ],
            "text/html": [
              "\n",
              "  <div id=\"df-04403577-1350-4dde-a207-1fff913a978e\">\n",
              "    <div class=\"colab-df-container\">\n",
              "      <div>\n",
              "<style scoped>\n",
              "    .dataframe tbody tr th:only-of-type {\n",
              "        vertical-align: middle;\n",
              "    }\n",
              "\n",
              "    .dataframe tbody tr th {\n",
              "        vertical-align: top;\n",
              "    }\n",
              "\n",
              "    .dataframe thead th {\n",
              "        text-align: right;\n",
              "    }\n",
              "</style>\n",
              "<table border=\"1\" class=\"dataframe\">\n",
              "  <thead>\n",
              "    <tr style=\"text-align: right;\">\n",
              "      <th></th>\n",
              "      <th>budget</th>\n",
              "    </tr>\n",
              "  </thead>\n",
              "  <tbody>\n",
              "    <tr>\n",
              "      <th>£60 - £120 Per week</th>\n",
              "      <td>6497</td>\n",
              "    </tr>\n",
              "    <tr>\n",
              "      <th>£121 - £180 Per Week</th>\n",
              "      <td>5821</td>\n",
              "    </tr>\n",
              "    <tr>\n",
              "      <th>0-0</th>\n",
              "      <td>3799</td>\n",
              "    </tr>\n",
              "    <tr>\n",
              "      <th>£181 - £240 Per Week</th>\n",
              "      <td>1433</td>\n",
              "    </tr>\n",
              "    <tr>\n",
              "      <th>100</th>\n",
              "      <td>995</td>\n",
              "    </tr>\n",
              "    <tr>\n",
              "      <th>...</th>\n",
              "      <td>...</td>\n",
              "    </tr>\n",
              "    <tr>\n",
              "      <th>600-750pm</th>\n",
              "      <td>1</td>\n",
              "    </tr>\n",
              "    <tr>\n",
              "      <th>1400-1500</th>\n",
              "      <td>1</td>\n",
              "    </tr>\n",
              "    <tr>\n",
              "      <th>0-600-700 per month</th>\n",
              "      <td>1</td>\n",
              "    </tr>\n",
              "    <tr>\n",
              "      <th>0-140/week for double occupancy</th>\n",
              "      <td>1</td>\n",
              "    </tr>\n",
              "    <tr>\n",
              "      <th>0-500 PCM</th>\n",
              "      <td>1</td>\n",
              "    </tr>\n",
              "  </tbody>\n",
              "</table>\n",
              "<p>1397 rows × 1 columns</p>\n",
              "</div>\n",
              "      <button class=\"colab-df-convert\" onclick=\"convertToInteractive('df-04403577-1350-4dde-a207-1fff913a978e')\"\n",
              "              title=\"Convert this dataframe to an interactive table.\"\n",
              "              style=\"display:none;\">\n",
              "        \n",
              "  <svg xmlns=\"http://www.w3.org/2000/svg\" height=\"24px\"viewBox=\"0 0 24 24\"\n",
              "       width=\"24px\">\n",
              "    <path d=\"M0 0h24v24H0V0z\" fill=\"none\"/>\n",
              "    <path d=\"M18.56 5.44l.94 2.06.94-2.06 2.06-.94-2.06-.94-.94-2.06-.94 2.06-2.06.94zm-11 1L8.5 8.5l.94-2.06 2.06-.94-2.06-.94L8.5 2.5l-.94 2.06-2.06.94zm10 10l.94 2.06.94-2.06 2.06-.94-2.06-.94-.94-2.06-.94 2.06-2.06.94z\"/><path d=\"M17.41 7.96l-1.37-1.37c-.4-.4-.92-.59-1.43-.59-.52 0-1.04.2-1.43.59L10.3 9.45l-7.72 7.72c-.78.78-.78 2.05 0 2.83L4 21.41c.39.39.9.59 1.41.59.51 0 1.02-.2 1.41-.59l7.78-7.78 2.81-2.81c.8-.78.8-2.07 0-2.86zM5.41 20L4 18.59l7.72-7.72 1.47 1.35L5.41 20z\"/>\n",
              "  </svg>\n",
              "      </button>\n",
              "      \n",
              "  <style>\n",
              "    .colab-df-container {\n",
              "      display:flex;\n",
              "      flex-wrap:wrap;\n",
              "      gap: 12px;\n",
              "    }\n",
              "\n",
              "    .colab-df-convert {\n",
              "      background-color: #E8F0FE;\n",
              "      border: none;\n",
              "      border-radius: 50%;\n",
              "      cursor: pointer;\n",
              "      display: none;\n",
              "      fill: #1967D2;\n",
              "      height: 32px;\n",
              "      padding: 0 0 0 0;\n",
              "      width: 32px;\n",
              "    }\n",
              "\n",
              "    .colab-df-convert:hover {\n",
              "      background-color: #E2EBFA;\n",
              "      box-shadow: 0px 1px 2px rgba(60, 64, 67, 0.3), 0px 1px 3px 1px rgba(60, 64, 67, 0.15);\n",
              "      fill: #174EA6;\n",
              "    }\n",
              "\n",
              "    [theme=dark] .colab-df-convert {\n",
              "      background-color: #3B4455;\n",
              "      fill: #D2E3FC;\n",
              "    }\n",
              "\n",
              "    [theme=dark] .colab-df-convert:hover {\n",
              "      background-color: #434B5C;\n",
              "      box-shadow: 0px 1px 3px 1px rgba(0, 0, 0, 0.15);\n",
              "      filter: drop-shadow(0px 1px 2px rgba(0, 0, 0, 0.3));\n",
              "      fill: #FFFFFF;\n",
              "    }\n",
              "  </style>\n",
              "\n",
              "      <script>\n",
              "        const buttonEl =\n",
              "          document.querySelector('#df-04403577-1350-4dde-a207-1fff913a978e button.colab-df-convert');\n",
              "        buttonEl.style.display =\n",
              "          google.colab.kernel.accessAllowed ? 'block' : 'none';\n",
              "\n",
              "        async function convertToInteractive(key) {\n",
              "          const element = document.querySelector('#df-04403577-1350-4dde-a207-1fff913a978e');\n",
              "          const dataTable =\n",
              "            await google.colab.kernel.invokeFunction('convertToInteractive',\n",
              "                                                     [key], {});\n",
              "          if (!dataTable) return;\n",
              "\n",
              "          const docLinkHtml = 'Like what you see? Visit the ' +\n",
              "            '<a target=\"_blank\" href=https://colab.research.google.com/notebooks/data_table.ipynb>data table notebook</a>'\n",
              "            + ' to learn more about interactive tables.';\n",
              "          element.innerHTML = '';\n",
              "          dataTable['output_type'] = 'display_data';\n",
              "          await google.colab.output.renderOutput(dataTable, element);\n",
              "          const docLink = document.createElement('div');\n",
              "          docLink.innerHTML = docLinkHtml;\n",
              "          element.appendChild(docLink);\n",
              "        }\n",
              "      </script>\n",
              "    </div>\n",
              "  </div>\n",
              "  "
            ]
          },
          "metadata": {},
          "execution_count": 29
        }
      ]
    },
    {
      "cell_type": "code",
      "source": [
        "#checking unique values and value counts of budget column\n",
        "print('unique values in budget column are:',new_df['budget'].nunique())\n",
        "\n",
        "#checking for null values in budget column\n",
        "print('null values in budget column are:',new_df['budget'].isna().sum())\n",
        "\n",
        "#since most of the values has very low frequency we are only considering values with frequency more than 500 to reduce no of categorical values and avoid high dimensionality\n",
        "print('No of unique categories having frequency greater than 100 :',budget[budget['budget']>500].shape[0])"
      ],
      "metadata": {
        "colab": {
          "base_uri": "https://localhost:8080/"
        },
        "id": "LZSQtnZ9ipZw",
        "outputId": "707ae963-19cf-42e0-ce5a-72f1028e8115"
      },
      "execution_count": 30,
      "outputs": [
        {
          "output_type": "stream",
          "name": "stdout",
          "text": [
            "unique values in budget column are: 1397\n",
            "null values in budget column are: 2358\n",
            "No of unique categories having frequency greater than 100 : 6\n"
          ]
        }
      ]
    },
    {
      "cell_type": "code",
      "source": [
        "\n",
        "#creating a list of values having frequency less than 500\n",
        "low_frequency_values_b=list(budget[budget['budget']<500].index)\n",
        "\n",
        "#creating a list of top 10 most frequent values\n",
        "top_10_frequent_values_b= list(budget.head(10).index)\n",
        "\n",
        "#replacing all lower frequency values with random top 10 most frequent values: \n",
        "#(here we are randomly replacing lower frequency values with top 10 values because we don't want to overpopulate dataset with 1 value as it may lead to creating an imbalanced dataset)\n",
        "\n",
        "from random import sample\n",
        "new_df['budget'] = new_df['budget'].apply(lambda x: sample(top_10_frequent_values_b,1)[0] if x in low_frequency_values_b else x)\n",
        "\n"
      ],
      "metadata": {
        "colab": {
          "base_uri": "https://localhost:8080/"
        },
        "id": "fhsdSsWzixSJ",
        "outputId": "e1778f37-edaa-432d-817a-390c7d0cff02"
      },
      "execution_count": 31,
      "outputs": [
        {
          "output_type": "stream",
          "name": "stderr",
          "text": [
            "<ipython-input-31-d14c37a73213>:11: SettingWithCopyWarning: \n",
            "A value is trying to be set on a copy of a slice from a DataFrame.\n",
            "Try using .loc[row_indexer,col_indexer] = value instead\n",
            "\n",
            "See the caveats in the documentation: https://pandas.pydata.org/pandas-docs/stable/user_guide/indexing.html#returning-a-view-versus-a-copy\n",
            "  new_df['budget'] = new_df['budget'].apply(lambda x: sample(top_10_frequent_values_b,1)[0] if x in low_frequency_values_b else x)\n"
          ]
        }
      ]
    },
    {
      "cell_type": "code",
      "source": [
        "#checking unique and null values after treating budget column\n",
        "print('unique values in budget column:',new_df['budget'].nunique())\n",
        "print('null values in budget column:',new_df['budget'].isna().sum())"
      ],
      "metadata": {
        "colab": {
          "base_uri": "https://localhost:8080/"
        },
        "id": "135rXqsxlVZx",
        "outputId": "5325f6ca-54e4-4869-fee1-d0e5e850c151"
      },
      "execution_count": 32,
      "outputs": [
        {
          "output_type": "stream",
          "name": "stdout",
          "text": [
            "unique values in budget column: 10\n",
            "null values in budget column: 2358\n"
          ]
        }
      ]
    },
    {
      "cell_type": "markdown",
      "source": [
        "We are now left with 10 unique values in budget column"
      ],
      "metadata": {
        "id": "NVTmaO_P3bv2"
      }
    },
    {
      "cell_type": "markdown",
      "source": [
        "## **2.Lease**"
      ],
      "metadata": {
        "id": "QCOUbocp7nAY"
      }
    },
    {
      "cell_type": "code",
      "source": [
        "lease= pd.DataFrame(new_df['lease'].value_counts())\n",
        "lease"
      ],
      "metadata": {
        "colab": {
          "base_uri": "https://localhost:8080/",
          "height": 424
        },
        "id": "PLxWMhkS94xY",
        "outputId": "1a52287d-4b2f-4774-e7f3-49ccc03050f2"
      },
      "execution_count": 33,
      "outputs": [
        {
          "output_type": "execute_result",
          "data": {
            "text/plain": [
              "                                                  lease\n",
              "Full Year Course Stay 40 - 44 weeks                7253\n",
              "0                                                  5018\n",
              "Complete Education Year Stay 50 - 52 weeks         4239\n",
              "51                                                 2526\n",
              "Semester Stay 20 - 24 weeks                        1835\n",
              "...                                                 ...\n",
              "38 Weeks                                              1\n",
              "N/44                                                  1\n",
              "44-51 weeeks                                          1\n",
              "51 weeks ( I don’t mind travelling over an hour)      1\n",
              "78                                                    1\n",
              "\n",
              "[252 rows x 1 columns]"
            ],
            "text/html": [
              "\n",
              "  <div id=\"df-79e0ef55-94f7-4871-ac50-6336d3d7a563\">\n",
              "    <div class=\"colab-df-container\">\n",
              "      <div>\n",
              "<style scoped>\n",
              "    .dataframe tbody tr th:only-of-type {\n",
              "        vertical-align: middle;\n",
              "    }\n",
              "\n",
              "    .dataframe tbody tr th {\n",
              "        vertical-align: top;\n",
              "    }\n",
              "\n",
              "    .dataframe thead th {\n",
              "        text-align: right;\n",
              "    }\n",
              "</style>\n",
              "<table border=\"1\" class=\"dataframe\">\n",
              "  <thead>\n",
              "    <tr style=\"text-align: right;\">\n",
              "      <th></th>\n",
              "      <th>lease</th>\n",
              "    </tr>\n",
              "  </thead>\n",
              "  <tbody>\n",
              "    <tr>\n",
              "      <th>Full Year Course Stay 40 - 44 weeks</th>\n",
              "      <td>7253</td>\n",
              "    </tr>\n",
              "    <tr>\n",
              "      <th>0</th>\n",
              "      <td>5018</td>\n",
              "    </tr>\n",
              "    <tr>\n",
              "      <th>Complete Education Year Stay 50 - 52 weeks</th>\n",
              "      <td>4239</td>\n",
              "    </tr>\n",
              "    <tr>\n",
              "      <th>51</th>\n",
              "      <td>2526</td>\n",
              "    </tr>\n",
              "    <tr>\n",
              "      <th>Semester Stay 20 - 24 weeks</th>\n",
              "      <td>1835</td>\n",
              "    </tr>\n",
              "    <tr>\n",
              "      <th>...</th>\n",
              "      <td>...</td>\n",
              "    </tr>\n",
              "    <tr>\n",
              "      <th>38 Weeks</th>\n",
              "      <td>1</td>\n",
              "    </tr>\n",
              "    <tr>\n",
              "      <th>N/44</th>\n",
              "      <td>1</td>\n",
              "    </tr>\n",
              "    <tr>\n",
              "      <th>44-51 weeeks</th>\n",
              "      <td>1</td>\n",
              "    </tr>\n",
              "    <tr>\n",
              "      <th>51 weeks ( I don’t mind travelling over an hour)</th>\n",
              "      <td>1</td>\n",
              "    </tr>\n",
              "    <tr>\n",
              "      <th>78</th>\n",
              "      <td>1</td>\n",
              "    </tr>\n",
              "  </tbody>\n",
              "</table>\n",
              "<p>252 rows × 1 columns</p>\n",
              "</div>\n",
              "      <button class=\"colab-df-convert\" onclick=\"convertToInteractive('df-79e0ef55-94f7-4871-ac50-6336d3d7a563')\"\n",
              "              title=\"Convert this dataframe to an interactive table.\"\n",
              "              style=\"display:none;\">\n",
              "        \n",
              "  <svg xmlns=\"http://www.w3.org/2000/svg\" height=\"24px\"viewBox=\"0 0 24 24\"\n",
              "       width=\"24px\">\n",
              "    <path d=\"M0 0h24v24H0V0z\" fill=\"none\"/>\n",
              "    <path d=\"M18.56 5.44l.94 2.06.94-2.06 2.06-.94-2.06-.94-.94-2.06-.94 2.06-2.06.94zm-11 1L8.5 8.5l.94-2.06 2.06-.94-2.06-.94L8.5 2.5l-.94 2.06-2.06.94zm10 10l.94 2.06.94-2.06 2.06-.94-2.06-.94-.94-2.06-.94 2.06-2.06.94z\"/><path d=\"M17.41 7.96l-1.37-1.37c-.4-.4-.92-.59-1.43-.59-.52 0-1.04.2-1.43.59L10.3 9.45l-7.72 7.72c-.78.78-.78 2.05 0 2.83L4 21.41c.39.39.9.59 1.41.59.51 0 1.02-.2 1.41-.59l7.78-7.78 2.81-2.81c.8-.78.8-2.07 0-2.86zM5.41 20L4 18.59l7.72-7.72 1.47 1.35L5.41 20z\"/>\n",
              "  </svg>\n",
              "      </button>\n",
              "      \n",
              "  <style>\n",
              "    .colab-df-container {\n",
              "      display:flex;\n",
              "      flex-wrap:wrap;\n",
              "      gap: 12px;\n",
              "    }\n",
              "\n",
              "    .colab-df-convert {\n",
              "      background-color: #E8F0FE;\n",
              "      border: none;\n",
              "      border-radius: 50%;\n",
              "      cursor: pointer;\n",
              "      display: none;\n",
              "      fill: #1967D2;\n",
              "      height: 32px;\n",
              "      padding: 0 0 0 0;\n",
              "      width: 32px;\n",
              "    }\n",
              "\n",
              "    .colab-df-convert:hover {\n",
              "      background-color: #E2EBFA;\n",
              "      box-shadow: 0px 1px 2px rgba(60, 64, 67, 0.3), 0px 1px 3px 1px rgba(60, 64, 67, 0.15);\n",
              "      fill: #174EA6;\n",
              "    }\n",
              "\n",
              "    [theme=dark] .colab-df-convert {\n",
              "      background-color: #3B4455;\n",
              "      fill: #D2E3FC;\n",
              "    }\n",
              "\n",
              "    [theme=dark] .colab-df-convert:hover {\n",
              "      background-color: #434B5C;\n",
              "      box-shadow: 0px 1px 3px 1px rgba(0, 0, 0, 0.15);\n",
              "      filter: drop-shadow(0px 1px 2px rgba(0, 0, 0, 0.3));\n",
              "      fill: #FFFFFF;\n",
              "    }\n",
              "  </style>\n",
              "\n",
              "      <script>\n",
              "        const buttonEl =\n",
              "          document.querySelector('#df-79e0ef55-94f7-4871-ac50-6336d3d7a563 button.colab-df-convert');\n",
              "        buttonEl.style.display =\n",
              "          google.colab.kernel.accessAllowed ? 'block' : 'none';\n",
              "\n",
              "        async function convertToInteractive(key) {\n",
              "          const element = document.querySelector('#df-79e0ef55-94f7-4871-ac50-6336d3d7a563');\n",
              "          const dataTable =\n",
              "            await google.colab.kernel.invokeFunction('convertToInteractive',\n",
              "                                                     [key], {});\n",
              "          if (!dataTable) return;\n",
              "\n",
              "          const docLinkHtml = 'Like what you see? Visit the ' +\n",
              "            '<a target=\"_blank\" href=https://colab.research.google.com/notebooks/data_table.ipynb>data table notebook</a>'\n",
              "            + ' to learn more about interactive tables.';\n",
              "          element.innerHTML = '';\n",
              "          dataTable['output_type'] = 'display_data';\n",
              "          await google.colab.output.renderOutput(dataTable, element);\n",
              "          const docLink = document.createElement('div');\n",
              "          docLink.innerHTML = docLinkHtml;\n",
              "          element.appendChild(docLink);\n",
              "        }\n",
              "      </script>\n",
              "    </div>\n",
              "  </div>\n",
              "  "
            ]
          },
          "metadata": {},
          "execution_count": 33
        }
      ]
    },
    {
      "cell_type": "code",
      "source": [
        "#checking unique values and value counts of lease column\n",
        "print('unique values in lease column are:',new_df['lease'].nunique())\n",
        "\n",
        "#checking for null values in lease column\n",
        "print('null values in lease column are:',new_df['lease'].isna().sum())\n",
        "\n",
        "\n",
        "new_df['lease'].value_counts()\n",
        "lease= pd.DataFrame(new_df['lease'].value_counts())\n",
        "\n",
        "#since most of the values has very low frequency we are only considering values with more 200 frequency to reduce no of categorical values and avoid high dimensionality\n",
        "print('No of unique categories having frequency greater than 100 :',lease[lease['lease']>200].shape[0])\n"
      ],
      "metadata": {
        "colab": {
          "base_uri": "https://localhost:8080/"
        },
        "id": "eC0Ci6S5VxYF",
        "outputId": "bca72fce-a3fe-4084-93f3-c5a0a177c19a"
      },
      "execution_count": 34,
      "outputs": [
        {
          "output_type": "stream",
          "name": "stdout",
          "text": [
            "unique values in lease column are: 252\n",
            "null values in lease column are: 1492\n",
            "No of unique categories having frequency greater than 100 : 14\n"
          ]
        }
      ]
    },
    {
      "cell_type": "code",
      "source": [
        "\n",
        "#creating a list of values having frequency less than 200\n",
        "low_frequency_values_l=list(lease[lease['lease']<200].index)\n",
        "\n",
        "\n",
        "#creating a list of top 10 most frequent values\n",
        "top_10_frequent_values_l= list(lease.head(10).index)\n",
        "\n",
        "#replacing all lower frequency values with random top 10 most frequent values: \n",
        "#(here we are randomly replacing lower frequency values with top 10 values because we don't want to overpopulate dataset with 1 value as it may lead to creating an imbalanced dataset)\n",
        "\n",
        "from random import sample\n",
        "new_df['lease'] = new_df['lease'].apply(lambda x: sample(top_10_frequent_values_l,1)[0] if x in low_frequency_values_l else x)\n",
        "\n",
        "#replacing null values with random top 10 most frequent values: \n",
        "new_df['lease']= new_df['lease'].fillna(sample(top_10_frequent_values_l,1)[0])\n",
        "\n"
      ],
      "metadata": {
        "colab": {
          "base_uri": "https://localhost:8080/"
        },
        "id": "b6hmQBtOVxU-",
        "outputId": "14d921e2-ac44-4a4f-f871-0187a2fd08b3"
      },
      "execution_count": 35,
      "outputs": [
        {
          "output_type": "stream",
          "name": "stderr",
          "text": [
            "<ipython-input-35-d95d3db83194>:12: SettingWithCopyWarning: \n",
            "A value is trying to be set on a copy of a slice from a DataFrame.\n",
            "Try using .loc[row_indexer,col_indexer] = value instead\n",
            "\n",
            "See the caveats in the documentation: https://pandas.pydata.org/pandas-docs/stable/user_guide/indexing.html#returning-a-view-versus-a-copy\n",
            "  new_df['lease'] = new_df['lease'].apply(lambda x: sample(top_10_frequent_values_l,1)[0] if x in low_frequency_values_l else x)\n",
            "<ipython-input-35-d95d3db83194>:15: SettingWithCopyWarning: \n",
            "A value is trying to be set on a copy of a slice from a DataFrame.\n",
            "Try using .loc[row_indexer,col_indexer] = value instead\n",
            "\n",
            "See the caveats in the documentation: https://pandas.pydata.org/pandas-docs/stable/user_guide/indexing.html#returning-a-view-versus-a-copy\n",
            "  new_df['lease']= new_df['lease'].fillna(sample(top_10_frequent_values_l,1)[0])\n"
          ]
        }
      ]
    },
    {
      "cell_type": "code",
      "source": [
        "#checking unique and null values after treating lease column\n",
        "print('unique values in lease column:',new_df['lease'].nunique())\n",
        "print('null values in lease column:',new_df['lease'].isna().sum())\n"
      ],
      "metadata": {
        "id": "jEzAAgvGAC3U",
        "colab": {
          "base_uri": "https://localhost:8080/"
        },
        "outputId": "d2589816-476d-45be-8dd9-d59e901a7913"
      },
      "execution_count": 36,
      "outputs": [
        {
          "output_type": "stream",
          "name": "stdout",
          "text": [
            "unique values in lease column: 14\n",
            "null values in lease column: 0\n"
          ]
        }
      ]
    },
    {
      "cell_type": "markdown",
      "source": [
        "## **3. Agent**"
      ],
      "metadata": {
        "id": "yFDZxtBMCFg2"
      }
    },
    {
      "cell_type": "code",
      "source": [
        "agent= pd.DataFrame(new_df['Agent_id'].value_counts())\n",
        "agent\n"
      ],
      "metadata": {
        "colab": {
          "base_uri": "https://localhost:8080/",
          "height": 0
        },
        "id": "XRELrrabVxLz",
        "outputId": "60371cd0-94df-4eab-dc03-c7ca1331b6c3"
      },
      "execution_count": 37,
      "outputs": [
        {
          "output_type": "execute_result",
          "data": {
            "text/plain": [
              "                                                    Agent_id\n",
              "2fca346db656187102ce806ac732e06a62df0dbb2829e51...      5309\n",
              "96ab6152cb421b4d4012a4903c19004608a342a5f7c6671...       959\n",
              "44864c96fa1c36602f0d045b268981b6cab638a60fc207c...       834\n",
              "fb3e2c0015ad5bcd60d7619ca575a56c15c5d2cd3f01f18...       730\n",
              "eac9815a500f908736d303e23aa227f0957177b0e6756b9...       692\n",
              "...                                                      ...\n",
              "04222ea3e14cb1209b9726defe3efce5196b7afa0a95985...         1\n",
              "c4e2e9a17e38d281b86a468fabd6b9eed6b88a0f229eef8...         1\n",
              "c904d4c3485db6569c9deb41da845d82056e8843eafba8b...         1\n",
              "59e19706d51d39f66711c2653cd7eb1291c94d9b55eb14b...         1\n",
              "48a1a756f2d83f1dc57bbf14052b70a6f40d0fceed66628...         1\n",
              "\n",
              "[117 rows x 1 columns]"
            ],
            "text/html": [
              "\n",
              "  <div id=\"df-9cf26c70-4a3c-44f3-9768-e0dabbcd1dc7\">\n",
              "    <div class=\"colab-df-container\">\n",
              "      <div>\n",
              "<style scoped>\n",
              "    .dataframe tbody tr th:only-of-type {\n",
              "        vertical-align: middle;\n",
              "    }\n",
              "\n",
              "    .dataframe tbody tr th {\n",
              "        vertical-align: top;\n",
              "    }\n",
              "\n",
              "    .dataframe thead th {\n",
              "        text-align: right;\n",
              "    }\n",
              "</style>\n",
              "<table border=\"1\" class=\"dataframe\">\n",
              "  <thead>\n",
              "    <tr style=\"text-align: right;\">\n",
              "      <th></th>\n",
              "      <th>Agent_id</th>\n",
              "    </tr>\n",
              "  </thead>\n",
              "  <tbody>\n",
              "    <tr>\n",
              "      <th>2fca346db656187102ce806ac732e06a62df0dbb2829e511a770556d398e1a6e</th>\n",
              "      <td>5309</td>\n",
              "    </tr>\n",
              "    <tr>\n",
              "      <th>96ab6152cb421b4d4012a4903c19004608a342a5f7c6671a7828b8ad8d5b9489</th>\n",
              "      <td>959</td>\n",
              "    </tr>\n",
              "    <tr>\n",
              "      <th>44864c96fa1c36602f0d045b268981b6cab638a60fc207c89e3bba235f619450</th>\n",
              "      <td>834</td>\n",
              "    </tr>\n",
              "    <tr>\n",
              "      <th>fb3e2c0015ad5bcd60d7619ca575a56c15c5d2cd3f01f18e68c4dfaeee585db5</th>\n",
              "      <td>730</td>\n",
              "    </tr>\n",
              "    <tr>\n",
              "      <th>eac9815a500f908736d303e23aa227f0957177b0e6756b915a3d3cc3a846b83b</th>\n",
              "      <td>692</td>\n",
              "    </tr>\n",
              "    <tr>\n",
              "      <th>...</th>\n",
              "      <td>...</td>\n",
              "    </tr>\n",
              "    <tr>\n",
              "      <th>04222ea3e14cb1209b9726defe3efce5196b7afa0a959854a30401be41f4026d</th>\n",
              "      <td>1</td>\n",
              "    </tr>\n",
              "    <tr>\n",
              "      <th>c4e2e9a17e38d281b86a468fabd6b9eed6b88a0f229eef8aeb3aaa5b640b0cba</th>\n",
              "      <td>1</td>\n",
              "    </tr>\n",
              "    <tr>\n",
              "      <th>c904d4c3485db6569c9deb41da845d82056e8843eafba8bc8a90aaa06df96963</th>\n",
              "      <td>1</td>\n",
              "    </tr>\n",
              "    <tr>\n",
              "      <th>59e19706d51d39f66711c2653cd7eb1291c94d9b55eb14bda74ce4dc636d015a</th>\n",
              "      <td>1</td>\n",
              "    </tr>\n",
              "    <tr>\n",
              "      <th>48a1a756f2d83f1dc57bbf14052b70a6f40d0fceed6662812e34903a9fe90924</th>\n",
              "      <td>1</td>\n",
              "    </tr>\n",
              "  </tbody>\n",
              "</table>\n",
              "<p>117 rows × 1 columns</p>\n",
              "</div>\n",
              "      <button class=\"colab-df-convert\" onclick=\"convertToInteractive('df-9cf26c70-4a3c-44f3-9768-e0dabbcd1dc7')\"\n",
              "              title=\"Convert this dataframe to an interactive table.\"\n",
              "              style=\"display:none;\">\n",
              "        \n",
              "  <svg xmlns=\"http://www.w3.org/2000/svg\" height=\"24px\"viewBox=\"0 0 24 24\"\n",
              "       width=\"24px\">\n",
              "    <path d=\"M0 0h24v24H0V0z\" fill=\"none\"/>\n",
              "    <path d=\"M18.56 5.44l.94 2.06.94-2.06 2.06-.94-2.06-.94-.94-2.06-.94 2.06-2.06.94zm-11 1L8.5 8.5l.94-2.06 2.06-.94-2.06-.94L8.5 2.5l-.94 2.06-2.06.94zm10 10l.94 2.06.94-2.06 2.06-.94-2.06-.94-.94-2.06-.94 2.06-2.06.94z\"/><path d=\"M17.41 7.96l-1.37-1.37c-.4-.4-.92-.59-1.43-.59-.52 0-1.04.2-1.43.59L10.3 9.45l-7.72 7.72c-.78.78-.78 2.05 0 2.83L4 21.41c.39.39.9.59 1.41.59.51 0 1.02-.2 1.41-.59l7.78-7.78 2.81-2.81c.8-.78.8-2.07 0-2.86zM5.41 20L4 18.59l7.72-7.72 1.47 1.35L5.41 20z\"/>\n",
              "  </svg>\n",
              "      </button>\n",
              "      \n",
              "  <style>\n",
              "    .colab-df-container {\n",
              "      display:flex;\n",
              "      flex-wrap:wrap;\n",
              "      gap: 12px;\n",
              "    }\n",
              "\n",
              "    .colab-df-convert {\n",
              "      background-color: #E8F0FE;\n",
              "      border: none;\n",
              "      border-radius: 50%;\n",
              "      cursor: pointer;\n",
              "      display: none;\n",
              "      fill: #1967D2;\n",
              "      height: 32px;\n",
              "      padding: 0 0 0 0;\n",
              "      width: 32px;\n",
              "    }\n",
              "\n",
              "    .colab-df-convert:hover {\n",
              "      background-color: #E2EBFA;\n",
              "      box-shadow: 0px 1px 2px rgba(60, 64, 67, 0.3), 0px 1px 3px 1px rgba(60, 64, 67, 0.15);\n",
              "      fill: #174EA6;\n",
              "    }\n",
              "\n",
              "    [theme=dark] .colab-df-convert {\n",
              "      background-color: #3B4455;\n",
              "      fill: #D2E3FC;\n",
              "    }\n",
              "\n",
              "    [theme=dark] .colab-df-convert:hover {\n",
              "      background-color: #434B5C;\n",
              "      box-shadow: 0px 1px 3px 1px rgba(0, 0, 0, 0.15);\n",
              "      filter: drop-shadow(0px 1px 2px rgba(0, 0, 0, 0.3));\n",
              "      fill: #FFFFFF;\n",
              "    }\n",
              "  </style>\n",
              "\n",
              "      <script>\n",
              "        const buttonEl =\n",
              "          document.querySelector('#df-9cf26c70-4a3c-44f3-9768-e0dabbcd1dc7 button.colab-df-convert');\n",
              "        buttonEl.style.display =\n",
              "          google.colab.kernel.accessAllowed ? 'block' : 'none';\n",
              "\n",
              "        async function convertToInteractive(key) {\n",
              "          const element = document.querySelector('#df-9cf26c70-4a3c-44f3-9768-e0dabbcd1dc7');\n",
              "          const dataTable =\n",
              "            await google.colab.kernel.invokeFunction('convertToInteractive',\n",
              "                                                     [key], {});\n",
              "          if (!dataTable) return;\n",
              "\n",
              "          const docLinkHtml = 'Like what you see? Visit the ' +\n",
              "            '<a target=\"_blank\" href=https://colab.research.google.com/notebooks/data_table.ipynb>data table notebook</a>'\n",
              "            + ' to learn more about interactive tables.';\n",
              "          element.innerHTML = '';\n",
              "          dataTable['output_type'] = 'display_data';\n",
              "          await google.colab.output.renderOutput(dataTable, element);\n",
              "          const docLink = document.createElement('div');\n",
              "          docLink.innerHTML = docLinkHtml;\n",
              "          element.appendChild(docLink);\n",
              "        }\n",
              "      </script>\n",
              "    </div>\n",
              "  </div>\n",
              "  "
            ]
          },
          "metadata": {},
          "execution_count": 37
        }
      ]
    },
    {
      "cell_type": "code",
      "source": [
        "#checking unique values and value counts of agent column\n",
        "print('unique values in agent column are:',new_df['Agent_id'].nunique())\n",
        "\n",
        "#checking for null values in agent column\n",
        "print('null values in agent column are:',new_df['Agent_id'].isna().sum())\n",
        "\n",
        "\n",
        "#since there are many unique categories we are only considering values with frequency more 600  to avoid high dimensionality\n",
        "print('No of unique categories having frequency greater than 600 :',agent[agent['Agent_id']>600].shape[0])"
      ],
      "metadata": {
        "colab": {
          "base_uri": "https://localhost:8080/"
        },
        "id": "Bn8q9kWOVxI8",
        "outputId": "32109502-3a1d-4d55-deef-46b9485ccaac"
      },
      "execution_count": 38,
      "outputs": [
        {
          "output_type": "stream",
          "name": "stdout",
          "text": [
            "unique values in agent column are: 117\n",
            "null values in agent column are: 0\n",
            "No of unique categories having frequency greater than 600 : 7\n"
          ]
        }
      ]
    },
    {
      "cell_type": "code",
      "source": [
        "#creating a list of values having frequency less than 600\n",
        "low_frequency_values_a=list(agent[agent['Agent_id']<600].index)\n",
        "\n",
        "#creating a list of top 10 most frequent values\n",
        "top_10_frequent_values= list(agent.head(10).index)\n",
        "\n",
        "#replacing all lower frequency values with random top 10 most frequent values: \n",
        "#(here we are randomly replacing lower frequency values with top 10 values because we don't want to overpopulate dataset with 1 value as it may lead to creating an imbalanced dataset)\n",
        "\n",
        "from random import sample\n",
        "new_df['Agent_id'] = new_df['Agent_id'].apply(lambda x: sample(top_10_frequent_values,1)[0] if x in low_frequency_values_a else x)\n",
        "\n"
      ],
      "metadata": {
        "colab": {
          "base_uri": "https://localhost:8080/"
        },
        "id": "GGCts55GCTKL",
        "outputId": "12472e51-8435-49a7-8ed6-0cdd98957687"
      },
      "execution_count": 39,
      "outputs": [
        {
          "output_type": "stream",
          "name": "stderr",
          "text": [
            "<ipython-input-39-17f5e85e0661>:11: SettingWithCopyWarning: \n",
            "A value is trying to be set on a copy of a slice from a DataFrame.\n",
            "Try using .loc[row_indexer,col_indexer] = value instead\n",
            "\n",
            "See the caveats in the documentation: https://pandas.pydata.org/pandas-docs/stable/user_guide/indexing.html#returning-a-view-versus-a-copy\n",
            "  new_df['Agent_id'] = new_df['Agent_id'].apply(lambda x: sample(top_10_frequent_values,1)[0] if x in low_frequency_values_a else x)\n"
          ]
        }
      ]
    },
    {
      "cell_type": "code",
      "source": [
        "#checking unique and null values after treating Agent id column\n",
        "print('unique values in agent id column:',new_df['Agent_id'].nunique())\n",
        "print('null values in agent id column:',new_df['Agent_id'].isna().sum())\n"
      ],
      "metadata": {
        "colab": {
          "base_uri": "https://localhost:8080/"
        },
        "id": "WGxm5JqJx1NU",
        "outputId": "6a5cb36d-8338-4426-e0b4-eb982dd44cae"
      },
      "execution_count": 40,
      "outputs": [
        {
          "output_type": "stream",
          "name": "stdout",
          "text": [
            "unique values in agent id column: 10\n",
            "null values in agent id column: 0\n"
          ]
        }
      ]
    },
    {
      "cell_type": "markdown",
      "source": [
        "## **4. Source**"
      ],
      "metadata": {
        "id": "QlaWD-GOy4_Q"
      }
    },
    {
      "cell_type": "code",
      "source": [
        "new_df.columns"
      ],
      "metadata": {
        "colab": {
          "base_uri": "https://localhost:8080/"
        },
        "id": "bDOyKqTNsDan",
        "outputId": "661dc0f0-e317-4c15-e87f-66f8e7630776"
      },
      "execution_count": 41,
      "outputs": [
        {
          "output_type": "execute_result",
          "data": {
            "text/plain": [
              "Index(['Agent_id', 'status', 'budget', 'lease', 'source', 'source_city',\n",
              "       'source_country', 'utm_source', 'utm_medium', 'des_city',\n",
              "       'des_country'],\n",
              "      dtype='object')"
            ]
          },
          "metadata": {},
          "execution_count": 41
        }
      ]
    },
    {
      "cell_type": "code",
      "source": [
        "source= pd.DataFrame(new_df['source'].value_counts())\n",
        "source\n"
      ],
      "metadata": {
        "colab": {
          "base_uri": "https://localhost:8080/",
          "height": 0
        },
        "id": "hWwA4C3UsDU3",
        "outputId": "f5c76865-7665-4ce2-c368-cd98200e0180"
      },
      "execution_count": 42,
      "outputs": [
        {
          "output_type": "execute_result",
          "data": {
            "text/plain": [
              "                                                    source\n",
              "7aae3e886e89fc1187a5c47d6cea1c22998ee610ade1f2b...   12622\n",
              "7bcfca0e9d73371699b0adbf1c691e02108fa64f02f4dbe...    2526\n",
              "ba2d0a29556ac20f86f45e4543c0825428cba33fd7a9eaa...    2415\n",
              "d684761c17c11590f6e2525b48141cb2c0c6f2be5df4e22...    1433\n",
              "9ba9134a91cfc6b52ac8d480e9ad37896ca4ac216e2d795...    1409\n",
              "...                                                    ...\n",
              "7017f01ae3460d4316d2037c64ed83c7f98526222d9a53c...       1\n",
              "e0a1014923e24677afd063f5d36538870f3bef2ec35c307...       1\n",
              "033a4a60dfe036110908aa92c4aa3c7ee43456a473f9a43...       1\n",
              "9d202fc6648a394eaaf1f8fec0cc84799178771fa60b829...       1\n",
              "93bee3e177d17c128e6a6af7b88fd675d7ec729b1a88ae1...       1\n",
              "\n",
              "[527 rows x 1 columns]"
            ],
            "text/html": [
              "\n",
              "  <div id=\"df-e25a2218-ab88-4fb7-809f-d3dde8d8c310\">\n",
              "    <div class=\"colab-df-container\">\n",
              "      <div>\n",
              "<style scoped>\n",
              "    .dataframe tbody tr th:only-of-type {\n",
              "        vertical-align: middle;\n",
              "    }\n",
              "\n",
              "    .dataframe tbody tr th {\n",
              "        vertical-align: top;\n",
              "    }\n",
              "\n",
              "    .dataframe thead th {\n",
              "        text-align: right;\n",
              "    }\n",
              "</style>\n",
              "<table border=\"1\" class=\"dataframe\">\n",
              "  <thead>\n",
              "    <tr style=\"text-align: right;\">\n",
              "      <th></th>\n",
              "      <th>source</th>\n",
              "    </tr>\n",
              "  </thead>\n",
              "  <tbody>\n",
              "    <tr>\n",
              "      <th>7aae3e886e89fc1187a5c47d6cea1c22998ee610ade1f2b7c51be879f0c37ca8</th>\n",
              "      <td>12622</td>\n",
              "    </tr>\n",
              "    <tr>\n",
              "      <th>7bcfca0e9d73371699b0adbf1c691e02108fa64f02f4dbe24a0217f139a9b916</th>\n",
              "      <td>2526</td>\n",
              "    </tr>\n",
              "    <tr>\n",
              "      <th>ba2d0a29556ac20f86f45e4543c0825428cba33fd7a9eaa29e3f169d2ca43b2b</th>\n",
              "      <td>2415</td>\n",
              "    </tr>\n",
              "    <tr>\n",
              "      <th>d684761c17c11590f6e2525b48141cb2c0c6f2be5df4e229dae06e64c5c41b64</th>\n",
              "      <td>1433</td>\n",
              "    </tr>\n",
              "    <tr>\n",
              "      <th>9ba9134a91cfc6b52ac8d480e9ad37896ca4ac216e2d795fdb7d75a63d6c60af</th>\n",
              "      <td>1409</td>\n",
              "    </tr>\n",
              "    <tr>\n",
              "      <th>...</th>\n",
              "      <td>...</td>\n",
              "    </tr>\n",
              "    <tr>\n",
              "      <th>7017f01ae3460d4316d2037c64ed83c7f98526222d9a53c3d92bee9ee69b1000</th>\n",
              "      <td>1</td>\n",
              "    </tr>\n",
              "    <tr>\n",
              "      <th>e0a1014923e24677afd063f5d36538870f3bef2ec35c307918154b48e860fc40</th>\n",
              "      <td>1</td>\n",
              "    </tr>\n",
              "    <tr>\n",
              "      <th>033a4a60dfe036110908aa92c4aa3c7ee43456a473f9a431e247ba8682178f47</th>\n",
              "      <td>1</td>\n",
              "    </tr>\n",
              "    <tr>\n",
              "      <th>9d202fc6648a394eaaf1f8fec0cc84799178771fa60b8293f6e4dc423ac4f596</th>\n",
              "      <td>1</td>\n",
              "    </tr>\n",
              "    <tr>\n",
              "      <th>93bee3e177d17c128e6a6af7b88fd675d7ec729b1a88ae13c582248dfd702378</th>\n",
              "      <td>1</td>\n",
              "    </tr>\n",
              "  </tbody>\n",
              "</table>\n",
              "<p>527 rows × 1 columns</p>\n",
              "</div>\n",
              "      <button class=\"colab-df-convert\" onclick=\"convertToInteractive('df-e25a2218-ab88-4fb7-809f-d3dde8d8c310')\"\n",
              "              title=\"Convert this dataframe to an interactive table.\"\n",
              "              style=\"display:none;\">\n",
              "        \n",
              "  <svg xmlns=\"http://www.w3.org/2000/svg\" height=\"24px\"viewBox=\"0 0 24 24\"\n",
              "       width=\"24px\">\n",
              "    <path d=\"M0 0h24v24H0V0z\" fill=\"none\"/>\n",
              "    <path d=\"M18.56 5.44l.94 2.06.94-2.06 2.06-.94-2.06-.94-.94-2.06-.94 2.06-2.06.94zm-11 1L8.5 8.5l.94-2.06 2.06-.94-2.06-.94L8.5 2.5l-.94 2.06-2.06.94zm10 10l.94 2.06.94-2.06 2.06-.94-2.06-.94-.94-2.06-.94 2.06-2.06.94z\"/><path d=\"M17.41 7.96l-1.37-1.37c-.4-.4-.92-.59-1.43-.59-.52 0-1.04.2-1.43.59L10.3 9.45l-7.72 7.72c-.78.78-.78 2.05 0 2.83L4 21.41c.39.39.9.59 1.41.59.51 0 1.02-.2 1.41-.59l7.78-7.78 2.81-2.81c.8-.78.8-2.07 0-2.86zM5.41 20L4 18.59l7.72-7.72 1.47 1.35L5.41 20z\"/>\n",
              "  </svg>\n",
              "      </button>\n",
              "      \n",
              "  <style>\n",
              "    .colab-df-container {\n",
              "      display:flex;\n",
              "      flex-wrap:wrap;\n",
              "      gap: 12px;\n",
              "    }\n",
              "\n",
              "    .colab-df-convert {\n",
              "      background-color: #E8F0FE;\n",
              "      border: none;\n",
              "      border-radius: 50%;\n",
              "      cursor: pointer;\n",
              "      display: none;\n",
              "      fill: #1967D2;\n",
              "      height: 32px;\n",
              "      padding: 0 0 0 0;\n",
              "      width: 32px;\n",
              "    }\n",
              "\n",
              "    .colab-df-convert:hover {\n",
              "      background-color: #E2EBFA;\n",
              "      box-shadow: 0px 1px 2px rgba(60, 64, 67, 0.3), 0px 1px 3px 1px rgba(60, 64, 67, 0.15);\n",
              "      fill: #174EA6;\n",
              "    }\n",
              "\n",
              "    [theme=dark] .colab-df-convert {\n",
              "      background-color: #3B4455;\n",
              "      fill: #D2E3FC;\n",
              "    }\n",
              "\n",
              "    [theme=dark] .colab-df-convert:hover {\n",
              "      background-color: #434B5C;\n",
              "      box-shadow: 0px 1px 3px 1px rgba(0, 0, 0, 0.15);\n",
              "      filter: drop-shadow(0px 1px 2px rgba(0, 0, 0, 0.3));\n",
              "      fill: #FFFFFF;\n",
              "    }\n",
              "  </style>\n",
              "\n",
              "      <script>\n",
              "        const buttonEl =\n",
              "          document.querySelector('#df-e25a2218-ab88-4fb7-809f-d3dde8d8c310 button.colab-df-convert');\n",
              "        buttonEl.style.display =\n",
              "          google.colab.kernel.accessAllowed ? 'block' : 'none';\n",
              "\n",
              "        async function convertToInteractive(key) {\n",
              "          const element = document.querySelector('#df-e25a2218-ab88-4fb7-809f-d3dde8d8c310');\n",
              "          const dataTable =\n",
              "            await google.colab.kernel.invokeFunction('convertToInteractive',\n",
              "                                                     [key], {});\n",
              "          if (!dataTable) return;\n",
              "\n",
              "          const docLinkHtml = 'Like what you see? Visit the ' +\n",
              "            '<a target=\"_blank\" href=https://colab.research.google.com/notebooks/data_table.ipynb>data table notebook</a>'\n",
              "            + ' to learn more about interactive tables.';\n",
              "          element.innerHTML = '';\n",
              "          dataTable['output_type'] = 'display_data';\n",
              "          await google.colab.output.renderOutput(dataTable, element);\n",
              "          const docLink = document.createElement('div');\n",
              "          docLink.innerHTML = docLinkHtml;\n",
              "          element.appendChild(docLink);\n",
              "        }\n",
              "      </script>\n",
              "    </div>\n",
              "  </div>\n",
              "  "
            ]
          },
          "metadata": {},
          "execution_count": 42
        }
      ]
    },
    {
      "cell_type": "code",
      "source": [
        "#checking unique values and value counts of source column\n",
        "print('unique values in agent column are:',new_df['source'].nunique())\n",
        "\n",
        "#checking for null values in source column\n",
        "print('null values in agent column are:',new_df['source'].isna().sum())\n",
        "\n",
        "\n",
        "#since there are many unique categories we are only considering values with frequency more 200  to avoid high dimensionality\n",
        "print('No of unique categories having frequency greater than 200 :',source[source['source']>200].shape[0])"
      ],
      "metadata": {
        "colab": {
          "base_uri": "https://localhost:8080/"
        },
        "id": "EfmLBWiXsDRt",
        "outputId": "da33780f-cc48-4544-e42b-694ffa8a95d5"
      },
      "execution_count": 43,
      "outputs": [
        {
          "output_type": "stream",
          "name": "stdout",
          "text": [
            "unique values in agent column are: 527\n",
            "null values in agent column are: 3923\n",
            "No of unique categories having frequency greater than 200 : 11\n"
          ]
        }
      ]
    },
    {
      "cell_type": "code",
      "source": [
        "#creating a list of values having frequency less than 200\n",
        "low_frequency_values_s=list(source[source['source']<200].index)\n",
        "\n",
        "#creating a list of top 5 most frequent values\n",
        "top_5_frequent_values_s= list(source.head(5).index)\n",
        "\n",
        "#replacing all lower frequency values with random top 5 most frequent values: \n",
        "#(here we are randomly replacing lower frequency values with top 5 values because we don't want to overpopulate dataset with 1 value as it may lead to creating an imbalanced dataset)\n",
        "\n",
        "from random import sample\n",
        "new_df['source'] = new_df['source'].apply(lambda x: sample(top_5_frequent_values_s,1)[0] if x in low_frequency_values_s else x)\n",
        "\n",
        "#replacing null values and null values with random top 5 most frequent values: \n",
        "new_df['source']= new_df['source'].fillna(sample(top_5_frequent_values_s,1)[0])\n"
      ],
      "metadata": {
        "colab": {
          "base_uri": "https://localhost:8080/"
        },
        "id": "YK0HkxBnsDMs",
        "outputId": "196e7a8d-47f0-4fb5-b6f4-a6009875821e"
      },
      "execution_count": 44,
      "outputs": [
        {
          "output_type": "stream",
          "name": "stderr",
          "text": [
            "<ipython-input-44-ab42676427d5>:11: SettingWithCopyWarning: \n",
            "A value is trying to be set on a copy of a slice from a DataFrame.\n",
            "Try using .loc[row_indexer,col_indexer] = value instead\n",
            "\n",
            "See the caveats in the documentation: https://pandas.pydata.org/pandas-docs/stable/user_guide/indexing.html#returning-a-view-versus-a-copy\n",
            "  new_df['source'] = new_df['source'].apply(lambda x: sample(top_5_frequent_values_s,1)[0] if x in low_frequency_values_s else x)\n",
            "<ipython-input-44-ab42676427d5>:14: SettingWithCopyWarning: \n",
            "A value is trying to be set on a copy of a slice from a DataFrame.\n",
            "Try using .loc[row_indexer,col_indexer] = value instead\n",
            "\n",
            "See the caveats in the documentation: https://pandas.pydata.org/pandas-docs/stable/user_guide/indexing.html#returning-a-view-versus-a-copy\n",
            "  new_df['source']= new_df['source'].fillna(sample(top_5_frequent_values_s,1)[0])\n"
          ]
        }
      ]
    },
    {
      "cell_type": "code",
      "source": [
        "#checking unique and null values after treating Agent id column\n",
        "print('unique values in agent id column:',new_df['source'].nunique())\n",
        "print('null values in agent id column:',new_df['source'].isna().sum())"
      ],
      "metadata": {
        "colab": {
          "base_uri": "https://localhost:8080/"
        },
        "id": "01aE1PiV4Knd",
        "outputId": "7f90381f-5a4b-4b63-e02f-3af0a8a9ba63"
      },
      "execution_count": 45,
      "outputs": [
        {
          "output_type": "stream",
          "name": "stdout",
          "text": [
            "unique values in agent id column: 11\n",
            "null values in agent id column: 0\n"
          ]
        }
      ]
    },
    {
      "cell_type": "markdown",
      "source": [
        "## **5. source city**"
      ],
      "metadata": {
        "id": "wy2zviP45r9P"
      }
    },
    {
      "cell_type": "code",
      "source": [
        "source_city= pd.DataFrame(new_df['source_city'].value_counts())\n",
        "source_city"
      ],
      "metadata": {
        "colab": {
          "base_uri": "https://localhost:8080/",
          "height": 0
        },
        "id": "shAYRWph4Kaa",
        "outputId": "8301a7a7-1260-4b22-f815-7e9fb57caa67"
      },
      "execution_count": 46,
      "outputs": [
        {
          "output_type": "execute_result",
          "data": {
            "text/plain": [
              "                                                    source_city\n",
              "ecc0e7dc084f141b29479058967d0bc07dee25d9690a98e...         2045\n",
              "b384863fa1f6e091164b74219726eee0b9dd47776b91a4d...          965\n",
              "9f2ba6981e36ea0fca6c16f42e6413d788d2a7499b8b7f4...          543\n",
              "7d1550b844ff586a6023216c06263105eed0a849a2a1f69...          489\n",
              "810c069040f6a9b16fdf976a901755508a87cb0224b169d...          433\n",
              "...                                                         ...\n",
              "41c0c676f76bec1e213d557a1932b6a2f39ececb3e9724e...            1\n",
              "e49b78df2bf49e56f607b967f3f7bdf0134c63c224e4c7c...            1\n",
              "af748057fa2956d8465363eb298976aed8f477c836b66b7...            1\n",
              "ed3b3f8ecd4fce5cea4e73b2086917006a0a0eaf2d2aaee...            1\n",
              "00d355ceab3d11d8649c2775312f45adf1cf84607ad71b3...            1\n",
              "\n",
              "[3431 rows x 1 columns]"
            ],
            "text/html": [
              "\n",
              "  <div id=\"df-e114541d-8d50-49d9-b35f-bddb311aedec\">\n",
              "    <div class=\"colab-df-container\">\n",
              "      <div>\n",
              "<style scoped>\n",
              "    .dataframe tbody tr th:only-of-type {\n",
              "        vertical-align: middle;\n",
              "    }\n",
              "\n",
              "    .dataframe tbody tr th {\n",
              "        vertical-align: top;\n",
              "    }\n",
              "\n",
              "    .dataframe thead th {\n",
              "        text-align: right;\n",
              "    }\n",
              "</style>\n",
              "<table border=\"1\" class=\"dataframe\">\n",
              "  <thead>\n",
              "    <tr style=\"text-align: right;\">\n",
              "      <th></th>\n",
              "      <th>source_city</th>\n",
              "    </tr>\n",
              "  </thead>\n",
              "  <tbody>\n",
              "    <tr>\n",
              "      <th>ecc0e7dc084f141b29479058967d0bc07dee25d9690a98ee4e6fdad5168274d7</th>\n",
              "      <td>2045</td>\n",
              "    </tr>\n",
              "    <tr>\n",
              "      <th>b384863fa1f6e091164b74219726eee0b9dd47776b91a4dc71fd0516630d21ec</th>\n",
              "      <td>965</td>\n",
              "    </tr>\n",
              "    <tr>\n",
              "      <th>9f2ba6981e36ea0fca6c16f42e6413d788d2a7499b8b7f418c5d76f12d191f02</th>\n",
              "      <td>543</td>\n",
              "    </tr>\n",
              "    <tr>\n",
              "      <th>7d1550b844ff586a6023216c06263105eed0a849a2a1f69bb8862ab288d8cdab</th>\n",
              "      <td>489</td>\n",
              "    </tr>\n",
              "    <tr>\n",
              "      <th>810c069040f6a9b16fdf976a901755508a87cb0224b169d4b5d803357e647947</th>\n",
              "      <td>433</td>\n",
              "    </tr>\n",
              "    <tr>\n",
              "      <th>...</th>\n",
              "      <td>...</td>\n",
              "    </tr>\n",
              "    <tr>\n",
              "      <th>41c0c676f76bec1e213d557a1932b6a2f39ececb3e9724efbb349a0fc9571857</th>\n",
              "      <td>1</td>\n",
              "    </tr>\n",
              "    <tr>\n",
              "      <th>e49b78df2bf49e56f607b967f3f7bdf0134c63c224e4c7c026eea3526cde3c2f</th>\n",
              "      <td>1</td>\n",
              "    </tr>\n",
              "    <tr>\n",
              "      <th>af748057fa2956d8465363eb298976aed8f477c836b66b7135bae78dadfa1ce5</th>\n",
              "      <td>1</td>\n",
              "    </tr>\n",
              "    <tr>\n",
              "      <th>ed3b3f8ecd4fce5cea4e73b2086917006a0a0eaf2d2aaee6852b7e86fa167379</th>\n",
              "      <td>1</td>\n",
              "    </tr>\n",
              "    <tr>\n",
              "      <th>00d355ceab3d11d8649c2775312f45adf1cf84607ad71b37e0926b2839b18808</th>\n",
              "      <td>1</td>\n",
              "    </tr>\n",
              "  </tbody>\n",
              "</table>\n",
              "<p>3431 rows × 1 columns</p>\n",
              "</div>\n",
              "      <button class=\"colab-df-convert\" onclick=\"convertToInteractive('df-e114541d-8d50-49d9-b35f-bddb311aedec')\"\n",
              "              title=\"Convert this dataframe to an interactive table.\"\n",
              "              style=\"display:none;\">\n",
              "        \n",
              "  <svg xmlns=\"http://www.w3.org/2000/svg\" height=\"24px\"viewBox=\"0 0 24 24\"\n",
              "       width=\"24px\">\n",
              "    <path d=\"M0 0h24v24H0V0z\" fill=\"none\"/>\n",
              "    <path d=\"M18.56 5.44l.94 2.06.94-2.06 2.06-.94-2.06-.94-.94-2.06-.94 2.06-2.06.94zm-11 1L8.5 8.5l.94-2.06 2.06-.94-2.06-.94L8.5 2.5l-.94 2.06-2.06.94zm10 10l.94 2.06.94-2.06 2.06-.94-2.06-.94-.94-2.06-.94 2.06-2.06.94z\"/><path d=\"M17.41 7.96l-1.37-1.37c-.4-.4-.92-.59-1.43-.59-.52 0-1.04.2-1.43.59L10.3 9.45l-7.72 7.72c-.78.78-.78 2.05 0 2.83L4 21.41c.39.39.9.59 1.41.59.51 0 1.02-.2 1.41-.59l7.78-7.78 2.81-2.81c.8-.78.8-2.07 0-2.86zM5.41 20L4 18.59l7.72-7.72 1.47 1.35L5.41 20z\"/>\n",
              "  </svg>\n",
              "      </button>\n",
              "      \n",
              "  <style>\n",
              "    .colab-df-container {\n",
              "      display:flex;\n",
              "      flex-wrap:wrap;\n",
              "      gap: 12px;\n",
              "    }\n",
              "\n",
              "    .colab-df-convert {\n",
              "      background-color: #E8F0FE;\n",
              "      border: none;\n",
              "      border-radius: 50%;\n",
              "      cursor: pointer;\n",
              "      display: none;\n",
              "      fill: #1967D2;\n",
              "      height: 32px;\n",
              "      padding: 0 0 0 0;\n",
              "      width: 32px;\n",
              "    }\n",
              "\n",
              "    .colab-df-convert:hover {\n",
              "      background-color: #E2EBFA;\n",
              "      box-shadow: 0px 1px 2px rgba(60, 64, 67, 0.3), 0px 1px 3px 1px rgba(60, 64, 67, 0.15);\n",
              "      fill: #174EA6;\n",
              "    }\n",
              "\n",
              "    [theme=dark] .colab-df-convert {\n",
              "      background-color: #3B4455;\n",
              "      fill: #D2E3FC;\n",
              "    }\n",
              "\n",
              "    [theme=dark] .colab-df-convert:hover {\n",
              "      background-color: #434B5C;\n",
              "      box-shadow: 0px 1px 3px 1px rgba(0, 0, 0, 0.15);\n",
              "      filter: drop-shadow(0px 1px 2px rgba(0, 0, 0, 0.3));\n",
              "      fill: #FFFFFF;\n",
              "    }\n",
              "  </style>\n",
              "\n",
              "      <script>\n",
              "        const buttonEl =\n",
              "          document.querySelector('#df-e114541d-8d50-49d9-b35f-bddb311aedec button.colab-df-convert');\n",
              "        buttonEl.style.display =\n",
              "          google.colab.kernel.accessAllowed ? 'block' : 'none';\n",
              "\n",
              "        async function convertToInteractive(key) {\n",
              "          const element = document.querySelector('#df-e114541d-8d50-49d9-b35f-bddb311aedec');\n",
              "          const dataTable =\n",
              "            await google.colab.kernel.invokeFunction('convertToInteractive',\n",
              "                                                     [key], {});\n",
              "          if (!dataTable) return;\n",
              "\n",
              "          const docLinkHtml = 'Like what you see? Visit the ' +\n",
              "            '<a target=\"_blank\" href=https://colab.research.google.com/notebooks/data_table.ipynb>data table notebook</a>'\n",
              "            + ' to learn more about interactive tables.';\n",
              "          element.innerHTML = '';\n",
              "          dataTable['output_type'] = 'display_data';\n",
              "          await google.colab.output.renderOutput(dataTable, element);\n",
              "          const docLink = document.createElement('div');\n",
              "          docLink.innerHTML = docLinkHtml;\n",
              "          element.appendChild(docLink);\n",
              "        }\n",
              "      </script>\n",
              "    </div>\n",
              "  </div>\n",
              "  "
            ]
          },
          "metadata": {},
          "execution_count": 46
        }
      ]
    },
    {
      "cell_type": "code",
      "source": [
        "#checking unique values and value counts of source city column\n",
        "print('unique values in agent column are:',new_df['source_city'].nunique())\n",
        "\n",
        "#checking for null values in source city column\n",
        "print('null values in agent column are:',new_df['source_city'].isna().sum())\n"
      ],
      "metadata": {
        "colab": {
          "base_uri": "https://localhost:8080/"
        },
        "id": "3Xd7xIoQ4KXl",
        "outputId": "ae1ed698-66a2-4775-c5ed-5fd85794d096"
      },
      "execution_count": 47,
      "outputs": [
        {
          "output_type": "stream",
          "name": "stdout",
          "text": [
            "unique values in agent column are: 3431\n",
            "null values in agent column are: 5494\n"
          ]
        }
      ]
    },
    {
      "cell_type": "markdown",
      "source": [
        "Since we have huge amount of null values and high number of unique categories we will drop source city column in order to reduce complexity of model."
      ],
      "metadata": {
        "id": "v_xZUhPF7Zpg"
      }
    },
    {
      "cell_type": "code",
      "source": [
        "new_df.drop(columns = 'source_city', inplace = True)"
      ],
      "metadata": {
        "colab": {
          "base_uri": "https://localhost:8080/"
        },
        "id": "g9hhTqKY7mEU",
        "outputId": "3afda92f-e68d-47e7-90d7-0e6b93640af1"
      },
      "execution_count": 48,
      "outputs": [
        {
          "output_type": "stream",
          "name": "stderr",
          "text": [
            "<ipython-input-48-8191e853b171>:1: SettingWithCopyWarning: \n",
            "A value is trying to be set on a copy of a slice from a DataFrame\n",
            "\n",
            "See the caveats in the documentation: https://pandas.pydata.org/pandas-docs/stable/user_guide/indexing.html#returning-a-view-versus-a-copy\n",
            "  new_df.drop(columns = 'source_city', inplace = True)\n"
          ]
        }
      ]
    },
    {
      "cell_type": "code",
      "source": [
        "new_df.columns"
      ],
      "metadata": {
        "colab": {
          "base_uri": "https://localhost:8080/"
        },
        "id": "EfP_3lfN7mAd",
        "outputId": "8b773e98-4f9d-4ddd-d1f2-7d03149f20a9"
      },
      "execution_count": 49,
      "outputs": [
        {
          "output_type": "execute_result",
          "data": {
            "text/plain": [
              "Index(['Agent_id', 'status', 'budget', 'lease', 'source', 'source_country',\n",
              "       'utm_source', 'utm_medium', 'des_city', 'des_country'],\n",
              "      dtype='object')"
            ]
          },
          "metadata": {},
          "execution_count": 49
        }
      ]
    },
    {
      "cell_type": "markdown",
      "source": [
        "## **6. source_country**"
      ],
      "metadata": {
        "id": "d-lhGvvQ8dnx"
      }
    },
    {
      "cell_type": "code",
      "source": [
        "source_country= pd.DataFrame(new_df['source_country'].value_counts())\n",
        "source_country"
      ],
      "metadata": {
        "colab": {
          "base_uri": "https://localhost:8080/",
          "height": 424
        },
        "id": "f9AJa-6m7l9s",
        "outputId": "bfc40999-c58e-4e1d-ad73-9da41b922f7d"
      },
      "execution_count": 50,
      "outputs": [
        {
          "output_type": "execute_result",
          "data": {
            "text/plain": [
              "                                                    source_country\n",
              "e09e10e67812e9d236ad900e5d46b4308fc62f5d69446a9...           12383\n",
              "8da82000ef9c4468ba47362a924b895e40662fed846942a...            4627\n",
              "e39b0c5e88f19053d3a917669bc9d60729f351e064ca0c9...            1377\n",
              "38fe804a1f9ec032ad876bd7192c1f706e1402831e163cf...             652\n",
              "0207c236c5ad89235d814b1e1807f6fdc1930810439489f...             329\n",
              "...                                                            ...\n",
              "7ad38f505923bc53112ecf77e03b2e71f9d749face6297a...               1\n",
              "9ae66d359cdd721900122aec113fd8da17a60b983d6da1f...               1\n",
              "b555db8373398f82b873e1f056dd27806d5a75bb4ffaad2...               1\n",
              "1dee9c9358d9460f0b5c2d61bca9607f5510ffff6e3bf64...               1\n",
              "dec99447cb0e9723a8690c856b07e4f0883aae8d6170c1f...               1\n",
              "\n",
              "[176 rows x 1 columns]"
            ],
            "text/html": [
              "\n",
              "  <div id=\"df-e8aea6f1-d42c-4a4e-aca5-986f303c58c5\">\n",
              "    <div class=\"colab-df-container\">\n",
              "      <div>\n",
              "<style scoped>\n",
              "    .dataframe tbody tr th:only-of-type {\n",
              "        vertical-align: middle;\n",
              "    }\n",
              "\n",
              "    .dataframe tbody tr th {\n",
              "        vertical-align: top;\n",
              "    }\n",
              "\n",
              "    .dataframe thead th {\n",
              "        text-align: right;\n",
              "    }\n",
              "</style>\n",
              "<table border=\"1\" class=\"dataframe\">\n",
              "  <thead>\n",
              "    <tr style=\"text-align: right;\">\n",
              "      <th></th>\n",
              "      <th>source_country</th>\n",
              "    </tr>\n",
              "  </thead>\n",
              "  <tbody>\n",
              "    <tr>\n",
              "      <th>e09e10e67812e9d236ad900e5d46b4308fc62f5d69446a9750aa698e797e9c96</th>\n",
              "      <td>12383</td>\n",
              "    </tr>\n",
              "    <tr>\n",
              "      <th>8da82000ef9c4468ba47362a924b895e40662fed846942a1870a674e5c6d1fc2</th>\n",
              "      <td>4627</td>\n",
              "    </tr>\n",
              "    <tr>\n",
              "      <th>e39b0c5e88f19053d3a917669bc9d60729f351e064ca0c94f5dc73f4e676333f</th>\n",
              "      <td>1377</td>\n",
              "    </tr>\n",
              "    <tr>\n",
              "      <th>38fe804a1f9ec032ad876bd7192c1f706e1402831e163cf72702b1f451f40cac</th>\n",
              "      <td>652</td>\n",
              "    </tr>\n",
              "    <tr>\n",
              "      <th>0207c236c5ad89235d814b1e1807f6fdc1930810439489f76600e1672338e42b</th>\n",
              "      <td>329</td>\n",
              "    </tr>\n",
              "    <tr>\n",
              "      <th>...</th>\n",
              "      <td>...</td>\n",
              "    </tr>\n",
              "    <tr>\n",
              "      <th>7ad38f505923bc53112ecf77e03b2e71f9d749face6297a77cab2b758c6a6a65</th>\n",
              "      <td>1</td>\n",
              "    </tr>\n",
              "    <tr>\n",
              "      <th>9ae66d359cdd721900122aec113fd8da17a60b983d6da1fbeb631c1b6adfd19c</th>\n",
              "      <td>1</td>\n",
              "    </tr>\n",
              "    <tr>\n",
              "      <th>b555db8373398f82b873e1f056dd27806d5a75bb4ffaad279ca7f428b70ee468</th>\n",
              "      <td>1</td>\n",
              "    </tr>\n",
              "    <tr>\n",
              "      <th>1dee9c9358d9460f0b5c2d61bca9607f5510ffff6e3bf6450f45a06e4d13ae56</th>\n",
              "      <td>1</td>\n",
              "    </tr>\n",
              "    <tr>\n",
              "      <th>dec99447cb0e9723a8690c856b07e4f0883aae8d6170c1f4a492605547f98ced</th>\n",
              "      <td>1</td>\n",
              "    </tr>\n",
              "  </tbody>\n",
              "</table>\n",
              "<p>176 rows × 1 columns</p>\n",
              "</div>\n",
              "      <button class=\"colab-df-convert\" onclick=\"convertToInteractive('df-e8aea6f1-d42c-4a4e-aca5-986f303c58c5')\"\n",
              "              title=\"Convert this dataframe to an interactive table.\"\n",
              "              style=\"display:none;\">\n",
              "        \n",
              "  <svg xmlns=\"http://www.w3.org/2000/svg\" height=\"24px\"viewBox=\"0 0 24 24\"\n",
              "       width=\"24px\">\n",
              "    <path d=\"M0 0h24v24H0V0z\" fill=\"none\"/>\n",
              "    <path d=\"M18.56 5.44l.94 2.06.94-2.06 2.06-.94-2.06-.94-.94-2.06-.94 2.06-2.06.94zm-11 1L8.5 8.5l.94-2.06 2.06-.94-2.06-.94L8.5 2.5l-.94 2.06-2.06.94zm10 10l.94 2.06.94-2.06 2.06-.94-2.06-.94-.94-2.06-.94 2.06-2.06.94z\"/><path d=\"M17.41 7.96l-1.37-1.37c-.4-.4-.92-.59-1.43-.59-.52 0-1.04.2-1.43.59L10.3 9.45l-7.72 7.72c-.78.78-.78 2.05 0 2.83L4 21.41c.39.39.9.59 1.41.59.51 0 1.02-.2 1.41-.59l7.78-7.78 2.81-2.81c.8-.78.8-2.07 0-2.86zM5.41 20L4 18.59l7.72-7.72 1.47 1.35L5.41 20z\"/>\n",
              "  </svg>\n",
              "      </button>\n",
              "      \n",
              "  <style>\n",
              "    .colab-df-container {\n",
              "      display:flex;\n",
              "      flex-wrap:wrap;\n",
              "      gap: 12px;\n",
              "    }\n",
              "\n",
              "    .colab-df-convert {\n",
              "      background-color: #E8F0FE;\n",
              "      border: none;\n",
              "      border-radius: 50%;\n",
              "      cursor: pointer;\n",
              "      display: none;\n",
              "      fill: #1967D2;\n",
              "      height: 32px;\n",
              "      padding: 0 0 0 0;\n",
              "      width: 32px;\n",
              "    }\n",
              "\n",
              "    .colab-df-convert:hover {\n",
              "      background-color: #E2EBFA;\n",
              "      box-shadow: 0px 1px 2px rgba(60, 64, 67, 0.3), 0px 1px 3px 1px rgba(60, 64, 67, 0.15);\n",
              "      fill: #174EA6;\n",
              "    }\n",
              "\n",
              "    [theme=dark] .colab-df-convert {\n",
              "      background-color: #3B4455;\n",
              "      fill: #D2E3FC;\n",
              "    }\n",
              "\n",
              "    [theme=dark] .colab-df-convert:hover {\n",
              "      background-color: #434B5C;\n",
              "      box-shadow: 0px 1px 3px 1px rgba(0, 0, 0, 0.15);\n",
              "      filter: drop-shadow(0px 1px 2px rgba(0, 0, 0, 0.3));\n",
              "      fill: #FFFFFF;\n",
              "    }\n",
              "  </style>\n",
              "\n",
              "      <script>\n",
              "        const buttonEl =\n",
              "          document.querySelector('#df-e8aea6f1-d42c-4a4e-aca5-986f303c58c5 button.colab-df-convert');\n",
              "        buttonEl.style.display =\n",
              "          google.colab.kernel.accessAllowed ? 'block' : 'none';\n",
              "\n",
              "        async function convertToInteractive(key) {\n",
              "          const element = document.querySelector('#df-e8aea6f1-d42c-4a4e-aca5-986f303c58c5');\n",
              "          const dataTable =\n",
              "            await google.colab.kernel.invokeFunction('convertToInteractive',\n",
              "                                                     [key], {});\n",
              "          if (!dataTable) return;\n",
              "\n",
              "          const docLinkHtml = 'Like what you see? Visit the ' +\n",
              "            '<a target=\"_blank\" href=https://colab.research.google.com/notebooks/data_table.ipynb>data table notebook</a>'\n",
              "            + ' to learn more about interactive tables.';\n",
              "          element.innerHTML = '';\n",
              "          dataTable['output_type'] = 'display_data';\n",
              "          await google.colab.output.renderOutput(dataTable, element);\n",
              "          const docLink = document.createElement('div');\n",
              "          docLink.innerHTML = docLinkHtml;\n",
              "          element.appendChild(docLink);\n",
              "        }\n",
              "      </script>\n",
              "    </div>\n",
              "  </div>\n",
              "  "
            ]
          },
          "metadata": {},
          "execution_count": 50
        }
      ]
    },
    {
      "cell_type": "code",
      "source": [
        " #checking unique values and value counts of source_country column\n",
        "print('unique values in source_country column are:',new_df['source_country'].nunique())\n",
        "\n",
        "#checking for null values in source_country column\n",
        "print('null values in source_country column are:',new_df['source_country'].isna().sum())\n",
        "\n",
        "\n",
        "#since there are many unique categories we are only considering values with frequency more 300  to avoid high dimensionality\n",
        "print('No of unique categories having frequency greater than 300 :',source_country[source_country['source_country']>300].shape[0])"
      ],
      "metadata": {
        "colab": {
          "base_uri": "https://localhost:8080/"
        },
        "id": "yaTfR33A7l7L",
        "outputId": "afbc3170-c1ae-4443-f181-d2d434716889"
      },
      "execution_count": 51,
      "outputs": [
        {
          "output_type": "stream",
          "name": "stdout",
          "text": [
            "unique values in source_country column are: 176\n",
            "null values in source_country column are: 5360\n",
            "No of unique categories having frequency greater than 300 : 5\n"
          ]
        }
      ]
    },
    {
      "cell_type": "code",
      "source": [
        "#creating a list of values having frequency less than 300\n",
        "low_frequency_values_sc=list(source_country[source_country['source_country']<300].index)\n",
        "\n",
        "#creating a list of top 10 most frequent values\n",
        "top_10_frequent_values_sc= list(source_country.head(10).index)\n",
        "\n",
        "#replacing all lower frequency values with random top 10 most frequent values: \n",
        "#(here we are randomly replacing lower frequency values with top 10 values because we don't want to overpopulate dataset with 1 value as it may lead to creating an imbalanced dataset)\n",
        "\n",
        "from random import sample\n",
        "new_df['source_country'] = new_df['source_country'].apply(lambda x: sample(top_10_frequent_values_sc,1)[0] if x in low_frequency_values_sc else x)\n",
        "\n",
        "\n",
        "# filling null values with random top 10 most frequent values:\n",
        "new_df['source_country']= new_df['source_country'].fillna(sample(top_10_frequent_values_sc,1)[0])"
      ],
      "metadata": {
        "colab": {
          "base_uri": "https://localhost:8080/"
        },
        "id": "goVlZ7SM7l5H",
        "outputId": "2318fbd7-0a2b-4979-d2df-0d4b542ef83b"
      },
      "execution_count": 52,
      "outputs": [
        {
          "output_type": "stream",
          "name": "stderr",
          "text": [
            "<ipython-input-52-2b0ea03c7831>:11: SettingWithCopyWarning: \n",
            "A value is trying to be set on a copy of a slice from a DataFrame.\n",
            "Try using .loc[row_indexer,col_indexer] = value instead\n",
            "\n",
            "See the caveats in the documentation: https://pandas.pydata.org/pandas-docs/stable/user_guide/indexing.html#returning-a-view-versus-a-copy\n",
            "  new_df['source_country'] = new_df['source_country'].apply(lambda x: sample(top_10_frequent_values_sc,1)[0] if x in low_frequency_values_sc else x)\n",
            "<ipython-input-52-2b0ea03c7831>:15: SettingWithCopyWarning: \n",
            "A value is trying to be set on a copy of a slice from a DataFrame.\n",
            "Try using .loc[row_indexer,col_indexer] = value instead\n",
            "\n",
            "See the caveats in the documentation: https://pandas.pydata.org/pandas-docs/stable/user_guide/indexing.html#returning-a-view-versus-a-copy\n",
            "  new_df['source_country']= new_df['source_country'].fillna(sample(top_10_frequent_values_sc,1)[0])\n"
          ]
        }
      ]
    },
    {
      "cell_type": "code",
      "source": [
        "#checking unique and null values after treating source_country column\n",
        "print('unique values in agent id column:',new_df['source_country'].nunique())\n",
        "print('null values in agent id column:',new_df['source_country'].isna().sum())"
      ],
      "metadata": {
        "colab": {
          "base_uri": "https://localhost:8080/"
        },
        "id": "ed24XsdNN5N5",
        "outputId": "24cccee8-15a1-4fae-8104-83137765b513"
      },
      "execution_count": 53,
      "outputs": [
        {
          "output_type": "stream",
          "name": "stdout",
          "text": [
            "unique values in agent id column: 10\n",
            "null values in agent id column: 0\n"
          ]
        }
      ]
    },
    {
      "cell_type": "markdown",
      "source": [
        "## **7. utm_source**"
      ],
      "metadata": {
        "id": "bfarnZoqOqOx"
      }
    },
    {
      "cell_type": "code",
      "source": [
        "new_df.utm_source.nunique()"
      ],
      "metadata": {
        "colab": {
          "base_uri": "https://localhost:8080/"
        },
        "id": "pasRJJCYN5K0",
        "outputId": "dbcf9144-fabf-4660-f2f1-5f30595a968b"
      },
      "execution_count": 54,
      "outputs": [
        {
          "output_type": "execute_result",
          "data": {
            "text/plain": [
              "31"
            ]
          },
          "metadata": {},
          "execution_count": 54
        }
      ]
    },
    {
      "cell_type": "code",
      "source": [
        "utm_source= pd.DataFrame(new_df['utm_source'].value_counts())\n",
        "utm_source\n"
      ],
      "metadata": {
        "colab": {
          "base_uri": "https://localhost:8080/",
          "height": 0
        },
        "id": "es06NdB0N5ID",
        "outputId": "d8ff91d4-dc86-4af5-9b6e-2f60163fe5eb"
      },
      "execution_count": 55,
      "outputs": [
        {
          "output_type": "execute_result",
          "data": {
            "text/plain": [
              "                                                    utm_source\n",
              "bbdefa2950f49882f295b1285d4fa9dec45fc4144bfb07e...       20480\n",
              "7f3fa48ca885678134842fa7456f3ece53a97f843b61018...        2841\n",
              "3d59f7548e1af2151b64135003ce63c0a484c26b9b8b166...        1300\n",
              "3c77f261a156a5308fee53720276395ef78d2e7367e4225...        1146\n",
              "d15690f08a575024650b01ffac892cfd2b93e6c57c140f1...        1043\n",
              "9ac56ef275bb33f0f931abd846e53e845a80af8a5491007...         827\n",
              "ec8202b6f9fb16f9e26b66367afa4e037752f3c09a18cef...         704\n",
              "4f48c17d2a97a7461a12d0d07336f808e70a1248a7082db...         551\n",
              "44574c4ba2ea74ad4bf1e184133cdbf4e7390a3690beff6...         340\n",
              "4688fa9ce4f64d0451be91f30a3de24a1c1c41635bd2216...         296\n",
              "5ede56738376a8c53a7c99bf275b077a5c10df780a20cf3...         161\n",
              "ce43ccb66a63d70dd24b992aedbea52eee4229a1f21ff5e...         113\n",
              "3f40462915a3e6026a4d790127b95ded4d870f6ab18d9af...         111\n",
              "7edb360f06acaef2cc80dba16cf563f199d347db4443da0...         107\n",
              "dfc547927d5d24adeba89e786ac0ef05ca3e54ba2ef9474...          95\n",
              "3e6f3ef30c9311c7086582f5a7f015c3485ba4d2cbccbb0...          83\n",
              "c403c7c6714ba1fb7bd9143d9c6bd1563264a73d8ae0b42...          36\n",
              "82244417f956ac7c599f191593f7e441a4fafa20a4158fd...          22\n",
              "a7a4ded2d5035adb26a222c67032f04cfcd2279ab508cf2...          16\n",
              "5b8eeb90771c2031be0b865d6688c14f7d9dcf7468d8d8d...          15\n",
              "ea570171fe0efcf2d84523f065e87c88b5f3a6917f764d0...          15\n",
              "5f98c624a309a8ec6d3b21d5ec8ce65a77fb168d81c92b6...           8\n",
              "c0e25571ed238121c1b1b8ccab09d0008d49655d5440480...           7\n",
              "def53e95f1fc7a2aa7dbc4685f282f1e3e4ea3b364b0762...           5\n",
              "4ca9572c7992eb27f83ab631847003d62a2192ecf701de0...           3\n",
              "924744e8f750495b295e4a6bc44dc51e7fce202af548e8a...           2\n",
              "24f353e0da1ced9f24b1226887fdb88cc7a34865e283c92...           1\n",
              "7d71fa7a6bd0b0f416e818068a0aceaddc9914df674afae...           1\n",
              "0eab32ba11e1109468b27cc6230d5dfe340884f0d0d6910...           1\n",
              "3e96141c21704e96af6257ea41c0fc690ce0504c8529dc4...           1\n",
              "50e721e49c013f00c62cf59f2163542a9d8df02464efeb6...           1"
            ],
            "text/html": [
              "\n",
              "  <div id=\"df-bdc772a8-71fa-4ade-b17d-f2c480475646\">\n",
              "    <div class=\"colab-df-container\">\n",
              "      <div>\n",
              "<style scoped>\n",
              "    .dataframe tbody tr th:only-of-type {\n",
              "        vertical-align: middle;\n",
              "    }\n",
              "\n",
              "    .dataframe tbody tr th {\n",
              "        vertical-align: top;\n",
              "    }\n",
              "\n",
              "    .dataframe thead th {\n",
              "        text-align: right;\n",
              "    }\n",
              "</style>\n",
              "<table border=\"1\" class=\"dataframe\">\n",
              "  <thead>\n",
              "    <tr style=\"text-align: right;\">\n",
              "      <th></th>\n",
              "      <th>utm_source</th>\n",
              "    </tr>\n",
              "  </thead>\n",
              "  <tbody>\n",
              "    <tr>\n",
              "      <th>bbdefa2950f49882f295b1285d4fa9dec45fc4144bfb07ee6acc68762d12c2e3</th>\n",
              "      <td>20480</td>\n",
              "    </tr>\n",
              "    <tr>\n",
              "      <th>7f3fa48ca885678134842fa7456f3ece53a97f843b610185d900ac4e467c7490</th>\n",
              "      <td>2841</td>\n",
              "    </tr>\n",
              "    <tr>\n",
              "      <th>3d59f7548e1af2151b64135003ce63c0a484c26b9b8b166a7b1c1805ec34b00a</th>\n",
              "      <td>1300</td>\n",
              "    </tr>\n",
              "    <tr>\n",
              "      <th>3c77f261a156a5308fee53720276395ef78d2e7367e4225a3d3d93f4accd1dd3</th>\n",
              "      <td>1146</td>\n",
              "    </tr>\n",
              "    <tr>\n",
              "      <th>d15690f08a575024650b01ffac892cfd2b93e6c57c140f1b6d9e47753cabd579</th>\n",
              "      <td>1043</td>\n",
              "    </tr>\n",
              "    <tr>\n",
              "      <th>9ac56ef275bb33f0f931abd846e53e845a80af8a549100741e928b8b2abd56a7</th>\n",
              "      <td>827</td>\n",
              "    </tr>\n",
              "    <tr>\n",
              "      <th>ec8202b6f9fb16f9e26b66367afa4e037752f3c09a18cefab426165e06a424b1</th>\n",
              "      <td>704</td>\n",
              "    </tr>\n",
              "    <tr>\n",
              "      <th>4f48c17d2a97a7461a12d0d07336f808e70a1248a7082dbb103047f54090c158</th>\n",
              "      <td>551</td>\n",
              "    </tr>\n",
              "    <tr>\n",
              "      <th>44574c4ba2ea74ad4bf1e184133cdbf4e7390a3690beff6a7364511a70ec208e</th>\n",
              "      <td>340</td>\n",
              "    </tr>\n",
              "    <tr>\n",
              "      <th>4688fa9ce4f64d0451be91f30a3de24a1c1c41635bd221694b2a96f9ecd8d717</th>\n",
              "      <td>296</td>\n",
              "    </tr>\n",
              "    <tr>\n",
              "      <th>5ede56738376a8c53a7c99bf275b077a5c10df780a20cf3d8282fd59a2a9fb56</th>\n",
              "      <td>161</td>\n",
              "    </tr>\n",
              "    <tr>\n",
              "      <th>ce43ccb66a63d70dd24b992aedbea52eee4229a1f21ff5ed31592f33ca411101</th>\n",
              "      <td>113</td>\n",
              "    </tr>\n",
              "    <tr>\n",
              "      <th>3f40462915a3e6026a4d790127b95ded4d870f6ab18d9af2fcbc454168255237</th>\n",
              "      <td>111</td>\n",
              "    </tr>\n",
              "    <tr>\n",
              "      <th>7edb360f06acaef2cc80dba16cf563f199d347db4443da04da0c8173e3f9e4ed</th>\n",
              "      <td>107</td>\n",
              "    </tr>\n",
              "    <tr>\n",
              "      <th>dfc547927d5d24adeba89e786ac0ef05ca3e54ba2ef9474f8aa384129e625d2e</th>\n",
              "      <td>95</td>\n",
              "    </tr>\n",
              "    <tr>\n",
              "      <th>3e6f3ef30c9311c7086582f5a7f015c3485ba4d2cbccbb059c19122e2c6ea359</th>\n",
              "      <td>83</td>\n",
              "    </tr>\n",
              "    <tr>\n",
              "      <th>c403c7c6714ba1fb7bd9143d9c6bd1563264a73d8ae0b42c35981083e91fef06</th>\n",
              "      <td>36</td>\n",
              "    </tr>\n",
              "    <tr>\n",
              "      <th>82244417f956ac7c599f191593f7e441a4fafa20a4158fd52e154f1dc4c8ed92</th>\n",
              "      <td>22</td>\n",
              "    </tr>\n",
              "    <tr>\n",
              "      <th>a7a4ded2d5035adb26a222c67032f04cfcd2279ab508cf2a7ff612aead97551e</th>\n",
              "      <td>16</td>\n",
              "    </tr>\n",
              "    <tr>\n",
              "      <th>5b8eeb90771c2031be0b865d6688c14f7d9dcf7468d8d8d43609cec71358bee9</th>\n",
              "      <td>15</td>\n",
              "    </tr>\n",
              "    <tr>\n",
              "      <th>ea570171fe0efcf2d84523f065e87c88b5f3a6917f764d0c2e0431a2ae7b5008</th>\n",
              "      <td>15</td>\n",
              "    </tr>\n",
              "    <tr>\n",
              "      <th>5f98c624a309a8ec6d3b21d5ec8ce65a77fb168d81c92b66a60ba233121eb2ae</th>\n",
              "      <td>8</td>\n",
              "    </tr>\n",
              "    <tr>\n",
              "      <th>c0e25571ed238121c1b1b8ccab09d0008d49655d544048012aba724a68c7ca45</th>\n",
              "      <td>7</td>\n",
              "    </tr>\n",
              "    <tr>\n",
              "      <th>def53e95f1fc7a2aa7dbc4685f282f1e3e4ea3b364b07622e58edb15d239b252</th>\n",
              "      <td>5</td>\n",
              "    </tr>\n",
              "    <tr>\n",
              "      <th>4ca9572c7992eb27f83ab631847003d62a2192ecf701de0144dca478ff417063</th>\n",
              "      <td>3</td>\n",
              "    </tr>\n",
              "    <tr>\n",
              "      <th>924744e8f750495b295e4a6bc44dc51e7fce202af548e8ac8feb8289de90e496</th>\n",
              "      <td>2</td>\n",
              "    </tr>\n",
              "    <tr>\n",
              "      <th>24f353e0da1ced9f24b1226887fdb88cc7a34865e283c921248e8f5d52c3ae68</th>\n",
              "      <td>1</td>\n",
              "    </tr>\n",
              "    <tr>\n",
              "      <th>7d71fa7a6bd0b0f416e818068a0aceaddc9914df674afae5ebd7dcdf63e73e90</th>\n",
              "      <td>1</td>\n",
              "    </tr>\n",
              "    <tr>\n",
              "      <th>0eab32ba11e1109468b27cc6230d5dfe340884f0d0d69104e5100e5f89aad44b</th>\n",
              "      <td>1</td>\n",
              "    </tr>\n",
              "    <tr>\n",
              "      <th>3e96141c21704e96af6257ea41c0fc690ce0504c8529dc424dc8b245b6343c0f</th>\n",
              "      <td>1</td>\n",
              "    </tr>\n",
              "    <tr>\n",
              "      <th>50e721e49c013f00c62cf59f2163542a9d8df02464efeb615d31051b0fddc326</th>\n",
              "      <td>1</td>\n",
              "    </tr>\n",
              "  </tbody>\n",
              "</table>\n",
              "</div>\n",
              "      <button class=\"colab-df-convert\" onclick=\"convertToInteractive('df-bdc772a8-71fa-4ade-b17d-f2c480475646')\"\n",
              "              title=\"Convert this dataframe to an interactive table.\"\n",
              "              style=\"display:none;\">\n",
              "        \n",
              "  <svg xmlns=\"http://www.w3.org/2000/svg\" height=\"24px\"viewBox=\"0 0 24 24\"\n",
              "       width=\"24px\">\n",
              "    <path d=\"M0 0h24v24H0V0z\" fill=\"none\"/>\n",
              "    <path d=\"M18.56 5.44l.94 2.06.94-2.06 2.06-.94-2.06-.94-.94-2.06-.94 2.06-2.06.94zm-11 1L8.5 8.5l.94-2.06 2.06-.94-2.06-.94L8.5 2.5l-.94 2.06-2.06.94zm10 10l.94 2.06.94-2.06 2.06-.94-2.06-.94-.94-2.06-.94 2.06-2.06.94z\"/><path d=\"M17.41 7.96l-1.37-1.37c-.4-.4-.92-.59-1.43-.59-.52 0-1.04.2-1.43.59L10.3 9.45l-7.72 7.72c-.78.78-.78 2.05 0 2.83L4 21.41c.39.39.9.59 1.41.59.51 0 1.02-.2 1.41-.59l7.78-7.78 2.81-2.81c.8-.78.8-2.07 0-2.86zM5.41 20L4 18.59l7.72-7.72 1.47 1.35L5.41 20z\"/>\n",
              "  </svg>\n",
              "      </button>\n",
              "      \n",
              "  <style>\n",
              "    .colab-df-container {\n",
              "      display:flex;\n",
              "      flex-wrap:wrap;\n",
              "      gap: 12px;\n",
              "    }\n",
              "\n",
              "    .colab-df-convert {\n",
              "      background-color: #E8F0FE;\n",
              "      border: none;\n",
              "      border-radius: 50%;\n",
              "      cursor: pointer;\n",
              "      display: none;\n",
              "      fill: #1967D2;\n",
              "      height: 32px;\n",
              "      padding: 0 0 0 0;\n",
              "      width: 32px;\n",
              "    }\n",
              "\n",
              "    .colab-df-convert:hover {\n",
              "      background-color: #E2EBFA;\n",
              "      box-shadow: 0px 1px 2px rgba(60, 64, 67, 0.3), 0px 1px 3px 1px rgba(60, 64, 67, 0.15);\n",
              "      fill: #174EA6;\n",
              "    }\n",
              "\n",
              "    [theme=dark] .colab-df-convert {\n",
              "      background-color: #3B4455;\n",
              "      fill: #D2E3FC;\n",
              "    }\n",
              "\n",
              "    [theme=dark] .colab-df-convert:hover {\n",
              "      background-color: #434B5C;\n",
              "      box-shadow: 0px 1px 3px 1px rgba(0, 0, 0, 0.15);\n",
              "      filter: drop-shadow(0px 1px 2px rgba(0, 0, 0, 0.3));\n",
              "      fill: #FFFFFF;\n",
              "    }\n",
              "  </style>\n",
              "\n",
              "      <script>\n",
              "        const buttonEl =\n",
              "          document.querySelector('#df-bdc772a8-71fa-4ade-b17d-f2c480475646 button.colab-df-convert');\n",
              "        buttonEl.style.display =\n",
              "          google.colab.kernel.accessAllowed ? 'block' : 'none';\n",
              "\n",
              "        async function convertToInteractive(key) {\n",
              "          const element = document.querySelector('#df-bdc772a8-71fa-4ade-b17d-f2c480475646');\n",
              "          const dataTable =\n",
              "            await google.colab.kernel.invokeFunction('convertToInteractive',\n",
              "                                                     [key], {});\n",
              "          if (!dataTable) return;\n",
              "\n",
              "          const docLinkHtml = 'Like what you see? Visit the ' +\n",
              "            '<a target=\"_blank\" href=https://colab.research.google.com/notebooks/data_table.ipynb>data table notebook</a>'\n",
              "            + ' to learn more about interactive tables.';\n",
              "          element.innerHTML = '';\n",
              "          dataTable['output_type'] = 'display_data';\n",
              "          await google.colab.output.renderOutput(dataTable, element);\n",
              "          const docLink = document.createElement('div');\n",
              "          docLink.innerHTML = docLinkHtml;\n",
              "          element.appendChild(docLink);\n",
              "        }\n",
              "      </script>\n",
              "    </div>\n",
              "  </div>\n",
              "  "
            ]
          },
          "metadata": {},
          "execution_count": 55
        }
      ]
    },
    {
      "cell_type": "code",
      "source": [
        "\n",
        " #checking unique values and value counts of utm_source column\n",
        "print('unique values in utm_source column are:',new_df['utm_source'].nunique())\n",
        "\n",
        "#checking for null values in utm_source column\n",
        "print('null values in utm_source column are:',new_df['utm_source'].isna().sum())\n",
        "\n",
        "\n",
        "#since there are many unique categories we are only considering values with frequency more 300  to avoid high dimensionality\n",
        "print('No of unique categories having frequency greater than 300 :',utm_source[utm_source['utm_source']>300].shape[0])"
      ],
      "metadata": {
        "colab": {
          "base_uri": "https://localhost:8080/"
        },
        "id": "PmpJXBIgN4-c",
        "outputId": "1207afc7-6b09-49de-c5ee-b71b5030f0c3"
      },
      "execution_count": 56,
      "outputs": [
        {
          "output_type": "stream",
          "name": "stdout",
          "text": [
            "unique values in utm_source column are: 31\n",
            "null values in utm_source column are: 50\n",
            "No of unique categories having frequency greater than 300 : 9\n"
          ]
        }
      ]
    },
    {
      "cell_type": "code",
      "source": [
        "#creating a list of values having frequency less than 300\n",
        "low_frequency_values_us=list(utm_source[utm_source['utm_source']<300].index)\n",
        "\n",
        "#creating a list of top 10 most frequent values\n",
        "top_10_frequent_values_us= list(utm_source.head(10).index)\n",
        "\n",
        "#replacing all lower frequency values with random top 10 most frequent values: \n",
        "#(here we are randomly replacing lower frequency values with top 10 values because we don't want to overpopulate dataset with 1 value as it may lead to creating an imbalanced dataset)\n",
        "\n",
        "from random import sample\n",
        "new_df['utm_source'] = new_df['utm_source'].apply(lambda x: sample(top_10_frequent_values_us,1)[0] if x in low_frequency_values_us else x)\n",
        "\n",
        "\n",
        "# filling null values with random top 10 most frequent values:\n",
        "new_df['utm_source']= new_df['utm_source'].fillna(sample(top_10_frequent_values_us,1)[0])"
      ],
      "metadata": {
        "colab": {
          "base_uri": "https://localhost:8080/"
        },
        "id": "cP-4HMvZ7lty",
        "outputId": "7a632923-61d8-4497-ae0c-b13729807162"
      },
      "execution_count": 57,
      "outputs": [
        {
          "output_type": "stream",
          "name": "stderr",
          "text": [
            "<ipython-input-57-4b8b29cfdae5>:11: SettingWithCopyWarning: \n",
            "A value is trying to be set on a copy of a slice from a DataFrame.\n",
            "Try using .loc[row_indexer,col_indexer] = value instead\n",
            "\n",
            "See the caveats in the documentation: https://pandas.pydata.org/pandas-docs/stable/user_guide/indexing.html#returning-a-view-versus-a-copy\n",
            "  new_df['utm_source'] = new_df['utm_source'].apply(lambda x: sample(top_10_frequent_values_us,1)[0] if x in low_frequency_values_us else x)\n",
            "<ipython-input-57-4b8b29cfdae5>:15: SettingWithCopyWarning: \n",
            "A value is trying to be set on a copy of a slice from a DataFrame.\n",
            "Try using .loc[row_indexer,col_indexer] = value instead\n",
            "\n",
            "See the caveats in the documentation: https://pandas.pydata.org/pandas-docs/stable/user_guide/indexing.html#returning-a-view-versus-a-copy\n",
            "  new_df['utm_source']= new_df['utm_source'].fillna(sample(top_10_frequent_values_us,1)[0])\n"
          ]
        }
      ]
    },
    {
      "cell_type": "code",
      "source": [
        "#checking unique and null values after treating utm_source column\n",
        "print('unique values in utm_source column:',new_df['utm_source'].nunique())\n",
        "print('null values in  column:',new_df['utm_source'].isna().sum())"
      ],
      "metadata": {
        "colab": {
          "base_uri": "https://localhost:8080/"
        },
        "id": "l28mtkR3PeD4",
        "outputId": "57a5835f-e5f4-40ec-efdf-b153640f7910"
      },
      "execution_count": 58,
      "outputs": [
        {
          "output_type": "stream",
          "name": "stdout",
          "text": [
            "unique values in utm_source column: 10\n",
            "null values in  column: 0\n"
          ]
        }
      ]
    },
    {
      "cell_type": "markdown",
      "source": [
        "## **8. utm_medium**"
      ],
      "metadata": {
        "id": "BVDQLxabRWji"
      }
    },
    {
      "cell_type": "code",
      "source": [
        "new_df.columns"
      ],
      "metadata": {
        "colab": {
          "base_uri": "https://localhost:8080/"
        },
        "id": "i0WwiONYPd_2",
        "outputId": "fb5fa39f-8e59-4cb6-fa3c-5924129a5533"
      },
      "execution_count": 59,
      "outputs": [
        {
          "output_type": "execute_result",
          "data": {
            "text/plain": [
              "Index(['Agent_id', 'status', 'budget', 'lease', 'source', 'source_country',\n",
              "       'utm_source', 'utm_medium', 'des_city', 'des_country'],\n",
              "      dtype='object')"
            ]
          },
          "metadata": {},
          "execution_count": 59
        }
      ]
    },
    {
      "cell_type": "code",
      "source": [
        "utm_medium= pd.DataFrame(new_df['utm_medium'].value_counts())\n",
        "utm_medium"
      ],
      "metadata": {
        "colab": {
          "base_uri": "https://localhost:8080/",
          "height": 0
        },
        "id": "X09oUZhRPd9U",
        "outputId": "1fe678a9-ce21-483f-b52f-044078bebe86"
      },
      "execution_count": 60,
      "outputs": [
        {
          "output_type": "execute_result",
          "data": {
            "text/plain": [
              "                                                    utm_medium\n",
              "09076eb7665d1fb9389c7c4517fee0b00e43092eb34821b...       20893\n",
              "69f81619d0ef92cbb165a44e76f4f0c284d2aa83c318fa7...        1099\n",
              "268ad70eb5bc4737a2ae28162cbca30118cc94520e49ef1...        1063\n",
              "09bc8f0bb77bdddeb98527a39e995c2c605166399c178cb...         997\n",
              "82244417f956ac7c599f191593f7e441a4fafa20a4158fd...         748\n",
              "2bc856d8b9bd2e94d0aacf13e9dac47f9259f8dcf560618...         687\n",
              "abb8e2badd5b6265c3237170cc599257a4f566706715d2e...         512\n",
              "08510d8a07a19e4b995447e77c3b1a40c6f21838ecae774...         408\n",
              "53f80da4f1f3ea38acb886dcb770b60dc8a7241b3e6810b...         319\n",
              "4ed379d418bb86290a01117e9ceb0debffc4d1b7087db6c...         304\n",
              "5f98c624a309a8ec6d3b21d5ec8ce65a77fb168d81c92b6...         232\n",
              "efbfd394ac2dc6f05e74e167113f414b0fa50b64f82dfbb...         178\n",
              "4f86ca37dd9e4b9b0c94b2fc9dc36771317ce4593f93f91...         150\n",
              "011ac7e62beb8618876336f31a54f18964347d899020248...         111\n",
              "13f4a14f78ff01d0743942840c9a0d547659f5a62f25fd3...          57\n",
              "31e06f7d89feb99a0e6c0affe198748c3bb5bef5e3cc92d...          51\n",
              "52295b1245bdd00dc88bffdaacfc8f7ed728394e8283402...          43\n",
              "7a2a71cde64da35e3992fc18205a8ba9364c01f1fc4b919...          42\n",
              "751d344eedf1e4fa00541928603580b5b24c04d25944960...          36\n",
              "a98b4dc70229303df0385f5e6a98fda5a867bffb003d3f3...          36\n",
              "929260ad9b9ea9fe0f3553dd964f4ff3deb5792efd031a2...          33\n",
              "8ea8c1ad29d0d89f1304a4acddb33c55d7bef5c169e1f8e...          32\n",
              "c110c415b06d01be691c31691217bbad32cb6571a9499ce...          30\n",
              "44574c4ba2ea74ad4bf1e184133cdbf4e7390a3690beff6...          30\n",
              "32e07c708fa86602adcfbd52233aa489f27dafe18ea331f...          25\n",
              "9261ceef0b969e70ac20f1510f07a1e0d8db05f20c75161...          25\n",
              "ad936fcbed631fa67e05c3ea03953905221c9d46af0616b...          24\n",
              "79f45ffcab6477ac462e7479564f3ce36f698316ba2372a...          19\n",
              "d6a969fff41c54131a4743aeef27fc6d96da8b6ee940757...          14\n",
              "12fbf873f9dfa63a41270793b2d4ea4f2182bd6d1366e0b...          14\n",
              "c44bb2fd516909dab78ae0bfedcd5672b131b996c4b7a43...          10\n",
              "a4bf40254d63b3629f1953b044d03d4efc9614f3784cd93...           5\n",
              "4e55aa3a0e5b40523a617ef7606a39d2b77c3a52dd340d7...           5\n",
              "5111b5fd1d41bf0b7cd7c77c025074cfb2e5984645d9fbc...           5\n",
              "e0c8dadcdcfe98ff57df45c4f2ac8e718b77db454dfe02a...           4\n",
              "21042bf94452d7f2839e4eaf613975e0ac7b97d205a834c...           4\n",
              "32b697467cf5b932d35e7b5e9472f25e9110408dca08a3b...           3\n",
              "3409d5d4bbb1e8b4c80ab0d47bb1f70ce475cfb3cd118cd...           3\n",
              "5ede56738376a8c53a7c99bf275b077a5c10df780a20cf3...           3\n",
              "e24fdf242e61d90469c1912851b1c400e6d4e6aa70e281b...           3\n",
              "3bec26c92bc14f0f4c3b5e9651053bb32f431b713642bb4...           3\n",
              "dfd76b3ecbefe4606d9cbfa7e7c41884b22d214a0c13560...           2\n",
              "b63e8cbf8e6420de05ac114aa13dd470b71efb73b60bc48...           2\n",
              "796ce1afec6355204d9cd8fad539dd7aa33c2987022ce9b...           2\n",
              "b605dfc9f2d27244a0eec4af868c8824a8594b53a1a3017...           2\n",
              "55cff90b6c7fb931dc256302273d10e04ad3a692c792641...           2\n",
              "6b85794fa7e596028bf6f4fed0ebe209937b89b69ac45dd...           2\n",
              "94f0fa7f897ccce65856dc5a98bae4bf6957a346766613d...           2\n",
              "5f5238f61f941641a13c52f68a37a1de3e3d981b57506b8...           1\n",
              "524f14114b0ad4b465b8d3fb8bb043e905d141d13f06d75...           1\n",
              "ad89c0825db17eb2c0b1a0d1a04f712b1c531ac84a6c929...           1\n",
              "0a6ce5f5846c43540fb9ac81bcb1b32f166e25c4c9d59e9...           1\n",
              "b45c999fec78ea65910d1e7bb0ed29e4de7fd34b0a8edbb...           1\n",
              "3e96141c21704e96af6257ea41c0fc690ce0504c8529dc4...           1\n",
              "ca343dd3402f42da61719d1bf6c5efba5ee53e7e364d46b...           1\n",
              "8b3dd1f43b52937a24365ccea1c0250092fd85df59ec834...           1\n",
              "8b7df14d7424210351d80990a2a65cd7c0f35bca2db2c55...           1"
            ],
            "text/html": [
              "\n",
              "  <div id=\"df-c9f2abdd-747f-4647-95be-78b63404a551\">\n",
              "    <div class=\"colab-df-container\">\n",
              "      <div>\n",
              "<style scoped>\n",
              "    .dataframe tbody tr th:only-of-type {\n",
              "        vertical-align: middle;\n",
              "    }\n",
              "\n",
              "    .dataframe tbody tr th {\n",
              "        vertical-align: top;\n",
              "    }\n",
              "\n",
              "    .dataframe thead th {\n",
              "        text-align: right;\n",
              "    }\n",
              "</style>\n",
              "<table border=\"1\" class=\"dataframe\">\n",
              "  <thead>\n",
              "    <tr style=\"text-align: right;\">\n",
              "      <th></th>\n",
              "      <th>utm_medium</th>\n",
              "    </tr>\n",
              "  </thead>\n",
              "  <tbody>\n",
              "    <tr>\n",
              "      <th>09076eb7665d1fb9389c7c4517fee0b00e43092eb34821b09b5730c41ebcc50c</th>\n",
              "      <td>20893</td>\n",
              "    </tr>\n",
              "    <tr>\n",
              "      <th>69f81619d0ef92cbb165a44e76f4f0c284d2aa83c318fa7fb632207f68215647</th>\n",
              "      <td>1099</td>\n",
              "    </tr>\n",
              "    <tr>\n",
              "      <th>268ad70eb5bc4737a2ae28162cbca30118cc94520e49ef1ac5f72c85d3f2caa9</th>\n",
              "      <td>1063</td>\n",
              "    </tr>\n",
              "    <tr>\n",
              "      <th>09bc8f0bb77bdddeb98527a39e995c2c605166399c178cb296992abab8415d5b</th>\n",
              "      <td>997</td>\n",
              "    </tr>\n",
              "    <tr>\n",
              "      <th>82244417f956ac7c599f191593f7e441a4fafa20a4158fd52e154f1dc4c8ed92</th>\n",
              "      <td>748</td>\n",
              "    </tr>\n",
              "    <tr>\n",
              "      <th>2bc856d8b9bd2e94d0aacf13e9dac47f9259f8dcf56061896f28dda46081c393</th>\n",
              "      <td>687</td>\n",
              "    </tr>\n",
              "    <tr>\n",
              "      <th>abb8e2badd5b6265c3237170cc599257a4f566706715d2e8ed911caf07185447</th>\n",
              "      <td>512</td>\n",
              "    </tr>\n",
              "    <tr>\n",
              "      <th>08510d8a07a19e4b995447e77c3b1a40c6f21838ecae77448a01d98312a00b6c</th>\n",
              "      <td>408</td>\n",
              "    </tr>\n",
              "    <tr>\n",
              "      <th>53f80da4f1f3ea38acb886dcb770b60dc8a7241b3e6810b89528481de77e2abe</th>\n",
              "      <td>319</td>\n",
              "    </tr>\n",
              "    <tr>\n",
              "      <th>4ed379d418bb86290a01117e9ceb0debffc4d1b7087db6c04882fbc4e50132f4</th>\n",
              "      <td>304</td>\n",
              "    </tr>\n",
              "    <tr>\n",
              "      <th>5f98c624a309a8ec6d3b21d5ec8ce65a77fb168d81c92b66a60ba233121eb2ae</th>\n",
              "      <td>232</td>\n",
              "    </tr>\n",
              "    <tr>\n",
              "      <th>efbfd394ac2dc6f05e74e167113f414b0fa50b64f82dfbbdb63936640332d6d4</th>\n",
              "      <td>178</td>\n",
              "    </tr>\n",
              "    <tr>\n",
              "      <th>4f86ca37dd9e4b9b0c94b2fc9dc36771317ce4593f93f9101e153d164dc87764</th>\n",
              "      <td>150</td>\n",
              "    </tr>\n",
              "    <tr>\n",
              "      <th>011ac7e62beb8618876336f31a54f18964347d8990202487f5ec2979e91529e8</th>\n",
              "      <td>111</td>\n",
              "    </tr>\n",
              "    <tr>\n",
              "      <th>13f4a14f78ff01d0743942840c9a0d547659f5a62f25fd37fac4e94f180fe993</th>\n",
              "      <td>57</td>\n",
              "    </tr>\n",
              "    <tr>\n",
              "      <th>31e06f7d89feb99a0e6c0affe198748c3bb5bef5e3cc92d95cb9e996197d3fc3</th>\n",
              "      <td>51</td>\n",
              "    </tr>\n",
              "    <tr>\n",
              "      <th>52295b1245bdd00dc88bffdaacfc8f7ed728394e8283402e6896644032ea6d0f</th>\n",
              "      <td>43</td>\n",
              "    </tr>\n",
              "    <tr>\n",
              "      <th>7a2a71cde64da35e3992fc18205a8ba9364c01f1fc4b919ea15bb1ef93798f9e</th>\n",
              "      <td>42</td>\n",
              "    </tr>\n",
              "    <tr>\n",
              "      <th>751d344eedf1e4fa00541928603580b5b24c04d259449600db14084fd35f01d3</th>\n",
              "      <td>36</td>\n",
              "    </tr>\n",
              "    <tr>\n",
              "      <th>a98b4dc70229303df0385f5e6a98fda5a867bffb003d3f30cc7d7f6b7f029d43</th>\n",
              "      <td>36</td>\n",
              "    </tr>\n",
              "    <tr>\n",
              "      <th>929260ad9b9ea9fe0f3553dd964f4ff3deb5792efd031a2b90f573fe91f012bb</th>\n",
              "      <td>33</td>\n",
              "    </tr>\n",
              "    <tr>\n",
              "      <th>8ea8c1ad29d0d89f1304a4acddb33c55d7bef5c169e1f8ee0a5b8252b528e495</th>\n",
              "      <td>32</td>\n",
              "    </tr>\n",
              "    <tr>\n",
              "      <th>c110c415b06d01be691c31691217bbad32cb6571a9499ce8e63dc3b461b11373</th>\n",
              "      <td>30</td>\n",
              "    </tr>\n",
              "    <tr>\n",
              "      <th>44574c4ba2ea74ad4bf1e184133cdbf4e7390a3690beff6a7364511a70ec208e</th>\n",
              "      <td>30</td>\n",
              "    </tr>\n",
              "    <tr>\n",
              "      <th>32e07c708fa86602adcfbd52233aa489f27dafe18ea331f6115298cd83f8b56d</th>\n",
              "      <td>25</td>\n",
              "    </tr>\n",
              "    <tr>\n",
              "      <th>9261ceef0b969e70ac20f1510f07a1e0d8db05f20c75161a2ef43b4eba27a7aa</th>\n",
              "      <td>25</td>\n",
              "    </tr>\n",
              "    <tr>\n",
              "      <th>ad936fcbed631fa67e05c3ea03953905221c9d46af0616b70badf105a966fb11</th>\n",
              "      <td>24</td>\n",
              "    </tr>\n",
              "    <tr>\n",
              "      <th>79f45ffcab6477ac462e7479564f3ce36f698316ba2372ac1ae905bb97058783</th>\n",
              "      <td>19</td>\n",
              "    </tr>\n",
              "    <tr>\n",
              "      <th>d6a969fff41c54131a4743aeef27fc6d96da8b6ee9407579aa4717cbf0759e73</th>\n",
              "      <td>14</td>\n",
              "    </tr>\n",
              "    <tr>\n",
              "      <th>12fbf873f9dfa63a41270793b2d4ea4f2182bd6d1366e0b1c30232f4357608c4</th>\n",
              "      <td>14</td>\n",
              "    </tr>\n",
              "    <tr>\n",
              "      <th>c44bb2fd516909dab78ae0bfedcd5672b131b996c4b7a4328ee55fba170da776</th>\n",
              "      <td>10</td>\n",
              "    </tr>\n",
              "    <tr>\n",
              "      <th>a4bf40254d63b3629f1953b044d03d4efc9614f3784cd93733228c995eb55e48</th>\n",
              "      <td>5</td>\n",
              "    </tr>\n",
              "    <tr>\n",
              "      <th>4e55aa3a0e5b40523a617ef7606a39d2b77c3a52dd340d737a4b3c872eca2bd2</th>\n",
              "      <td>5</td>\n",
              "    </tr>\n",
              "    <tr>\n",
              "      <th>5111b5fd1d41bf0b7cd7c77c025074cfb2e5984645d9fbc4d5d4f58bc081cf3c</th>\n",
              "      <td>5</td>\n",
              "    </tr>\n",
              "    <tr>\n",
              "      <th>e0c8dadcdcfe98ff57df45c4f2ac8e718b77db454dfe02ab7210e8d94fcda248</th>\n",
              "      <td>4</td>\n",
              "    </tr>\n",
              "    <tr>\n",
              "      <th>21042bf94452d7f2839e4eaf613975e0ac7b97d205a834ca60f6d91a18c007bd</th>\n",
              "      <td>4</td>\n",
              "    </tr>\n",
              "    <tr>\n",
              "      <th>32b697467cf5b932d35e7b5e9472f25e9110408dca08a3bde66a3145f5e71174</th>\n",
              "      <td>3</td>\n",
              "    </tr>\n",
              "    <tr>\n",
              "      <th>3409d5d4bbb1e8b4c80ab0d47bb1f70ce475cfb3cd118cd3486cc6e3e8ff0af8</th>\n",
              "      <td>3</td>\n",
              "    </tr>\n",
              "    <tr>\n",
              "      <th>5ede56738376a8c53a7c99bf275b077a5c10df780a20cf3d8282fd59a2a9fb56</th>\n",
              "      <td>3</td>\n",
              "    </tr>\n",
              "    <tr>\n",
              "      <th>e24fdf242e61d90469c1912851b1c400e6d4e6aa70e281b5186aad6ffe9fed7e</th>\n",
              "      <td>3</td>\n",
              "    </tr>\n",
              "    <tr>\n",
              "      <th>3bec26c92bc14f0f4c3b5e9651053bb32f431b713642bb486c6d0170bcde0d65</th>\n",
              "      <td>3</td>\n",
              "    </tr>\n",
              "    <tr>\n",
              "      <th>dfd76b3ecbefe4606d9cbfa7e7c41884b22d214a0c13560bb7eb10e65c11851f</th>\n",
              "      <td>2</td>\n",
              "    </tr>\n",
              "    <tr>\n",
              "      <th>b63e8cbf8e6420de05ac114aa13dd470b71efb73b60bc48d49443288261a514b</th>\n",
              "      <td>2</td>\n",
              "    </tr>\n",
              "    <tr>\n",
              "      <th>796ce1afec6355204d9cd8fad539dd7aa33c2987022ce9bdf456e6e6e53c2502</th>\n",
              "      <td>2</td>\n",
              "    </tr>\n",
              "    <tr>\n",
              "      <th>b605dfc9f2d27244a0eec4af868c8824a8594b53a1a301749e057530773aaee2</th>\n",
              "      <td>2</td>\n",
              "    </tr>\n",
              "    <tr>\n",
              "      <th>55cff90b6c7fb931dc256302273d10e04ad3a692c79264129c4cabe8ac731d6b</th>\n",
              "      <td>2</td>\n",
              "    </tr>\n",
              "    <tr>\n",
              "      <th>6b85794fa7e596028bf6f4fed0ebe209937b89b69ac45ddd18a946ab79f3c781</th>\n",
              "      <td>2</td>\n",
              "    </tr>\n",
              "    <tr>\n",
              "      <th>94f0fa7f897ccce65856dc5a98bae4bf6957a346766613d79414c976d093aa4a</th>\n",
              "      <td>2</td>\n",
              "    </tr>\n",
              "    <tr>\n",
              "      <th>5f5238f61f941641a13c52f68a37a1de3e3d981b57506b82aa36d5b85d09c8b7</th>\n",
              "      <td>1</td>\n",
              "    </tr>\n",
              "    <tr>\n",
              "      <th>524f14114b0ad4b465b8d3fb8bb043e905d141d13f06d75907d5b3127b0ef864</th>\n",
              "      <td>1</td>\n",
              "    </tr>\n",
              "    <tr>\n",
              "      <th>ad89c0825db17eb2c0b1a0d1a04f712b1c531ac84a6c92901a7f29e96adae9ce</th>\n",
              "      <td>1</td>\n",
              "    </tr>\n",
              "    <tr>\n",
              "      <th>0a6ce5f5846c43540fb9ac81bcb1b32f166e25c4c9d59e931ba7f92a3619c3bf</th>\n",
              "      <td>1</td>\n",
              "    </tr>\n",
              "    <tr>\n",
              "      <th>b45c999fec78ea65910d1e7bb0ed29e4de7fd34b0a8edbb57e83123392fccc3e</th>\n",
              "      <td>1</td>\n",
              "    </tr>\n",
              "    <tr>\n",
              "      <th>3e96141c21704e96af6257ea41c0fc690ce0504c8529dc424dc8b245b6343c0f</th>\n",
              "      <td>1</td>\n",
              "    </tr>\n",
              "    <tr>\n",
              "      <th>ca343dd3402f42da61719d1bf6c5efba5ee53e7e364d46bbcbaed577387122ab</th>\n",
              "      <td>1</td>\n",
              "    </tr>\n",
              "    <tr>\n",
              "      <th>8b3dd1f43b52937a24365ccea1c0250092fd85df59ec8342420a74753a7d12dc</th>\n",
              "      <td>1</td>\n",
              "    </tr>\n",
              "    <tr>\n",
              "      <th>8b7df14d7424210351d80990a2a65cd7c0f35bca2db2c555d15581642f163d21</th>\n",
              "      <td>1</td>\n",
              "    </tr>\n",
              "  </tbody>\n",
              "</table>\n",
              "</div>\n",
              "      <button class=\"colab-df-convert\" onclick=\"convertToInteractive('df-c9f2abdd-747f-4647-95be-78b63404a551')\"\n",
              "              title=\"Convert this dataframe to an interactive table.\"\n",
              "              style=\"display:none;\">\n",
              "        \n",
              "  <svg xmlns=\"http://www.w3.org/2000/svg\" height=\"24px\"viewBox=\"0 0 24 24\"\n",
              "       width=\"24px\">\n",
              "    <path d=\"M0 0h24v24H0V0z\" fill=\"none\"/>\n",
              "    <path d=\"M18.56 5.44l.94 2.06.94-2.06 2.06-.94-2.06-.94-.94-2.06-.94 2.06-2.06.94zm-11 1L8.5 8.5l.94-2.06 2.06-.94-2.06-.94L8.5 2.5l-.94 2.06-2.06.94zm10 10l.94 2.06.94-2.06 2.06-.94-2.06-.94-.94-2.06-.94 2.06-2.06.94z\"/><path d=\"M17.41 7.96l-1.37-1.37c-.4-.4-.92-.59-1.43-.59-.52 0-1.04.2-1.43.59L10.3 9.45l-7.72 7.72c-.78.78-.78 2.05 0 2.83L4 21.41c.39.39.9.59 1.41.59.51 0 1.02-.2 1.41-.59l7.78-7.78 2.81-2.81c.8-.78.8-2.07 0-2.86zM5.41 20L4 18.59l7.72-7.72 1.47 1.35L5.41 20z\"/>\n",
              "  </svg>\n",
              "      </button>\n",
              "      \n",
              "  <style>\n",
              "    .colab-df-container {\n",
              "      display:flex;\n",
              "      flex-wrap:wrap;\n",
              "      gap: 12px;\n",
              "    }\n",
              "\n",
              "    .colab-df-convert {\n",
              "      background-color: #E8F0FE;\n",
              "      border: none;\n",
              "      border-radius: 50%;\n",
              "      cursor: pointer;\n",
              "      display: none;\n",
              "      fill: #1967D2;\n",
              "      height: 32px;\n",
              "      padding: 0 0 0 0;\n",
              "      width: 32px;\n",
              "    }\n",
              "\n",
              "    .colab-df-convert:hover {\n",
              "      background-color: #E2EBFA;\n",
              "      box-shadow: 0px 1px 2px rgba(60, 64, 67, 0.3), 0px 1px 3px 1px rgba(60, 64, 67, 0.15);\n",
              "      fill: #174EA6;\n",
              "    }\n",
              "\n",
              "    [theme=dark] .colab-df-convert {\n",
              "      background-color: #3B4455;\n",
              "      fill: #D2E3FC;\n",
              "    }\n",
              "\n",
              "    [theme=dark] .colab-df-convert:hover {\n",
              "      background-color: #434B5C;\n",
              "      box-shadow: 0px 1px 3px 1px rgba(0, 0, 0, 0.15);\n",
              "      filter: drop-shadow(0px 1px 2px rgba(0, 0, 0, 0.3));\n",
              "      fill: #FFFFFF;\n",
              "    }\n",
              "  </style>\n",
              "\n",
              "      <script>\n",
              "        const buttonEl =\n",
              "          document.querySelector('#df-c9f2abdd-747f-4647-95be-78b63404a551 button.colab-df-convert');\n",
              "        buttonEl.style.display =\n",
              "          google.colab.kernel.accessAllowed ? 'block' : 'none';\n",
              "\n",
              "        async function convertToInteractive(key) {\n",
              "          const element = document.querySelector('#df-c9f2abdd-747f-4647-95be-78b63404a551');\n",
              "          const dataTable =\n",
              "            await google.colab.kernel.invokeFunction('convertToInteractive',\n",
              "                                                     [key], {});\n",
              "          if (!dataTable) return;\n",
              "\n",
              "          const docLinkHtml = 'Like what you see? Visit the ' +\n",
              "            '<a target=\"_blank\" href=https://colab.research.google.com/notebooks/data_table.ipynb>data table notebook</a>'\n",
              "            + ' to learn more about interactive tables.';\n",
              "          element.innerHTML = '';\n",
              "          dataTable['output_type'] = 'display_data';\n",
              "          await google.colab.output.renderOutput(dataTable, element);\n",
              "          const docLink = document.createElement('div');\n",
              "          docLink.innerHTML = docLinkHtml;\n",
              "          element.appendChild(docLink);\n",
              "        }\n",
              "      </script>\n",
              "    </div>\n",
              "  </div>\n",
              "  "
            ]
          },
          "metadata": {},
          "execution_count": 60
        }
      ]
    },
    {
      "cell_type": "code",
      "source": [
        "\n",
        " #checking unique values and value counts of utm_medium column\n",
        "print('unique values in utm_medium column are:',new_df['utm_medium'].nunique())\n",
        "\n",
        "#checking for null values in utm_medium column\n",
        "print('null values in utm_medium column are:',new_df['utm_medium'].isna().sum())\n",
        "\n",
        "\n",
        "#since there are many unique categories we are only considering values with frequency more 300  to avoid high dimensionality\n",
        "print('No of unique categories having frequency greater than 300 :',source_country[source_country['source_country']>300].shape[0])"
      ],
      "metadata": {
        "colab": {
          "base_uri": "https://localhost:8080/"
        },
        "id": "7lDH1pl9Pd5v",
        "outputId": "8131918b-4c00-4c58-9b04-b1343497ba55"
      },
      "execution_count": 61,
      "outputs": [
        {
          "output_type": "stream",
          "name": "stdout",
          "text": [
            "unique values in utm_medium column are: 57\n",
            "null values in utm_medium column are: 2099\n",
            "No of unique categories having frequency greater than 300 : 5\n"
          ]
        }
      ]
    },
    {
      "cell_type": "code",
      "source": [
        "#creating a list of values having frequency less than 300\n",
        "low_frequency_values_um=list(utm_medium[utm_medium['utm_medium']<300].index)\n",
        "\n",
        "#creating a list of top 10 most frequent values\n",
        "top_10_frequent_values_um= list(utm_medium.head(10).index)\n",
        "\n",
        "#replacing all lower frequency values with random top 10 most frequent values: \n",
        "#(here we are randomly replacing lower frequency values with top 10 values because we don't want to overpopulate dataset with 1 value as it may lead to creating an imbalanced dataset)\n",
        "\n",
        "from random import sample\n",
        "new_df['utm_medium'] = new_df['utm_medium'].apply(lambda x: sample(top_10_frequent_values_um,1)[0] if x in low_frequency_values_um else x)\n",
        "\n",
        "\n",
        "# filling null values with random top 10 most frequent values:\n",
        "new_df['utm_medium']= new_df['utm_medium'].fillna(sample(top_10_frequent_values_um,1)[0])"
      ],
      "metadata": {
        "colab": {
          "base_uri": "https://localhost:8080/"
        },
        "id": "BPxYZ91kPd3Y",
        "outputId": "cc43831b-d729-4796-cf79-b3a9f4582456"
      },
      "execution_count": 62,
      "outputs": [
        {
          "output_type": "stream",
          "name": "stderr",
          "text": [
            "<ipython-input-62-1ad25de888c6>:11: SettingWithCopyWarning: \n",
            "A value is trying to be set on a copy of a slice from a DataFrame.\n",
            "Try using .loc[row_indexer,col_indexer] = value instead\n",
            "\n",
            "See the caveats in the documentation: https://pandas.pydata.org/pandas-docs/stable/user_guide/indexing.html#returning-a-view-versus-a-copy\n",
            "  new_df['utm_medium'] = new_df['utm_medium'].apply(lambda x: sample(top_10_frequent_values_um,1)[0] if x in low_frequency_values_um else x)\n",
            "<ipython-input-62-1ad25de888c6>:15: SettingWithCopyWarning: \n",
            "A value is trying to be set on a copy of a slice from a DataFrame.\n",
            "Try using .loc[row_indexer,col_indexer] = value instead\n",
            "\n",
            "See the caveats in the documentation: https://pandas.pydata.org/pandas-docs/stable/user_guide/indexing.html#returning-a-view-versus-a-copy\n",
            "  new_df['utm_medium']= new_df['utm_medium'].fillna(sample(top_10_frequent_values_um,1)[0])\n"
          ]
        }
      ]
    },
    {
      "cell_type": "code",
      "source": [
        "#checking unique and null values after treating utm_medium column\n",
        "print('unique values in utm_medium column:',new_df['utm_medium'].nunique())\n",
        "print('null values in column:',new_df['utm_medium'].isna().sum())"
      ],
      "metadata": {
        "colab": {
          "base_uri": "https://localhost:8080/"
        },
        "id": "5EKxRLS0SdCn",
        "outputId": "540fb53b-9716-42cf-8a67-6dc7e1534acf"
      },
      "execution_count": 63,
      "outputs": [
        {
          "output_type": "stream",
          "name": "stdout",
          "text": [
            "unique values in utm_medium column: 10\n",
            "null values in column: 0\n"
          ]
        }
      ]
    },
    {
      "cell_type": "markdown",
      "source": [
        "## **9. des_city**"
      ],
      "metadata": {
        "id": "8kxRLvorS6YM"
      }
    },
    {
      "cell_type": "code",
      "source": [
        "des_city= pd.DataFrame(new_df['des_city'].value_counts())\n",
        "des_city"
      ],
      "metadata": {
        "colab": {
          "base_uri": "https://localhost:8080/",
          "height": 0
        },
        "id": "YosEAc27TDH-",
        "outputId": "484eb28f-b73b-4335-bf72-4dc63c42cccd"
      },
      "execution_count": 64,
      "outputs": [
        {
          "output_type": "execute_result",
          "data": {
            "text/plain": [
              "                                                    des_city\n",
              "ecc0e7dc084f141b29479058967d0bc07dee25d9690a98e...      4734\n",
              "810c069040f6a9b16fdf976a901755508a87cb0224b169d...      2302\n",
              "11ab03a1a8c367191355c152f39fe28cae5e426fce49efb...      2046\n",
              "8593b9db65212160979d946950601c26622a219c80f1f12...      1361\n",
              "6a5ed83658ef85afc77709cc16ede854ad98e3c2ad8b076...      1122\n",
              "...                                                      ...\n",
              "88fa0e9c8ec31bd6ea6bd0738ea669d09a290b9b41c0c77...         1\n",
              "e638b638e52bd402d5e82575a8621bad647628f0d3ed8bb...         1\n",
              "7b8c7aa73f1d1754987b0509014c70547031b4aae8a8faa...         1\n",
              "c1b971e289147d3f94b6171f66dbfa494c414960844490f...         1\n",
              "2bfce62f26ca4419abdce39d2fb56e0e6b89a567a16270f...         1\n",
              "\n",
              "[193 rows x 1 columns]"
            ],
            "text/html": [
              "\n",
              "  <div id=\"df-7c415534-a7b0-477e-b257-d6b970efb7a4\">\n",
              "    <div class=\"colab-df-container\">\n",
              "      <div>\n",
              "<style scoped>\n",
              "    .dataframe tbody tr th:only-of-type {\n",
              "        vertical-align: middle;\n",
              "    }\n",
              "\n",
              "    .dataframe tbody tr th {\n",
              "        vertical-align: top;\n",
              "    }\n",
              "\n",
              "    .dataframe thead th {\n",
              "        text-align: right;\n",
              "    }\n",
              "</style>\n",
              "<table border=\"1\" class=\"dataframe\">\n",
              "  <thead>\n",
              "    <tr style=\"text-align: right;\">\n",
              "      <th></th>\n",
              "      <th>des_city</th>\n",
              "    </tr>\n",
              "  </thead>\n",
              "  <tbody>\n",
              "    <tr>\n",
              "      <th>ecc0e7dc084f141b29479058967d0bc07dee25d9690a98ee4e6fdad5168274d7</th>\n",
              "      <td>4734</td>\n",
              "    </tr>\n",
              "    <tr>\n",
              "      <th>810c069040f6a9b16fdf976a901755508a87cb0224b169d4b5d803357e647947</th>\n",
              "      <td>2302</td>\n",
              "    </tr>\n",
              "    <tr>\n",
              "      <th>11ab03a1a8c367191355c152f39fe28cae5e426fce49efb320230ca4ae3f97a1</th>\n",
              "      <td>2046</td>\n",
              "    </tr>\n",
              "    <tr>\n",
              "      <th>8593b9db65212160979d946950601c26622a219c80f1f122679eb69ec5b96600</th>\n",
              "      <td>1361</td>\n",
              "    </tr>\n",
              "    <tr>\n",
              "      <th>6a5ed83658ef85afc77709cc16ede854ad98e3c2ad8b076e10dcbcd6e5096271</th>\n",
              "      <td>1122</td>\n",
              "    </tr>\n",
              "    <tr>\n",
              "      <th>...</th>\n",
              "      <td>...</td>\n",
              "    </tr>\n",
              "    <tr>\n",
              "      <th>88fa0e9c8ec31bd6ea6bd0738ea669d09a290b9b41c0c77a3ae2211d0c83897b</th>\n",
              "      <td>1</td>\n",
              "    </tr>\n",
              "    <tr>\n",
              "      <th>e638b638e52bd402d5e82575a8621bad647628f0d3ed8bb04c4f976b67dcead9</th>\n",
              "      <td>1</td>\n",
              "    </tr>\n",
              "    <tr>\n",
              "      <th>7b8c7aa73f1d1754987b0509014c70547031b4aae8a8faa80785b0fa05b64ef0</th>\n",
              "      <td>1</td>\n",
              "    </tr>\n",
              "    <tr>\n",
              "      <th>c1b971e289147d3f94b6171f66dbfa494c414960844490fae1323ebaeb1407c7</th>\n",
              "      <td>1</td>\n",
              "    </tr>\n",
              "    <tr>\n",
              "      <th>2bfce62f26ca4419abdce39d2fb56e0e6b89a567a16270fe0bfe5821007b5372</th>\n",
              "      <td>1</td>\n",
              "    </tr>\n",
              "  </tbody>\n",
              "</table>\n",
              "<p>193 rows × 1 columns</p>\n",
              "</div>\n",
              "      <button class=\"colab-df-convert\" onclick=\"convertToInteractive('df-7c415534-a7b0-477e-b257-d6b970efb7a4')\"\n",
              "              title=\"Convert this dataframe to an interactive table.\"\n",
              "              style=\"display:none;\">\n",
              "        \n",
              "  <svg xmlns=\"http://www.w3.org/2000/svg\" height=\"24px\"viewBox=\"0 0 24 24\"\n",
              "       width=\"24px\">\n",
              "    <path d=\"M0 0h24v24H0V0z\" fill=\"none\"/>\n",
              "    <path d=\"M18.56 5.44l.94 2.06.94-2.06 2.06-.94-2.06-.94-.94-2.06-.94 2.06-2.06.94zm-11 1L8.5 8.5l.94-2.06 2.06-.94-2.06-.94L8.5 2.5l-.94 2.06-2.06.94zm10 10l.94 2.06.94-2.06 2.06-.94-2.06-.94-.94-2.06-.94 2.06-2.06.94z\"/><path d=\"M17.41 7.96l-1.37-1.37c-.4-.4-.92-.59-1.43-.59-.52 0-1.04.2-1.43.59L10.3 9.45l-7.72 7.72c-.78.78-.78 2.05 0 2.83L4 21.41c.39.39.9.59 1.41.59.51 0 1.02-.2 1.41-.59l7.78-7.78 2.81-2.81c.8-.78.8-2.07 0-2.86zM5.41 20L4 18.59l7.72-7.72 1.47 1.35L5.41 20z\"/>\n",
              "  </svg>\n",
              "      </button>\n",
              "      \n",
              "  <style>\n",
              "    .colab-df-container {\n",
              "      display:flex;\n",
              "      flex-wrap:wrap;\n",
              "      gap: 12px;\n",
              "    }\n",
              "\n",
              "    .colab-df-convert {\n",
              "      background-color: #E8F0FE;\n",
              "      border: none;\n",
              "      border-radius: 50%;\n",
              "      cursor: pointer;\n",
              "      display: none;\n",
              "      fill: #1967D2;\n",
              "      height: 32px;\n",
              "      padding: 0 0 0 0;\n",
              "      width: 32px;\n",
              "    }\n",
              "\n",
              "    .colab-df-convert:hover {\n",
              "      background-color: #E2EBFA;\n",
              "      box-shadow: 0px 1px 2px rgba(60, 64, 67, 0.3), 0px 1px 3px 1px rgba(60, 64, 67, 0.15);\n",
              "      fill: #174EA6;\n",
              "    }\n",
              "\n",
              "    [theme=dark] .colab-df-convert {\n",
              "      background-color: #3B4455;\n",
              "      fill: #D2E3FC;\n",
              "    }\n",
              "\n",
              "    [theme=dark] .colab-df-convert:hover {\n",
              "      background-color: #434B5C;\n",
              "      box-shadow: 0px 1px 3px 1px rgba(0, 0, 0, 0.15);\n",
              "      filter: drop-shadow(0px 1px 2px rgba(0, 0, 0, 0.3));\n",
              "      fill: #FFFFFF;\n",
              "    }\n",
              "  </style>\n",
              "\n",
              "      <script>\n",
              "        const buttonEl =\n",
              "          document.querySelector('#df-7c415534-a7b0-477e-b257-d6b970efb7a4 button.colab-df-convert');\n",
              "        buttonEl.style.display =\n",
              "          google.colab.kernel.accessAllowed ? 'block' : 'none';\n",
              "\n",
              "        async function convertToInteractive(key) {\n",
              "          const element = document.querySelector('#df-7c415534-a7b0-477e-b257-d6b970efb7a4');\n",
              "          const dataTable =\n",
              "            await google.colab.kernel.invokeFunction('convertToInteractive',\n",
              "                                                     [key], {});\n",
              "          if (!dataTable) return;\n",
              "\n",
              "          const docLinkHtml = 'Like what you see? Visit the ' +\n",
              "            '<a target=\"_blank\" href=https://colab.research.google.com/notebooks/data_table.ipynb>data table notebook</a>'\n",
              "            + ' to learn more about interactive tables.';\n",
              "          element.innerHTML = '';\n",
              "          dataTable['output_type'] = 'display_data';\n",
              "          await google.colab.output.renderOutput(dataTable, element);\n",
              "          const docLink = document.createElement('div');\n",
              "          docLink.innerHTML = docLinkHtml;\n",
              "          element.appendChild(docLink);\n",
              "        }\n",
              "      </script>\n",
              "    </div>\n",
              "  </div>\n",
              "  "
            ]
          },
          "metadata": {},
          "execution_count": 64
        }
      ]
    },
    {
      "cell_type": "code",
      "source": [
        " #checking unique values and value counts of des_city column\n",
        "print('unique values in des_city column are:',new_df['des_city'].nunique())\n",
        "\n",
        "#checking for null values in des_city column\n",
        "print('null values in des_city column are:',new_df['des_city'].isna().sum())\n",
        "\n",
        "\n",
        "#since there are many unique categories we are only considering values with frequency more 700  to avoid high dimensionality\n",
        "print('No of unique categories having frequency greater than 700 :',des_city[des_city['des_city']>700].shape[0])"
      ],
      "metadata": {
        "colab": {
          "base_uri": "https://localhost:8080/"
        },
        "id": "iJ1n44rvTDEs",
        "outputId": "1f8994a4-5f79-4059-be6e-b2e3ce7db0df"
      },
      "execution_count": 65,
      "outputs": [
        {
          "output_type": "stream",
          "name": "stdout",
          "text": [
            "unique values in des_city column are: 193\n",
            "null values in des_city column are: 1687\n",
            "No of unique categories having frequency greater than 700 : 13\n"
          ]
        }
      ]
    },
    {
      "cell_type": "code",
      "source": [
        "#creating a list of values having frequency less than 700\n",
        "low_frequency_values_dc=list(des_city[des_city['des_city']<700].index)\n",
        "\n",
        "#creating a list of top 10 most frequent values\n",
        "top_10_frequent_values_dc= list(des_city.head(10).index)\n",
        "\n",
        "#replacing all lower frequency values with random top 10 most frequent values: \n",
        "#(here we are randomly replacing lower frequency values with top 10 values because we don't want to overpopulate dataset with 1 value as it may lead to creating an imbalanced dataset)\n",
        "\n",
        "from random import sample\n",
        "new_df['des_city'] = new_df['des_city'].apply(lambda x: sample(top_10_frequent_values_dc,1)[0] if x in low_frequency_values_dc else x)\n",
        "\n",
        "\n",
        "# filling null values with random top 10 most frequent values:\n",
        "new_df['des_city']= new_df['des_city'].fillna(sample(top_10_frequent_values_dc,1)[0])"
      ],
      "metadata": {
        "colab": {
          "base_uri": "https://localhost:8080/"
        },
        "id": "_Jw_WMTMTDA0",
        "outputId": "2aa62ec7-0d75-4498-c9c0-665a6f049428"
      },
      "execution_count": 66,
      "outputs": [
        {
          "output_type": "stream",
          "name": "stderr",
          "text": [
            "<ipython-input-66-402077b0fe2f>:11: SettingWithCopyWarning: \n",
            "A value is trying to be set on a copy of a slice from a DataFrame.\n",
            "Try using .loc[row_indexer,col_indexer] = value instead\n",
            "\n",
            "See the caveats in the documentation: https://pandas.pydata.org/pandas-docs/stable/user_guide/indexing.html#returning-a-view-versus-a-copy\n",
            "  new_df['des_city'] = new_df['des_city'].apply(lambda x: sample(top_10_frequent_values_dc,1)[0] if x in low_frequency_values_dc else x)\n",
            "<ipython-input-66-402077b0fe2f>:15: SettingWithCopyWarning: \n",
            "A value is trying to be set on a copy of a slice from a DataFrame.\n",
            "Try using .loc[row_indexer,col_indexer] = value instead\n",
            "\n",
            "See the caveats in the documentation: https://pandas.pydata.org/pandas-docs/stable/user_guide/indexing.html#returning-a-view-versus-a-copy\n",
            "  new_df['des_city']= new_df['des_city'].fillna(sample(top_10_frequent_values_dc,1)[0])\n"
          ]
        }
      ]
    },
    {
      "cell_type": "code",
      "source": [
        "#checking unique and null values after treating des_city column\n",
        "print('unique values in des_city column:',new_df['des_city'].nunique())\n",
        "print('null values in column:',new_df['des_city'].isna().sum())"
      ],
      "metadata": {
        "colab": {
          "base_uri": "https://localhost:8080/"
        },
        "id": "zYWudhqoTC9Q",
        "outputId": "ffc80e38-7d3b-448b-f06c-e4572536f204"
      },
      "execution_count": 67,
      "outputs": [
        {
          "output_type": "stream",
          "name": "stdout",
          "text": [
            "unique values in des_city column: 13\n",
            "null values in column: 0\n"
          ]
        }
      ]
    },
    {
      "cell_type": "markdown",
      "source": [
        "## **10. des_country**"
      ],
      "metadata": {
        "id": "kLNTv7q-g2UE"
      }
    },
    {
      "cell_type": "code",
      "source": [
        "new_df.columns"
      ],
      "metadata": {
        "colab": {
          "base_uri": "https://localhost:8080/"
        },
        "id": "6XoTyytYUP0t",
        "outputId": "74e868f0-8f7c-4ef8-9a41-6a2ad14d1eb7"
      },
      "execution_count": 68,
      "outputs": [
        {
          "output_type": "execute_result",
          "data": {
            "text/plain": [
              "Index(['Agent_id', 'status', 'budget', 'lease', 'source', 'source_country',\n",
              "       'utm_source', 'utm_medium', 'des_city', 'des_country'],\n",
              "      dtype='object')"
            ]
          },
          "metadata": {},
          "execution_count": 68
        }
      ]
    },
    {
      "cell_type": "code",
      "source": [
        "des_country= pd.DataFrame(new_df['des_country'].value_counts())\n",
        "des_country"
      ],
      "metadata": {
        "colab": {
          "base_uri": "https://localhost:8080/",
          "height": 0
        },
        "id": "eg7PkJUGUPwk",
        "outputId": "0843db22-8c15-40f7-fae0-993d62583297"
      },
      "execution_count": 69,
      "outputs": [
        {
          "output_type": "execute_result",
          "data": {
            "text/plain": [
              "                                                    des_country\n",
              "8d23a6e37e0a6431a8f1b43a91026dcff51170a89a6512f...        27777\n",
              "02bf1dfa9a0365a86223f0e4ac9eaa0517b06b2e9273790...          499\n",
              "80db4ccdca106d37b920206331fcfe3e9e50a9e763d89b5...          106\n",
              "be55ef3f4c4e6c2d9c2afe2a33ac90ad0f50d4de7f91639...           93\n",
              "7a1ca4ef7515f7276bae7230545829c27810c9d9e98ab2c...           70\n",
              "c1ef40ce0484c698eb4bd27fe56c1e7b68d74f9780ed674...           59\n",
              "5a9cf672c8be6b5ab9546a2fb49b06dd81a4e364c86ed02...           32\n",
              "49dca65f362fee401292ed7ada96f96295eab1e589c52e4...           18\n",
              "abd149214539d9f222d25de6358735b9fa0efd3956f6610...           14\n",
              "4c7de2c3da6dc0ae8f9d13b107718a913859359bd30166d...           12\n",
              "8ef41e6f4b07432a0cb4eb7a8774e7a3878fd3e385f49aa...           11\n",
              "3a386c13d283dc2ebbe2aeffc1ab3930d086b28956930d9...            3\n",
              "2275583196d791405892aaca0d87743c872f3fc0cf3308a...            1"
            ],
            "text/html": [
              "\n",
              "  <div id=\"df-9e95f051-a4be-4a07-8a76-7843e03202ca\">\n",
              "    <div class=\"colab-df-container\">\n",
              "      <div>\n",
              "<style scoped>\n",
              "    .dataframe tbody tr th:only-of-type {\n",
              "        vertical-align: middle;\n",
              "    }\n",
              "\n",
              "    .dataframe tbody tr th {\n",
              "        vertical-align: top;\n",
              "    }\n",
              "\n",
              "    .dataframe thead th {\n",
              "        text-align: right;\n",
              "    }\n",
              "</style>\n",
              "<table border=\"1\" class=\"dataframe\">\n",
              "  <thead>\n",
              "    <tr style=\"text-align: right;\">\n",
              "      <th></th>\n",
              "      <th>des_country</th>\n",
              "    </tr>\n",
              "  </thead>\n",
              "  <tbody>\n",
              "    <tr>\n",
              "      <th>8d23a6e37e0a6431a8f1b43a91026dcff51170a89a6512ff098eaa56a4d5fb19</th>\n",
              "      <td>27777</td>\n",
              "    </tr>\n",
              "    <tr>\n",
              "      <th>02bf1dfa9a0365a86223f0e4ac9eaa0517b06b2e9273790f719feda656a247ae</th>\n",
              "      <td>499</td>\n",
              "    </tr>\n",
              "    <tr>\n",
              "      <th>80db4ccdca106d37b920206331fcfe3e9e50a9e763d89b54ce3ad5ac8cf30f03</th>\n",
              "      <td>106</td>\n",
              "    </tr>\n",
              "    <tr>\n",
              "      <th>be55ef3f4c4e6c2d9c2afe2a33ac90ad0f50d4de7f9163999877e2a9ca5a54f8</th>\n",
              "      <td>93</td>\n",
              "    </tr>\n",
              "    <tr>\n",
              "      <th>7a1ca4ef7515f7276bae7230545829c27810c9d9e98ab2c06066bee6270d5153</th>\n",
              "      <td>70</td>\n",
              "    </tr>\n",
              "    <tr>\n",
              "      <th>c1ef40ce0484c698eb4bd27fe56c1e7b68d74f9780ed674210d0e5013dae45e9</th>\n",
              "      <td>59</td>\n",
              "    </tr>\n",
              "    <tr>\n",
              "      <th>5a9cf672c8be6b5ab9546a2fb49b06dd81a4e364c86ed023898c49d9bb0605dc</th>\n",
              "      <td>32</td>\n",
              "    </tr>\n",
              "    <tr>\n",
              "      <th>49dca65f362fee401292ed7ada96f96295eab1e589c52e4e66bf4aedda715fdd</th>\n",
              "      <td>18</td>\n",
              "    </tr>\n",
              "    <tr>\n",
              "      <th>abd149214539d9f222d25de6358735b9fa0efd3956f66102b2c119ae2d9f6348</th>\n",
              "      <td>14</td>\n",
              "    </tr>\n",
              "    <tr>\n",
              "      <th>4c7de2c3da6dc0ae8f9d13b107718a913859359bd30166d077c867577953865d</th>\n",
              "      <td>12</td>\n",
              "    </tr>\n",
              "    <tr>\n",
              "      <th>8ef41e6f4b07432a0cb4eb7a8774e7a3878fd3e385f49aa09b406768467db228</th>\n",
              "      <td>11</td>\n",
              "    </tr>\n",
              "    <tr>\n",
              "      <th>3a386c13d283dc2ebbe2aeffc1ab3930d086b28956930d913d8dc58f34c013b7</th>\n",
              "      <td>3</td>\n",
              "    </tr>\n",
              "    <tr>\n",
              "      <th>2275583196d791405892aaca0d87743c872f3fc0cf3308a6c3ef82528918aa8a</th>\n",
              "      <td>1</td>\n",
              "    </tr>\n",
              "  </tbody>\n",
              "</table>\n",
              "</div>\n",
              "      <button class=\"colab-df-convert\" onclick=\"convertToInteractive('df-9e95f051-a4be-4a07-8a76-7843e03202ca')\"\n",
              "              title=\"Convert this dataframe to an interactive table.\"\n",
              "              style=\"display:none;\">\n",
              "        \n",
              "  <svg xmlns=\"http://www.w3.org/2000/svg\" height=\"24px\"viewBox=\"0 0 24 24\"\n",
              "       width=\"24px\">\n",
              "    <path d=\"M0 0h24v24H0V0z\" fill=\"none\"/>\n",
              "    <path d=\"M18.56 5.44l.94 2.06.94-2.06 2.06-.94-2.06-.94-.94-2.06-.94 2.06-2.06.94zm-11 1L8.5 8.5l.94-2.06 2.06-.94-2.06-.94L8.5 2.5l-.94 2.06-2.06.94zm10 10l.94 2.06.94-2.06 2.06-.94-2.06-.94-.94-2.06-.94 2.06-2.06.94z\"/><path d=\"M17.41 7.96l-1.37-1.37c-.4-.4-.92-.59-1.43-.59-.52 0-1.04.2-1.43.59L10.3 9.45l-7.72 7.72c-.78.78-.78 2.05 0 2.83L4 21.41c.39.39.9.59 1.41.59.51 0 1.02-.2 1.41-.59l7.78-7.78 2.81-2.81c.8-.78.8-2.07 0-2.86zM5.41 20L4 18.59l7.72-7.72 1.47 1.35L5.41 20z\"/>\n",
              "  </svg>\n",
              "      </button>\n",
              "      \n",
              "  <style>\n",
              "    .colab-df-container {\n",
              "      display:flex;\n",
              "      flex-wrap:wrap;\n",
              "      gap: 12px;\n",
              "    }\n",
              "\n",
              "    .colab-df-convert {\n",
              "      background-color: #E8F0FE;\n",
              "      border: none;\n",
              "      border-radius: 50%;\n",
              "      cursor: pointer;\n",
              "      display: none;\n",
              "      fill: #1967D2;\n",
              "      height: 32px;\n",
              "      padding: 0 0 0 0;\n",
              "      width: 32px;\n",
              "    }\n",
              "\n",
              "    .colab-df-convert:hover {\n",
              "      background-color: #E2EBFA;\n",
              "      box-shadow: 0px 1px 2px rgba(60, 64, 67, 0.3), 0px 1px 3px 1px rgba(60, 64, 67, 0.15);\n",
              "      fill: #174EA6;\n",
              "    }\n",
              "\n",
              "    [theme=dark] .colab-df-convert {\n",
              "      background-color: #3B4455;\n",
              "      fill: #D2E3FC;\n",
              "    }\n",
              "\n",
              "    [theme=dark] .colab-df-convert:hover {\n",
              "      background-color: #434B5C;\n",
              "      box-shadow: 0px 1px 3px 1px rgba(0, 0, 0, 0.15);\n",
              "      filter: drop-shadow(0px 1px 2px rgba(0, 0, 0, 0.3));\n",
              "      fill: #FFFFFF;\n",
              "    }\n",
              "  </style>\n",
              "\n",
              "      <script>\n",
              "        const buttonEl =\n",
              "          document.querySelector('#df-9e95f051-a4be-4a07-8a76-7843e03202ca button.colab-df-convert');\n",
              "        buttonEl.style.display =\n",
              "          google.colab.kernel.accessAllowed ? 'block' : 'none';\n",
              "\n",
              "        async function convertToInteractive(key) {\n",
              "          const element = document.querySelector('#df-9e95f051-a4be-4a07-8a76-7843e03202ca');\n",
              "          const dataTable =\n",
              "            await google.colab.kernel.invokeFunction('convertToInteractive',\n",
              "                                                     [key], {});\n",
              "          if (!dataTable) return;\n",
              "\n",
              "          const docLinkHtml = 'Like what you see? Visit the ' +\n",
              "            '<a target=\"_blank\" href=https://colab.research.google.com/notebooks/data_table.ipynb>data table notebook</a>'\n",
              "            + ' to learn more about interactive tables.';\n",
              "          element.innerHTML = '';\n",
              "          dataTable['output_type'] = 'display_data';\n",
              "          await google.colab.output.renderOutput(dataTable, element);\n",
              "          const docLink = document.createElement('div');\n",
              "          docLink.innerHTML = docLinkHtml;\n",
              "          element.appendChild(docLink);\n",
              "        }\n",
              "      </script>\n",
              "    </div>\n",
              "  </div>\n",
              "  "
            ]
          },
          "metadata": {},
          "execution_count": 69
        }
      ]
    },
    {
      "cell_type": "code",
      "source": [
        "\n",
        " #checking unique values and value counts of des_country column\n",
        "print('unique values in des_country column are:',new_df['des_country'].nunique())\n",
        "\n",
        "#checking for null values in des_country column\n",
        "print('null values in des_country column are:',new_df['des_country'].isna().sum())\n",
        "\n",
        "\n",
        "#since there are many unique categories we are only considering values with frequency more 100  to avoid high dimensionality\n",
        "print('No of unique categories having frequency greater than 100 :',des_country[des_country['des_country']>100].shape[0])"
      ],
      "metadata": {
        "colab": {
          "base_uri": "https://localhost:8080/"
        },
        "id": "2P3sS75CUPt2",
        "outputId": "e694274b-c4cb-42a6-d8fc-4f0deae44893"
      },
      "execution_count": 70,
      "outputs": [
        {
          "output_type": "stream",
          "name": "stdout",
          "text": [
            "unique values in des_country column are: 13\n",
            "null values in des_country column are: 1687\n",
            "No of unique categories having frequency greater than 100 : 3\n"
          ]
        }
      ]
    },
    {
      "cell_type": "code",
      "source": [
        "#creating a list of values having frequency less than 100\n",
        "low_frequency_values_dcc=list(des_country[des_country['des_country']<100].index)\n",
        "\n",
        "#creating a list of top 5 most frequent values\n",
        "top_5_frequent_values_dcc= list(des_country.head(5).index)\n",
        "\n",
        "#replacing all lower frequency values with random top 5 most frequent values: \n",
        "\n",
        "from random import sample\n",
        "new_df['des_country'] = new_df['des_country'].apply(lambda x: sample(top_5_frequent_values_dcc,1)[0] if x in low_frequency_values_dcc else x)\n",
        "\n",
        "\n",
        "# filling null values with random top 10 most frequent values:\n",
        "new_df['des_country']= new_df['des_country'].fillna(sample(top_5_frequent_values_dcc,1)[0])"
      ],
      "metadata": {
        "colab": {
          "base_uri": "https://localhost:8080/"
        },
        "id": "1EfYtiCAUPrt",
        "outputId": "568dc933-05fb-4c88-b84a-df8e95348cbe"
      },
      "execution_count": 71,
      "outputs": [
        {
          "output_type": "stream",
          "name": "stderr",
          "text": [
            "<ipython-input-71-402715f8d810>:10: SettingWithCopyWarning: \n",
            "A value is trying to be set on a copy of a slice from a DataFrame.\n",
            "Try using .loc[row_indexer,col_indexer] = value instead\n",
            "\n",
            "See the caveats in the documentation: https://pandas.pydata.org/pandas-docs/stable/user_guide/indexing.html#returning-a-view-versus-a-copy\n",
            "  new_df['des_country'] = new_df['des_country'].apply(lambda x: sample(top_5_frequent_values_dcc,1)[0] if x in low_frequency_values_dcc else x)\n",
            "<ipython-input-71-402715f8d810>:14: SettingWithCopyWarning: \n",
            "A value is trying to be set on a copy of a slice from a DataFrame.\n",
            "Try using .loc[row_indexer,col_indexer] = value instead\n",
            "\n",
            "See the caveats in the documentation: https://pandas.pydata.org/pandas-docs/stable/user_guide/indexing.html#returning-a-view-versus-a-copy\n",
            "  new_df['des_country']= new_df['des_country'].fillna(sample(top_5_frequent_values_dcc,1)[0])\n"
          ]
        }
      ]
    },
    {
      "cell_type": "code",
      "source": [
        "#checking unique and null values after treating des_country column\n",
        "print('unique values in des_country column:',new_df['des_country'].nunique())\n",
        "print('null values in column:',new_df['des_country'].isna().sum())\n"
      ],
      "metadata": {
        "colab": {
          "base_uri": "https://localhost:8080/"
        },
        "id": "ONLEAzO_TF2G",
        "outputId": "4d9ef753-882e-4aa6-c739-2baf3e76aed8"
      },
      "execution_count": 72,
      "outputs": [
        {
          "output_type": "stream",
          "name": "stdout",
          "text": [
            "unique values in des_country column: 5\n",
            "null values in column: 0\n"
          ]
        }
      ]
    },
    {
      "cell_type": "markdown",
      "source": [
        "# **Checking data post cleaning**"
      ],
      "metadata": {
        "id": "VKsux3R8nhr_"
      }
    },
    {
      "cell_type": "code",
      "source": [
        "new_df.columns"
      ],
      "metadata": {
        "colab": {
          "base_uri": "https://localhost:8080/"
        },
        "id": "yTx3CU5PTC5Z",
        "outputId": "24c5af03-8d48-4819-b60b-1a4a782b3077"
      },
      "execution_count": 73,
      "outputs": [
        {
          "output_type": "execute_result",
          "data": {
            "text/plain": [
              "Index(['Agent_id', 'status', 'budget', 'lease', 'source', 'source_country',\n",
              "       'utm_source', 'utm_medium', 'des_city', 'des_country'],\n",
              "      dtype='object')"
            ]
          },
          "metadata": {},
          "execution_count": 73
        }
      ]
    },
    {
      "cell_type": "code",
      "source": [
        "new_df.shape"
      ],
      "metadata": {
        "colab": {
          "base_uri": "https://localhost:8080/"
        },
        "id": "uh9tJYw3TC21",
        "outputId": "90f90b4f-d817-4756-bd05-226dc8f900ee"
      },
      "execution_count": 74,
      "outputs": [
        {
          "output_type": "execute_result",
          "data": {
            "text/plain": [
              "(30382, 10)"
            ]
          },
          "metadata": {},
          "execution_count": 74
        }
      ]
    },
    {
      "cell_type": "code",
      "source": [
        "# checking for unique values post data cleaning\n",
        "n=[]\n",
        "for a in new_df.columns:\n",
        "  x=new_df[a].nunique()\n",
        "  n.append(x)\n",
        "d={'column':new_df.columns,'unique_values': n}\n",
        "unique_values1 = pd.DataFrame.from_dict(d)\n",
        "unique_values1"
      ],
      "metadata": {
        "colab": {
          "base_uri": "https://localhost:8080/",
          "height": 363
        },
        "id": "MDVaMouLxJvF",
        "outputId": "e311b84d-a338-427d-a6a9-8e86e17044d9"
      },
      "execution_count": 75,
      "outputs": [
        {
          "output_type": "execute_result",
          "data": {
            "text/plain": [
              "           column  unique_values\n",
              "0        Agent_id             10\n",
              "1          status              2\n",
              "2          budget             10\n",
              "3           lease             14\n",
              "4          source             11\n",
              "5  source_country             10\n",
              "6      utm_source             10\n",
              "7      utm_medium             10\n",
              "8        des_city             13\n",
              "9     des_country              5"
            ],
            "text/html": [
              "\n",
              "  <div id=\"df-67841d73-c6c1-4cba-a915-e4c77d529c48\">\n",
              "    <div class=\"colab-df-container\">\n",
              "      <div>\n",
              "<style scoped>\n",
              "    .dataframe tbody tr th:only-of-type {\n",
              "        vertical-align: middle;\n",
              "    }\n",
              "\n",
              "    .dataframe tbody tr th {\n",
              "        vertical-align: top;\n",
              "    }\n",
              "\n",
              "    .dataframe thead th {\n",
              "        text-align: right;\n",
              "    }\n",
              "</style>\n",
              "<table border=\"1\" class=\"dataframe\">\n",
              "  <thead>\n",
              "    <tr style=\"text-align: right;\">\n",
              "      <th></th>\n",
              "      <th>column</th>\n",
              "      <th>unique_values</th>\n",
              "    </tr>\n",
              "  </thead>\n",
              "  <tbody>\n",
              "    <tr>\n",
              "      <th>0</th>\n",
              "      <td>Agent_id</td>\n",
              "      <td>10</td>\n",
              "    </tr>\n",
              "    <tr>\n",
              "      <th>1</th>\n",
              "      <td>status</td>\n",
              "      <td>2</td>\n",
              "    </tr>\n",
              "    <tr>\n",
              "      <th>2</th>\n",
              "      <td>budget</td>\n",
              "      <td>10</td>\n",
              "    </tr>\n",
              "    <tr>\n",
              "      <th>3</th>\n",
              "      <td>lease</td>\n",
              "      <td>14</td>\n",
              "    </tr>\n",
              "    <tr>\n",
              "      <th>4</th>\n",
              "      <td>source</td>\n",
              "      <td>11</td>\n",
              "    </tr>\n",
              "    <tr>\n",
              "      <th>5</th>\n",
              "      <td>source_country</td>\n",
              "      <td>10</td>\n",
              "    </tr>\n",
              "    <tr>\n",
              "      <th>6</th>\n",
              "      <td>utm_source</td>\n",
              "      <td>10</td>\n",
              "    </tr>\n",
              "    <tr>\n",
              "      <th>7</th>\n",
              "      <td>utm_medium</td>\n",
              "      <td>10</td>\n",
              "    </tr>\n",
              "    <tr>\n",
              "      <th>8</th>\n",
              "      <td>des_city</td>\n",
              "      <td>13</td>\n",
              "    </tr>\n",
              "    <tr>\n",
              "      <th>9</th>\n",
              "      <td>des_country</td>\n",
              "      <td>5</td>\n",
              "    </tr>\n",
              "  </tbody>\n",
              "</table>\n",
              "</div>\n",
              "      <button class=\"colab-df-convert\" onclick=\"convertToInteractive('df-67841d73-c6c1-4cba-a915-e4c77d529c48')\"\n",
              "              title=\"Convert this dataframe to an interactive table.\"\n",
              "              style=\"display:none;\">\n",
              "        \n",
              "  <svg xmlns=\"http://www.w3.org/2000/svg\" height=\"24px\"viewBox=\"0 0 24 24\"\n",
              "       width=\"24px\">\n",
              "    <path d=\"M0 0h24v24H0V0z\" fill=\"none\"/>\n",
              "    <path d=\"M18.56 5.44l.94 2.06.94-2.06 2.06-.94-2.06-.94-.94-2.06-.94 2.06-2.06.94zm-11 1L8.5 8.5l.94-2.06 2.06-.94-2.06-.94L8.5 2.5l-.94 2.06-2.06.94zm10 10l.94 2.06.94-2.06 2.06-.94-2.06-.94-.94-2.06-.94 2.06-2.06.94z\"/><path d=\"M17.41 7.96l-1.37-1.37c-.4-.4-.92-.59-1.43-.59-.52 0-1.04.2-1.43.59L10.3 9.45l-7.72 7.72c-.78.78-.78 2.05 0 2.83L4 21.41c.39.39.9.59 1.41.59.51 0 1.02-.2 1.41-.59l7.78-7.78 2.81-2.81c.8-.78.8-2.07 0-2.86zM5.41 20L4 18.59l7.72-7.72 1.47 1.35L5.41 20z\"/>\n",
              "  </svg>\n",
              "      </button>\n",
              "      \n",
              "  <style>\n",
              "    .colab-df-container {\n",
              "      display:flex;\n",
              "      flex-wrap:wrap;\n",
              "      gap: 12px;\n",
              "    }\n",
              "\n",
              "    .colab-df-convert {\n",
              "      background-color: #E8F0FE;\n",
              "      border: none;\n",
              "      border-radius: 50%;\n",
              "      cursor: pointer;\n",
              "      display: none;\n",
              "      fill: #1967D2;\n",
              "      height: 32px;\n",
              "      padding: 0 0 0 0;\n",
              "      width: 32px;\n",
              "    }\n",
              "\n",
              "    .colab-df-convert:hover {\n",
              "      background-color: #E2EBFA;\n",
              "      box-shadow: 0px 1px 2px rgba(60, 64, 67, 0.3), 0px 1px 3px 1px rgba(60, 64, 67, 0.15);\n",
              "      fill: #174EA6;\n",
              "    }\n",
              "\n",
              "    [theme=dark] .colab-df-convert {\n",
              "      background-color: #3B4455;\n",
              "      fill: #D2E3FC;\n",
              "    }\n",
              "\n",
              "    [theme=dark] .colab-df-convert:hover {\n",
              "      background-color: #434B5C;\n",
              "      box-shadow: 0px 1px 3px 1px rgba(0, 0, 0, 0.15);\n",
              "      filter: drop-shadow(0px 1px 2px rgba(0, 0, 0, 0.3));\n",
              "      fill: #FFFFFF;\n",
              "    }\n",
              "  </style>\n",
              "\n",
              "      <script>\n",
              "        const buttonEl =\n",
              "          document.querySelector('#df-67841d73-c6c1-4cba-a915-e4c77d529c48 button.colab-df-convert');\n",
              "        buttonEl.style.display =\n",
              "          google.colab.kernel.accessAllowed ? 'block' : 'none';\n",
              "\n",
              "        async function convertToInteractive(key) {\n",
              "          const element = document.querySelector('#df-67841d73-c6c1-4cba-a915-e4c77d529c48');\n",
              "          const dataTable =\n",
              "            await google.colab.kernel.invokeFunction('convertToInteractive',\n",
              "                                                     [key], {});\n",
              "          if (!dataTable) return;\n",
              "\n",
              "          const docLinkHtml = 'Like what you see? Visit the ' +\n",
              "            '<a target=\"_blank\" href=https://colab.research.google.com/notebooks/data_table.ipynb>data table notebook</a>'\n",
              "            + ' to learn more about interactive tables.';\n",
              "          element.innerHTML = '';\n",
              "          dataTable['output_type'] = 'display_data';\n",
              "          await google.colab.output.renderOutput(dataTable, element);\n",
              "          const docLink = document.createElement('div');\n",
              "          docLink.innerHTML = docLinkHtml;\n",
              "          element.appendChild(docLink);\n",
              "        }\n",
              "      </script>\n",
              "    </div>\n",
              "  </div>\n",
              "  "
            ]
          },
          "metadata": {},
          "execution_count": 75
        }
      ]
    },
    {
      "cell_type": "markdown",
      "source": [
        "# **Checking correlation between all the remaining features**"
      ],
      "metadata": {
        "id": "P13L97jxuD-p"
      }
    },
    {
      "cell_type": "code",
      "source": [
        "from scipy.stats import chi2_contingency\n",
        "tips_categorical= new_df.copy()"
      ],
      "metadata": {
        "id": "39LAyBq2uDtD"
      },
      "execution_count": 76,
      "outputs": []
    },
    {
      "cell_type": "code",
      "source": [
        "def cramers_V(var1,var2) :\n",
        "  crosstab =np.array(pd.crosstab(var1,var2, rownames=None, colnames=None)) # Cross table building\n",
        "  stat = chi2_contingency(crosstab)[0] # Keeping of the test statistic of the Chi2 test\n",
        "  obs = np.sum(crosstab) # Number of observations\n",
        "  mini = min(crosstab.shape)-1 # Take the minimum value between the columns and the rows of the cross table\n",
        "  return (stat/(obs*mini))"
      ],
      "metadata": {
        "id": "7X1mUaHFuDpj"
      },
      "execution_count": 77,
      "outputs": []
    },
    {
      "cell_type": "code",
      "source": [
        "rows= []\n",
        "\n",
        "for var1 in tips_categorical:\n",
        "  col = []\n",
        "  for var2 in tips_categorical :\n",
        "    cramers =cramers_V(tips_categorical[var1], tips_categorical[var2]) # Cramer's V test\n",
        "    col.append(round(cramers,2)) # Keeping of the rounded value of the Cramer's V  \n",
        "  rows.append(col)\n",
        "  \n",
        "cramers_results = np.array(rows)\n",
        "df1 = pd.DataFrame(cramers_results, columns = tips_categorical.columns, index =tips_categorical.columns)"
      ],
      "metadata": {
        "id": "NBr2i7N-uDnG"
      },
      "execution_count": 78,
      "outputs": []
    },
    {
      "cell_type": "code",
      "source": [
        "df1"
      ],
      "metadata": {
        "colab": {
          "base_uri": "https://localhost:8080/",
          "height": 363
        },
        "id": "29TsCJYmuDiv",
        "outputId": "ae1635d2-142f-4e75-db68-f4d37192d82e"
      },
      "execution_count": 79,
      "outputs": [
        {
          "output_type": "execute_result",
          "data": {
            "text/plain": [
              "                Agent_id  status  budget  lease  source  source_country  \\\n",
              "Agent_id            1.00    0.01    0.00   0.00    0.01            0.00   \n",
              "status              0.01    1.00    0.00   0.03    0.02            0.00   \n",
              "budget              0.00    0.00    1.00   0.11    0.07            0.02   \n",
              "lease               0.00    0.03    0.11   1.00    0.17            0.04   \n",
              "source              0.01    0.02    0.07   0.17    1.00            0.05   \n",
              "source_country      0.00    0.00    0.02   0.04    0.05            1.00   \n",
              "utm_source          0.00    0.03    0.02   0.08    0.20            0.08   \n",
              "utm_medium          0.01    0.01    0.02   0.09    0.19            0.08   \n",
              "des_city            0.02    0.02    0.01   0.01    0.01            0.01   \n",
              "des_country         0.01    0.00    0.02   0.02    0.03            0.01   \n",
              "\n",
              "                utm_source  utm_medium  des_city  des_country  \n",
              "Agent_id              0.00        0.01      0.02         0.01  \n",
              "status                0.03        0.01      0.02         0.00  \n",
              "budget                0.02        0.02      0.01         0.02  \n",
              "lease                 0.08        0.09      0.01         0.02  \n",
              "source                0.20        0.19      0.01         0.03  \n",
              "source_country        0.08        0.08      0.01         0.01  \n",
              "utm_source            1.00        0.34      0.01         0.02  \n",
              "utm_medium            0.34        1.00      0.01         0.04  \n",
              "des_city              0.01        0.01      1.00         0.08  \n",
              "des_country           0.02        0.04      0.08         1.00  "
            ],
            "text/html": [
              "\n",
              "  <div id=\"df-986d441b-c472-476f-a719-0184bfd003d9\">\n",
              "    <div class=\"colab-df-container\">\n",
              "      <div>\n",
              "<style scoped>\n",
              "    .dataframe tbody tr th:only-of-type {\n",
              "        vertical-align: middle;\n",
              "    }\n",
              "\n",
              "    .dataframe tbody tr th {\n",
              "        vertical-align: top;\n",
              "    }\n",
              "\n",
              "    .dataframe thead th {\n",
              "        text-align: right;\n",
              "    }\n",
              "</style>\n",
              "<table border=\"1\" class=\"dataframe\">\n",
              "  <thead>\n",
              "    <tr style=\"text-align: right;\">\n",
              "      <th></th>\n",
              "      <th>Agent_id</th>\n",
              "      <th>status</th>\n",
              "      <th>budget</th>\n",
              "      <th>lease</th>\n",
              "      <th>source</th>\n",
              "      <th>source_country</th>\n",
              "      <th>utm_source</th>\n",
              "      <th>utm_medium</th>\n",
              "      <th>des_city</th>\n",
              "      <th>des_country</th>\n",
              "    </tr>\n",
              "  </thead>\n",
              "  <tbody>\n",
              "    <tr>\n",
              "      <th>Agent_id</th>\n",
              "      <td>1.00</td>\n",
              "      <td>0.01</td>\n",
              "      <td>0.00</td>\n",
              "      <td>0.00</td>\n",
              "      <td>0.01</td>\n",
              "      <td>0.00</td>\n",
              "      <td>0.00</td>\n",
              "      <td>0.01</td>\n",
              "      <td>0.02</td>\n",
              "      <td>0.01</td>\n",
              "    </tr>\n",
              "    <tr>\n",
              "      <th>status</th>\n",
              "      <td>0.01</td>\n",
              "      <td>1.00</td>\n",
              "      <td>0.00</td>\n",
              "      <td>0.03</td>\n",
              "      <td>0.02</td>\n",
              "      <td>0.00</td>\n",
              "      <td>0.03</td>\n",
              "      <td>0.01</td>\n",
              "      <td>0.02</td>\n",
              "      <td>0.00</td>\n",
              "    </tr>\n",
              "    <tr>\n",
              "      <th>budget</th>\n",
              "      <td>0.00</td>\n",
              "      <td>0.00</td>\n",
              "      <td>1.00</td>\n",
              "      <td>0.11</td>\n",
              "      <td>0.07</td>\n",
              "      <td>0.02</td>\n",
              "      <td>0.02</td>\n",
              "      <td>0.02</td>\n",
              "      <td>0.01</td>\n",
              "      <td>0.02</td>\n",
              "    </tr>\n",
              "    <tr>\n",
              "      <th>lease</th>\n",
              "      <td>0.00</td>\n",
              "      <td>0.03</td>\n",
              "      <td>0.11</td>\n",
              "      <td>1.00</td>\n",
              "      <td>0.17</td>\n",
              "      <td>0.04</td>\n",
              "      <td>0.08</td>\n",
              "      <td>0.09</td>\n",
              "      <td>0.01</td>\n",
              "      <td>0.02</td>\n",
              "    </tr>\n",
              "    <tr>\n",
              "      <th>source</th>\n",
              "      <td>0.01</td>\n",
              "      <td>0.02</td>\n",
              "      <td>0.07</td>\n",
              "      <td>0.17</td>\n",
              "      <td>1.00</td>\n",
              "      <td>0.05</td>\n",
              "      <td>0.20</td>\n",
              "      <td>0.19</td>\n",
              "      <td>0.01</td>\n",
              "      <td>0.03</td>\n",
              "    </tr>\n",
              "    <tr>\n",
              "      <th>source_country</th>\n",
              "      <td>0.00</td>\n",
              "      <td>0.00</td>\n",
              "      <td>0.02</td>\n",
              "      <td>0.04</td>\n",
              "      <td>0.05</td>\n",
              "      <td>1.00</td>\n",
              "      <td>0.08</td>\n",
              "      <td>0.08</td>\n",
              "      <td>0.01</td>\n",
              "      <td>0.01</td>\n",
              "    </tr>\n",
              "    <tr>\n",
              "      <th>utm_source</th>\n",
              "      <td>0.00</td>\n",
              "      <td>0.03</td>\n",
              "      <td>0.02</td>\n",
              "      <td>0.08</td>\n",
              "      <td>0.20</td>\n",
              "      <td>0.08</td>\n",
              "      <td>1.00</td>\n",
              "      <td>0.34</td>\n",
              "      <td>0.01</td>\n",
              "      <td>0.02</td>\n",
              "    </tr>\n",
              "    <tr>\n",
              "      <th>utm_medium</th>\n",
              "      <td>0.01</td>\n",
              "      <td>0.01</td>\n",
              "      <td>0.02</td>\n",
              "      <td>0.09</td>\n",
              "      <td>0.19</td>\n",
              "      <td>0.08</td>\n",
              "      <td>0.34</td>\n",
              "      <td>1.00</td>\n",
              "      <td>0.01</td>\n",
              "      <td>0.04</td>\n",
              "    </tr>\n",
              "    <tr>\n",
              "      <th>des_city</th>\n",
              "      <td>0.02</td>\n",
              "      <td>0.02</td>\n",
              "      <td>0.01</td>\n",
              "      <td>0.01</td>\n",
              "      <td>0.01</td>\n",
              "      <td>0.01</td>\n",
              "      <td>0.01</td>\n",
              "      <td>0.01</td>\n",
              "      <td>1.00</td>\n",
              "      <td>0.08</td>\n",
              "    </tr>\n",
              "    <tr>\n",
              "      <th>des_country</th>\n",
              "      <td>0.01</td>\n",
              "      <td>0.00</td>\n",
              "      <td>0.02</td>\n",
              "      <td>0.02</td>\n",
              "      <td>0.03</td>\n",
              "      <td>0.01</td>\n",
              "      <td>0.02</td>\n",
              "      <td>0.04</td>\n",
              "      <td>0.08</td>\n",
              "      <td>1.00</td>\n",
              "    </tr>\n",
              "  </tbody>\n",
              "</table>\n",
              "</div>\n",
              "      <button class=\"colab-df-convert\" onclick=\"convertToInteractive('df-986d441b-c472-476f-a719-0184bfd003d9')\"\n",
              "              title=\"Convert this dataframe to an interactive table.\"\n",
              "              style=\"display:none;\">\n",
              "        \n",
              "  <svg xmlns=\"http://www.w3.org/2000/svg\" height=\"24px\"viewBox=\"0 0 24 24\"\n",
              "       width=\"24px\">\n",
              "    <path d=\"M0 0h24v24H0V0z\" fill=\"none\"/>\n",
              "    <path d=\"M18.56 5.44l.94 2.06.94-2.06 2.06-.94-2.06-.94-.94-2.06-.94 2.06-2.06.94zm-11 1L8.5 8.5l.94-2.06 2.06-.94-2.06-.94L8.5 2.5l-.94 2.06-2.06.94zm10 10l.94 2.06.94-2.06 2.06-.94-2.06-.94-.94-2.06-.94 2.06-2.06.94z\"/><path d=\"M17.41 7.96l-1.37-1.37c-.4-.4-.92-.59-1.43-.59-.52 0-1.04.2-1.43.59L10.3 9.45l-7.72 7.72c-.78.78-.78 2.05 0 2.83L4 21.41c.39.39.9.59 1.41.59.51 0 1.02-.2 1.41-.59l7.78-7.78 2.81-2.81c.8-.78.8-2.07 0-2.86zM5.41 20L4 18.59l7.72-7.72 1.47 1.35L5.41 20z\"/>\n",
              "  </svg>\n",
              "      </button>\n",
              "      \n",
              "  <style>\n",
              "    .colab-df-container {\n",
              "      display:flex;\n",
              "      flex-wrap:wrap;\n",
              "      gap: 12px;\n",
              "    }\n",
              "\n",
              "    .colab-df-convert {\n",
              "      background-color: #E8F0FE;\n",
              "      border: none;\n",
              "      border-radius: 50%;\n",
              "      cursor: pointer;\n",
              "      display: none;\n",
              "      fill: #1967D2;\n",
              "      height: 32px;\n",
              "      padding: 0 0 0 0;\n",
              "      width: 32px;\n",
              "    }\n",
              "\n",
              "    .colab-df-convert:hover {\n",
              "      background-color: #E2EBFA;\n",
              "      box-shadow: 0px 1px 2px rgba(60, 64, 67, 0.3), 0px 1px 3px 1px rgba(60, 64, 67, 0.15);\n",
              "      fill: #174EA6;\n",
              "    }\n",
              "\n",
              "    [theme=dark] .colab-df-convert {\n",
              "      background-color: #3B4455;\n",
              "      fill: #D2E3FC;\n",
              "    }\n",
              "\n",
              "    [theme=dark] .colab-df-convert:hover {\n",
              "      background-color: #434B5C;\n",
              "      box-shadow: 0px 1px 3px 1px rgba(0, 0, 0, 0.15);\n",
              "      filter: drop-shadow(0px 1px 2px rgba(0, 0, 0, 0.3));\n",
              "      fill: #FFFFFF;\n",
              "    }\n",
              "  </style>\n",
              "\n",
              "      <script>\n",
              "        const buttonEl =\n",
              "          document.querySelector('#df-986d441b-c472-476f-a719-0184bfd003d9 button.colab-df-convert');\n",
              "        buttonEl.style.display =\n",
              "          google.colab.kernel.accessAllowed ? 'block' : 'none';\n",
              "\n",
              "        async function convertToInteractive(key) {\n",
              "          const element = document.querySelector('#df-986d441b-c472-476f-a719-0184bfd003d9');\n",
              "          const dataTable =\n",
              "            await google.colab.kernel.invokeFunction('convertToInteractive',\n",
              "                                                     [key], {});\n",
              "          if (!dataTable) return;\n",
              "\n",
              "          const docLinkHtml = 'Like what you see? Visit the ' +\n",
              "            '<a target=\"_blank\" href=https://colab.research.google.com/notebooks/data_table.ipynb>data table notebook</a>'\n",
              "            + ' to learn more about interactive tables.';\n",
              "          element.innerHTML = '';\n",
              "          dataTable['output_type'] = 'display_data';\n",
              "          await google.colab.output.renderOutput(dataTable, element);\n",
              "          const docLink = document.createElement('div');\n",
              "          docLink.innerHTML = docLinkHtml;\n",
              "          element.appendChild(docLink);\n",
              "        }\n",
              "      </script>\n",
              "    </div>\n",
              "  </div>\n",
              "  "
            ]
          },
          "metadata": {},
          "execution_count": 79
        }
      ]
    },
    {
      "cell_type": "code",
      "source": [
        "# generating 2-D 10x10 matrix of random numbers\n",
        "# from 1 to 100\n",
        "plt.figure(figsize = (10, 7))\n",
        "data = np.random.randint(low=1,\n",
        "                         high=100,\n",
        "                         size=(10, 10))\n",
        "  \n",
        "# setting the parameter values\n",
        "annot = True\n",
        "  \n",
        "# plotting the heatmap\n",
        "hm = sns.heatmap(data=df1,\n",
        "                annot=annot)\n",
        "  \n",
        "# displaying the plotted heatmap\n",
        "plt.show()"
      ],
      "metadata": {
        "colab": {
          "base_uri": "https://localhost:8080/",
          "height": 499
        },
        "id": "nhCjwteYuDfZ",
        "outputId": "26dd3626-0aa3-46af-e067-e4e9af8f91f9"
      },
      "execution_count": 80,
      "outputs": [
        {
          "output_type": "display_data",
          "data": {
            "text/plain": [
              "<Figure size 720x504 with 2 Axes>"
            ],
            "image/png": "[encoded data removed]"
          },
          "metadata": {
            "needs_background": "light"
          }
        }
      ]
    },
    {
      "cell_type": "markdown",
      "source": [
        "None of the features seems to be much correlated with each other."
      ],
      "metadata": {
        "id": "n4e1hTZ3wSbf"
      }
    },
    {
      "cell_type": "markdown",
      "source": [
        "# **One hot encoding the categorical features**"
      ],
      "metadata": {
        "id": "U_DXnmAjzNnH"
      }
    },
    {
      "cell_type": "code",
      "source": [
        "#one hot encoding all the categorical variables:\n",
        "one_hot_encoded_data = pd.get_dummies(new_df, columns = ['Agent_id','budget', 'lease', 'source', 'source_country','utm_source', 'utm_medium', 'des_city', 'des_country'])\n",
        "one_hot_encoded_data.head(4)"
      ],
      "metadata": {
        "colab": {
          "base_uri": "https://localhost:8080/",
          "height": 268
        },
        "id": "DXpOsfG0uDb3",
        "outputId": "2bbb800f-6ec4-4d86-9fdd-ef557fda6dde"
      },
      "execution_count": 81,
      "outputs": [
        {
          "output_type": "execute_result",
          "data": {
            "text/plain": [
              "   status  \\\n",
              "0       0   \n",
              "1       0   \n",
              "2       0   \n",
              "3       0   \n",
              "\n",
              "   Agent_id_2fca346db656187102ce806ac732e06a62df0dbb2829e511a770556d398e1a6e  \\\n",
              "0                                                  0                           \n",
              "1                                                  0                           \n",
              "2                                                  0                           \n",
              "3                                                  0                           \n",
              "\n",
              "   Agent_id_44864c96fa1c36602f0d045b268981b6cab638a60fc207c89e3bba235f619450  \\\n",
              "0                                                  0                           \n",
              "1                                                  0                           \n",
              "2                                                  0                           \n",
              "3                                                  0                           \n",
              "\n",
              "   Agent_id_4596fcf257c4cd0393947526079ade602ea5a8a5774bf4d01f0f8da2d1bfe16a  \\\n",
              "0                                                  0                           \n",
              "1                                                  0                           \n",
              "2                                                  0                           \n",
              "3                                                  0                           \n",
              "\n",
              "   Agent_id_64ce47d15992e40da1dd9e37330f1aa90bf11b5878258ae20b5ebd5c11aeb3a3  \\\n",
              "0                                                  0                           \n",
              "1                                                  0                           \n",
              "2                                                  0                           \n",
              "3                                                  0                           \n",
              "\n",
              "   Agent_id_8e2d91da4e36f2d82d3df133ac8f1f274430573c394b0b4a86cf18190e51cd5a  \\\n",
              "0                                                  0                           \n",
              "1                                                  0                           \n",
              "2                                                  0                           \n",
              "3                                                  0                           \n",
              "\n",
              "   Agent_id_96ab6152cb421b4d4012a4903c19004608a342a5f7c6671a7828b8ad8d5b9489  \\\n",
              "0                                                  0                           \n",
              "1                                                  0                           \n",
              "2                                                  0                           \n",
              "3                                                  0                           \n",
              "\n",
              "   Agent_id_ab6bb4584e9946b135dca2e39d12abba3ea82d5ea927d05371cc49b0731261ca  \\\n",
              "0                                                  0                           \n",
              "1                                                  0                           \n",
              "2                                                  0                           \n",
              "3                                                  0                           \n",
              "\n",
              "   Agent_id_eac9815a500f908736d303e23aa227f0957177b0e6756b915a3d3cc3a846b83b  \\\n",
              "0                                                  0                           \n",
              "1                                                  0                           \n",
              "2                                                  0                           \n",
              "3                                                  1                           \n",
              "\n",
              "   Agent_id_f11a7d64cc0201a4ba1e60e00992d074dc6c46680bb7be196073d26e53e45bf1  \\\n",
              "0                                                  1                           \n",
              "1                                                  0                           \n",
              "2                                                  1                           \n",
              "3                                                  0                           \n",
              "\n",
              "   ...  \\\n",
              "0  ...   \n",
              "1  ...   \n",
              "2  ...   \n",
              "3  ...   \n",
              "\n",
              "   des_city_9edff2628ff7385bffbe7fc9cae89010d2cb9182e805e146de99e99cd4dfce61  \\\n",
              "0                                                  0                           \n",
              "1                                                  0                           \n",
              "2                                                  0                           \n",
              "3                                                  0                           \n",
              "\n",
              "   des_city_b2586a6cef5690b74e9fb425f95f8fb3f1e18a4cdc3225eb2f53534ec3602aee  \\\n",
              "0                                                  0                           \n",
              "1                                                  0                           \n",
              "2                                                  0                           \n",
              "3                                                  0                           \n",
              "\n",
              "   des_city_bf5ade33b5b472c3599473a5cb4e5c7037e4c73296b7e97006edb71f029133b6  \\\n",
              "0                                                  0                           \n",
              "1                                                  0                           \n",
              "2                                                  0                           \n",
              "3                                                  0                           \n",
              "\n",
              "   des_city_c384826dfbfce62c3fd99a46984a56fe71546a85c2cb6cf12031691b8e038a23  \\\n",
              "0                                                  0                           \n",
              "1                                                  0                           \n",
              "2                                                  0                           \n",
              "3                                                  0                           \n",
              "\n",
              "   des_city_ecc0e7dc084f141b29479058967d0bc07dee25d9690a98ee4e6fdad5168274d7  \\\n",
              "0                                                  1                           \n",
              "1                                                  0                           \n",
              "2                                                  0                           \n",
              "3                                                  0                           \n",
              "\n",
              "   des_country_02bf1dfa9a0365a86223f0e4ac9eaa0517b06b2e9273790f719feda656a247ae  \\\n",
              "0                                                  0                              \n",
              "1                                                  0                              \n",
              "2                                                  0                              \n",
              "3                                                  0                              \n",
              "\n",
              "   des_country_7a1ca4ef7515f7276bae7230545829c27810c9d9e98ab2c06066bee6270d5153  \\\n",
              "0                                                  0                              \n",
              "1                                                  0                              \n",
              "2                                                  0                              \n",
              "3                                                  0                              \n",
              "\n",
              "   des_country_80db4ccdca106d37b920206331fcfe3e9e50a9e763d89b54ce3ad5ac8cf30f03  \\\n",
              "0                                                  0                              \n",
              "1                                                  0                              \n",
              "2                                                  0                              \n",
              "3                                                  0                              \n",
              "\n",
              "   des_country_8d23a6e37e0a6431a8f1b43a91026dcff51170a89a6512ff098eaa56a4d5fb19  \\\n",
              "0                                                  1                              \n",
              "1                                                  1                              \n",
              "2                                                  1                              \n",
              "3                                                  1                              \n",
              "\n",
              "   des_country_be55ef3f4c4e6c2d9c2afe2a33ac90ad0f50d4de7f9163999877e2a9ca5a54f8  \n",
              "0                                                  0                             \n",
              "1                                                  0                             \n",
              "2                                                  0                             \n",
              "3                                                  0                             \n",
              "\n",
              "[4 rows x 94 columns]"
            ],
            "text/html": [
              "\n",
              "  <div id=\"df-6b1d0033-54b8-4782-9191-7097789577c3\">\n",
              "    <div class=\"colab-df-container\">\n",
              "      <div>\n",
              "<style scoped>\n",
              "    .dataframe tbody tr th:only-of-type {\n",
              "        vertical-align: middle;\n",
              "    }\n",
              "\n",
              "    .dataframe tbody tr th {\n",
              "        vertical-align: top;\n",
              "    }\n",
              "\n",
              "    .dataframe thead th {\n",
              "        text-align: right;\n",
              "    }\n",
              "</style>\n",
              "<table border=\"1\" class=\"dataframe\">\n",
              "  <thead>\n",
              "    <tr style=\"text-align: right;\">\n",
              "      <th></th>\n",
              "      <th>status</th>\n",
              "      <th>Agent_id_2fca346db656187102ce806ac732e06a62df0dbb2829e511a770556d398e1a6e</th>\n",
              "      <th>Agent_id_44864c96fa1c36602f0d045b268981b6cab638a60fc207c89e3bba235f619450</th>\n",
              "      <th>Agent_id_4596fcf257c4cd0393947526079ade602ea5a8a5774bf4d01f0f8da2d1bfe16a</th>\n",
              "      <th>Agent_id_64ce47d15992e40da1dd9e37330f1aa90bf11b5878258ae20b5ebd5c11aeb3a3</th>\n",
              "      <th>Agent_id_8e2d91da4e36f2d82d3df133ac8f1f274430573c394b0b4a86cf18190e51cd5a</th>\n",
              "      <th>Agent_id_96ab6152cb421b4d4012a4903c19004608a342a5f7c6671a7828b8ad8d5b9489</th>\n",
              "      <th>Agent_id_ab6bb4584e9946b135dca2e39d12abba3ea82d5ea927d05371cc49b0731261ca</th>\n",
              "      <th>Agent_id_eac9815a500f908736d303e23aa227f0957177b0e6756b915a3d3cc3a846b83b</th>\n",
              "      <th>Agent_id_f11a7d64cc0201a4ba1e60e00992d074dc6c46680bb7be196073d26e53e45bf1</th>\n",
              "      <th>...</th>\n",
              "      <th>des_city_9edff2628ff7385bffbe7fc9cae89010d2cb9182e805e146de99e99cd4dfce61</th>\n",
              "      <th>des_city_b2586a6cef5690b74e9fb425f95f8fb3f1e18a4cdc3225eb2f53534ec3602aee</th>\n",
              "      <th>des_city_bf5ade33b5b472c3599473a5cb4e5c7037e4c73296b7e97006edb71f029133b6</th>\n",
              "      <th>des_city_c384826dfbfce62c3fd99a46984a56fe71546a85c2cb6cf12031691b8e038a23</th>\n",
              "      <th>des_city_ecc0e7dc084f141b29479058967d0bc07dee25d9690a98ee4e6fdad5168274d7</th>\n",
              "      <th>des_country_02bf1dfa9a0365a86223f0e4ac9eaa0517b06b2e9273790f719feda656a247ae</th>\n",
              "      <th>des_country_7a1ca4ef7515f7276bae7230545829c27810c9d9e98ab2c06066bee6270d5153</th>\n",
              "      <th>des_country_80db4ccdca106d37b920206331fcfe3e9e50a9e763d89b54ce3ad5ac8cf30f03</th>\n",
              "      <th>des_country_8d23a6e37e0a6431a8f1b43a91026dcff51170a89a6512ff098eaa56a4d5fb19</th>\n",
              "      <th>des_country_be55ef3f4c4e6c2d9c2afe2a33ac90ad0f50d4de7f9163999877e2a9ca5a54f8</th>\n",
              "    </tr>\n",
              "  </thead>\n",
              "  <tbody>\n",
              "    <tr>\n",
              "      <th>0</th>\n",
              "      <td>0</td>\n",
              "      <td>0</td>\n",
              "      <td>0</td>\n",
              "      <td>0</td>\n",
              "      <td>0</td>\n",
              "      <td>0</td>\n",
              "      <td>0</td>\n",
              "      <td>0</td>\n",
              "      <td>0</td>\n",
              "      <td>1</td>\n",
              "      <td>...</td>\n",
              "      <td>0</td>\n",
              "      <td>0</td>\n",
              "      <td>0</td>\n",
              "      <td>0</td>\n",
              "      <td>1</td>\n",
              "      <td>0</td>\n",
              "      <td>0</td>\n",
              "      <td>0</td>\n",
              "      <td>1</td>\n",
              "      <td>0</td>\n",
              "    </tr>\n",
              "    <tr>\n",
              "      <th>1</th>\n",
              "      <td>0</td>\n",
              "      <td>0</td>\n",
              "      <td>0</td>\n",
              "      <td>0</td>\n",
              "      <td>0</td>\n",
              "      <td>0</td>\n",
              "      <td>0</td>\n",
              "      <td>0</td>\n",
              "      <td>0</td>\n",
              "      <td>0</td>\n",
              "      <td>...</td>\n",
              "      <td>0</td>\n",
              "      <td>0</td>\n",
              "      <td>0</td>\n",
              "      <td>0</td>\n",
              "      <td>0</td>\n",
              "      <td>0</td>\n",
              "      <td>0</td>\n",
              "      <td>0</td>\n",
              "      <td>1</td>\n",
              "      <td>0</td>\n",
              "    </tr>\n",
              "    <tr>\n",
              "      <th>2</th>\n",
              "      <td>0</td>\n",
              "      <td>0</td>\n",
              "      <td>0</td>\n",
              "      <td>0</td>\n",
              "      <td>0</td>\n",
              "      <td>0</td>\n",
              "      <td>0</td>\n",
              "      <td>0</td>\n",
              "      <td>0</td>\n",
              "      <td>1</td>\n",
              "      <td>...</td>\n",
              "      <td>0</td>\n",
              "      <td>0</td>\n",
              "      <td>0</td>\n",
              "      <td>0</td>\n",
              "      <td>0</td>\n",
              "      <td>0</td>\n",
              "      <td>0</td>\n",
              "      <td>0</td>\n",
              "      <td>1</td>\n",
              "      <td>0</td>\n",
              "    </tr>\n",
              "    <tr>\n",
              "      <th>3</th>\n",
              "      <td>0</td>\n",
              "      <td>0</td>\n",
              "      <td>0</td>\n",
              "      <td>0</td>\n",
              "      <td>0</td>\n",
              "      <td>0</td>\n",
              "      <td>0</td>\n",
              "      <td>0</td>\n",
              "      <td>1</td>\n",
              "      <td>0</td>\n",
              "      <td>...</td>\n",
              "      <td>0</td>\n",
              "      <td>0</td>\n",
              "      <td>0</td>\n",
              "      <td>0</td>\n",
              "      <td>0</td>\n",
              "      <td>0</td>\n",
              "      <td>0</td>\n",
              "      <td>0</td>\n",
              "      <td>1</td>\n",
              "      <td>0</td>\n",
              "    </tr>\n",
              "  </tbody>\n",
              "</table>\n",
              "<p>4 rows × 94 columns</p>\n",
              "</div>\n",
              "      <button class=\"colab-df-convert\" onclick=\"convertToInteractive('df-6b1d0033-54b8-4782-9191-7097789577c3')\"\n",
              "              title=\"Convert this dataframe to an interactive table.\"\n",
              "              style=\"display:none;\">\n",
              "        \n",
              "  <svg xmlns=\"http://www.w3.org/2000/svg\" height=\"24px\"viewBox=\"0 0 24 24\"\n",
              "       width=\"24px\">\n",
              "    <path d=\"M0 0h24v24H0V0z\" fill=\"none\"/>\n",
              "    <path d=\"M18.56 5.44l.94 2.06.94-2.06 2.06-.94-2.06-.94-.94-2.06-.94 2.06-2.06.94zm-11 1L8.5 8.5l.94-2.06 2.06-.94-2.06-.94L8.5 2.5l-.94 2.06-2.06.94zm10 10l.94 2.06.94-2.06 2.06-.94-2.06-.94-.94-2.06-.94 2.06-2.06.94z\"/><path d=\"M17.41 7.96l-1.37-1.37c-.4-.4-.92-.59-1.43-.59-.52 0-1.04.2-1.43.59L10.3 9.45l-7.72 7.72c-.78.78-.78 2.05 0 2.83L4 21.41c.39.39.9.59 1.41.59.51 0 1.02-.2 1.41-.59l7.78-7.78 2.81-2.81c.8-.78.8-2.07 0-2.86zM5.41 20L4 18.59l7.72-7.72 1.47 1.35L5.41 20z\"/>\n",
              "  </svg>\n",
              "      </button>\n",
              "      \n",
              "  <style>\n",
              "    .colab-df-container {\n",
              "      display:flex;\n",
              "      flex-wrap:wrap;\n",
              "      gap: 12px;\n",
              "    }\n",
              "\n",
              "    .colab-df-convert {\n",
              "      background-color: #E8F0FE;\n",
              "      border: none;\n",
              "      border-radius: 50%;\n",
              "      cursor: pointer;\n",
              "      display: none;\n",
              "      fill: #1967D2;\n",
              "      height: 32px;\n",
              "      padding: 0 0 0 0;\n",
              "      width: 32px;\n",
              "    }\n",
              "\n",
              "    .colab-df-convert:hover {\n",
              "      background-color: #E2EBFA;\n",
              "      box-shadow: 0px 1px 2px rgba(60, 64, 67, 0.3), 0px 1px 3px 1px rgba(60, 64, 67, 0.15);\n",
              "      fill: #174EA6;\n",
              "    }\n",
              "\n",
              "    [theme=dark] .colab-df-convert {\n",
              "      background-color: #3B4455;\n",
              "      fill: #D2E3FC;\n",
              "    }\n",
              "\n",
              "    [theme=dark] .colab-df-convert:hover {\n",
              "      background-color: #434B5C;\n",
              "      box-shadow: 0px 1px 3px 1px rgba(0, 0, 0, 0.15);\n",
              "      filter: drop-shadow(0px 1px 2px rgba(0, 0, 0, 0.3));\n",
              "      fill: #FFFFFF;\n",
              "    }\n",
              "  </style>\n",
              "\n",
              "      <script>\n",
              "        const buttonEl =\n",
              "          document.querySelector('#df-6b1d0033-54b8-4782-9191-7097789577c3 button.colab-df-convert');\n",
              "        buttonEl.style.display =\n",
              "          google.colab.kernel.accessAllowed ? 'block' : 'none';\n",
              "\n",
              "        async function convertToInteractive(key) {\n",
              "          const element = document.querySelector('#df-6b1d0033-54b8-4782-9191-7097789577c3');\n",
              "          const dataTable =\n",
              "            await google.colab.kernel.invokeFunction('convertToInteractive',\n",
              "                                                     [key], {});\n",
              "          if (!dataTable) return;\n",
              "\n",
              "          const docLinkHtml = 'Like what you see? Visit the ' +\n",
              "            '<a target=\"_blank\" href=https://colab.research.google.com/notebooks/data_table.ipynb>data table notebook</a>'\n",
              "            + ' to learn more about interactive tables.';\n",
              "          element.innerHTML = '';\n",
              "          dataTable['output_type'] = 'display_data';\n",
              "          await google.colab.output.renderOutput(dataTable, element);\n",
              "          const docLink = document.createElement('div');\n",
              "          docLink.innerHTML = docLinkHtml;\n",
              "          element.appendChild(docLink);\n",
              "        }\n",
              "      </script>\n",
              "    </div>\n",
              "  </div>\n",
              "  "
            ]
          },
          "metadata": {},
          "execution_count": 81
        }
      ]
    },
    {
      "cell_type": "markdown",
      "source": [
        "## **Variable selection**"
      ],
      "metadata": {
        "id": "q3ZajFo61swJ"
      }
    },
    {
      "cell_type": "code",
      "source": [
        "new_df.columns"
      ],
      "metadata": {
        "colab": {
          "base_uri": "https://localhost:8080/"
        },
        "id": "Xgp8vner2MAE",
        "outputId": "a19f91bc-7dc8-4032-def8-4e2ff9d53fc4"
      },
      "execution_count": 82,
      "outputs": [
        {
          "output_type": "execute_result",
          "data": {
            "text/plain": [
              "Index(['Agent_id', 'status', 'budget', 'lease', 'source', 'source_country',\n",
              "       'utm_source', 'utm_medium', 'des_city', 'des_country'],\n",
              "      dtype='object')"
            ]
          },
          "metadata": {},
          "execution_count": 82
        }
      ]
    },
    {
      "cell_type": "code",
      "source": [
        "X = one_hot_encoded_data.drop(columns = 'status').values\n",
        "y = one_hot_encoded_data['status'].values"
      ],
      "metadata": {
        "id": "1uVp5nvS1-dI"
      },
      "execution_count": 83,
      "outputs": []
    },
    {
      "cell_type": "code",
      "source": [
        "X"
      ],
      "metadata": {
        "colab": {
          "base_uri": "https://localhost:8080/"
        },
        "id": "4zcEbsR5QLuk",
        "outputId": "f58d904f-307c-46c9-cb9c-5226ab4924b1"
      },
      "execution_count": 84,
      "outputs": [
        {
          "output_type": "execute_result",
          "data": {
            "text/plain": [
              "array([[0, 0, 0, ..., 0, 1, 0],\n",
              "       [0, 0, 0, ..., 0, 1, 0],\n",
              "       [0, 0, 0, ..., 0, 1, 0],\n",
              "       ...,\n",
              "       [0, 0, 0, ..., 0, 1, 0],\n",
              "       [0, 1, 0, ..., 0, 1, 0],\n",
              "       [0, 0, 0, ..., 0, 1, 0]], dtype=uint8)"
            ]
          },
          "metadata": {},
          "execution_count": 84
        }
      ]
    },
    {
      "cell_type": "markdown",
      "source": [
        "## **Handling imbalanced dataset using SMOTE**\n",
        "\n"
      ],
      "metadata": {
        "id": "jjR8795ut_Lk"
      }
    },
    {
      "cell_type": "code",
      "source": [
        "new_df['status'].value_counts()"
      ],
      "metadata": {
        "colab": {
          "base_uri": "https://localhost:8080/"
        },
        "id": "TOFEtNi8tDk8",
        "outputId": "99331130-2c7e-425a-9395-a0146f6c54e8"
      },
      "execution_count": 85,
      "outputs": [
        {
          "output_type": "execute_result",
          "data": {
            "text/plain": [
              "0    28348\n",
              "1     2034\n",
              "Name: status, dtype: int64"
            ]
          },
          "metadata": {},
          "execution_count": 85
        }
      ]
    },
    {
      "cell_type": "markdown",
      "source": [
        "This is an imbalanced dataset hence, we need to treat the data before using any ML alogrithm, or the algorithm will be biased towards majority class."
      ],
      "metadata": {
        "id": "_2zPfNLm2zpq"
      }
    },
    {
      "cell_type": "code",
      "source": [
        "#using SMOTE to treat data imbalance\n",
        "import imblearn\n",
        "from imblearn.over_sampling import SMOTE\n",
        "smote = SMOTE()\n",
        "\n",
        "# fit predictor and target variable\n",
        "X_sm, y_sm = smote.fit_resample(X, y)\n",
        "\n",
        "print('Original dataset shape', len(new_df))\n",
        "print('Resampled dataset shape', len(y_sm))"
      ],
      "metadata": {
        "colab": {
          "base_uri": "https://localhost:8080/"
        },
        "id": "JBSLRB7MtDi4",
        "outputId": "dae3a742-da31-496c-b052-0d87c5bb82b2"
      },
      "execution_count": 86,
      "outputs": [
        {
          "output_type": "stream",
          "name": "stdout",
          "text": [
            "Original dataset shape 30382\n",
            "Resampled dataset shape 56696\n"
          ]
        }
      ]
    },
    {
      "cell_type": "markdown",
      "source": [
        "## **Spliting data into training and testing datasets**"
      ],
      "metadata": {
        "id": "saNR3TO13yxN"
      }
    },
    {
      "cell_type": "code",
      "source": [
        "X_train, X_test, y_train, y_test= train_test_split(X_sm, y_sm, random_state = 0, test_size = 0.3)"
      ],
      "metadata": {
        "id": "79q0zSJltDUJ"
      },
      "execution_count": 87,
      "outputs": []
    },
    {
      "cell_type": "markdown",
      "source": [
        "# **Model training using Logistic Regression**"
      ],
      "metadata": {
        "id": "Z4kHbDE64YlD"
      }
    },
    {
      "cell_type": "code",
      "source": [
        "#model training \n",
        "\n",
        "logreg = LogisticRegression()\n",
        "logreg.fit(X_train, y_train)\n"
      ],
      "metadata": {
        "colab": {
          "base_uri": "https://localhost:8080/",
          "height": 214
        },
        "id": "Gwn8Zyo5tDQP",
        "outputId": "80d6fbce-14b7-48f8-fff2-9009bbadafbb"
      },
      "execution_count": 88,
      "outputs": [
        {
          "output_type": "stream",
          "name": "stderr",
          "text": [
            "/usr/local/lib/python3.9/dist-packages/sklearn/linear_model/_logistic.py:458: ConvergenceWarning: lbfgs failed to converge (status=1):\n",
            "STOP: TOTAL NO. of ITERATIONS REACHED LIMIT.\n",
            "\n",
            "Increase the number of iterations (max_iter) or scale the data as shown in:\n",
            "    https://scikit-learn.org/stable/modules/preprocessing.html\n",
            "Please also refer to the documentation for alternative solver options:\n",
            "    https://scikit-learn.org/stable/modules/linear_model.html#logistic-regression\n",
            "  n_iter_i = _check_optimize_result(\n"
          ]
        },
        {
          "output_type": "execute_result",
          "data": {
            "text/plain": [
              "LogisticRegression()"
            ],
            "text/html": [
              "<style>#sk-container-id-1 {color: black;background-color: white;}#sk-container-id-1 pre{padding: 0;}#sk-container-id-1 div.sk-toggleable {background-color: white;}#sk-container-id-1 label.sk-toggleable__label {cursor: pointer;display: block;width: 100%;margin-bottom: 0;padding: 0.3em;box-sizing: border-box;text-align: center;}#sk-container-id-1 label.sk-toggleable__label-arrow:before {content: \"▸\";float: left;margin-right: 0.25em;color: #696969;}#sk-container-id-1 label.sk-toggleable__label-arrow:hover:before {color: black;}#sk-container-id-1 div.sk-estimator:hover label.sk-toggleable__label-arrow:before {color: black;}#sk-container-id-1 div.sk-toggleable__content {max-height: 0;max-width: 0;overflow: hidden;text-align: left;background-color: #f0f8ff;}#sk-container-id-1 div.sk-toggleable__content pre {margin: 0.2em;color: black;border-radius: 0.25em;background-color: #f0f8ff;}#sk-container-id-1 input.sk-toggleable__control:checked~div.sk-toggleable__content {max-height: 200px;max-width: 100%;overflow: auto;}#sk-container-id-1 input.sk-toggleable__control:checked~label.sk-toggleable__label-arrow:before {content: \"▾\";}#sk-container-id-1 div.sk-estimator input.sk-toggleable__control:checked~label.sk-toggleable__label {background-color: #d4ebff;}#sk-container-id-1 div.sk-label input.sk-toggleable__control:checked~label.sk-toggleable__label {background-color: #d4ebff;}#sk-container-id-1 input.sk-hidden--visually {border: 0;clip: rect(1px 1px 1px 1px);clip: rect(1px, 1px, 1px, 1px);height: 1px;margin: -1px;overflow: hidden;padding: 0;position: absolute;width: 1px;}#sk-container-id-1 div.sk-estimator {font-family: monospace;background-color: #f0f8ff;border: 1px dotted black;border-radius: 0.25em;box-sizing: border-box;margin-bottom: 0.5em;}#sk-container-id-1 div.sk-estimator:hover {background-color: #d4ebff;}#sk-container-id-1 div.sk-parallel-item::after {content: \"\";width: 100%;border-bottom: 1px solid gray;flex-grow: 1;}#sk-container-id-1 div.sk-label:hover label.sk-toggleable__label {background-color: #d4ebff;}#sk-container-id-1 div.sk-serial::before {content: \"\";position: absolute;border-left: 1px solid gray;box-sizing: border-box;top: 0;bottom: 0;left: 50%;z-index: 0;}#sk-container-id-1 div.sk-serial {display: flex;flex-direction: column;align-items: center;background-color: white;padding-right: 0.2em;padding-left: 0.2em;position: relative;}#sk-container-id-1 div.sk-item {position: relative;z-index: 1;}#sk-container-id-1 div.sk-parallel {display: flex;align-items: stretch;justify-content: center;background-color: white;position: relative;}#sk-container-id-1 div.sk-item::before, #sk-container-id-1 div.sk-parallel-item::before {content: \"\";position: absolute;border-left: 1px solid gray;box-sizing: border-box;top: 0;bottom: 0;left: 50%;z-index: -1;}#sk-container-id-1 div.sk-parallel-item {display: flex;flex-direction: column;z-index: 1;position: relative;background-color: white;}#sk-container-id-1 div.sk-parallel-item:first-child::after {align-self: flex-end;width: 50%;}#sk-container-id-1 div.sk-parallel-item:last-child::after {align-self: flex-start;width: 50%;}#sk-container-id-1 div.sk-parallel-item:only-child::after {width: 0;}#sk-container-id-1 div.sk-dashed-wrapped {border: 1px dashed gray;margin: 0 0.4em 0.5em 0.4em;box-sizing: border-box;padding-bottom: 0.4em;background-color: white;}#sk-container-id-1 div.sk-label label {font-family: monospace;font-weight: bold;display: inline-block;line-height: 1.2em;}#sk-container-id-1 div.sk-label-container {text-align: center;}#sk-container-id-1 div.sk-container {/* jupyter's `normalize.less` sets `[hidden] { display: none; }` but bootstrap.min.css set `[hidden] { display: none !important; }` so we also need the `!important` here to be able to override the default hidden behavior on the sphinx rendered scikit-learn.org. See: https://github.com/scikit-learn/scikit-learn/issues/21755 */display: inline-block !important;position: relative;}#sk-container-id-1 div.sk-text-repr-fallback {display: none;}</style><div id=\"sk-container-id-1\" class=\"sk-top-container\"><div class=\"sk-text-repr-fallback\"><pre>LogisticRegression()</pre><b>In a Jupyter environment, please rerun this cell to show the HTML representation or trust the notebook. <br />On GitHub, the HTML representation is unable to render, please try loading this page with nbviewer.org.</b></div><div class=\"sk-container\" hidden><div class=\"sk-item\"><div class=\"sk-estimator sk-toggleable\"><input class=\"sk-toggleable__control sk-hidden--visually\" id=\"sk-estimator-id-1\" type=\"checkbox\" checked><label for=\"sk-estimator-id-1\" class=\"sk-toggleable__label sk-toggleable__label-arrow\">LogisticRegression</label><div class=\"sk-toggleable__content\"><pre>LogisticRegression()</pre></div></div></div></div></div>"
            ]
          },
          "metadata": {},
          "execution_count": 88
        }
      ]
    },
    {
      "cell_type": "markdown",
      "source": [
        "### **Model evaluation on Training set**"
      ],
      "metadata": {
        "id": "bSq4M3ZN96G6"
      }
    },
    {
      "cell_type": "code",
      "source": [
        "#predicting and evalating model on training set\n",
        "y_pred_train = logreg.predict(X_train)\n",
        "probability_train =logreg.predict_proba(X_train)[:,1]\n",
        "print(classification_report(y_train, y_pred_train))\n"
      ],
      "metadata": {
        "colab": {
          "base_uri": "https://localhost:8080/"
        },
        "id": "6yd_CxGE5ULx",
        "outputId": "e8ee5f53-29ba-4dc0-fca9-9d158320ea1e"
      },
      "execution_count": 91,
      "outputs": [
        {
          "output_type": "stream",
          "name": "stdout",
          "text": [
            "              precision    recall  f1-score   support\n",
            "\n",
            "           0       0.89      0.99      0.94     19848\n",
            "           1       0.99      0.88      0.93     19839\n",
            "\n",
            "    accuracy                           0.93     39687\n",
            "   macro avg       0.94      0.93      0.93     39687\n",
            "weighted avg       0.94      0.93      0.93     39687\n",
            "\n"
          ]
        }
      ]
    },
    {
      "cell_type": "code",
      "source": [
        "#confusion matrix\n",
        "\n",
        "cm_logreg1 = confusion_matrix(y_train, y_pred_train, labels = [1,0])\n",
        "df_logreg1 = pd.DataFrame(data = cm_logreg1 , index = [\"Actual 1\",\"Actual 0\"], columns = [\"Predicted 1\", \"Predicted 0\"])\n",
        "df_logreg1"
      ],
      "metadata": {
        "colab": {
          "base_uri": "https://localhost:8080/",
          "height": 112
        },
        "id": "hozcQ5Fb_CwW",
        "outputId": "cb7dc42d-a68c-465a-fef4-725465a320e3"
      },
      "execution_count": 92,
      "outputs": [
        {
          "output_type": "execute_result",
          "data": {
            "text/plain": [
              "          Predicted 1  Predicted 0\n",
              "Actual 1        17374         2465\n",
              "Actual 0          167        19681"
            ],
            "text/html": [
              "\n",
              "  <div id=\"df-a3f3a24a-c245-4b61-953b-932f71d0218e\">\n",
              "    <div class=\"colab-df-container\">\n",
              "      <div>\n",
              "<style scoped>\n",
              "    .dataframe tbody tr th:only-of-type {\n",
              "        vertical-align: middle;\n",
              "    }\n",
              "\n",
              "    .dataframe tbody tr th {\n",
              "        vertical-align: top;\n",
              "    }\n",
              "\n",
              "    .dataframe thead th {\n",
              "        text-align: right;\n",
              "    }\n",
              "</style>\n",
              "<table border=\"1\" class=\"dataframe\">\n",
              "  <thead>\n",
              "    <tr style=\"text-align: right;\">\n",
              "      <th></th>\n",
              "      <th>Predicted 1</th>\n",
              "      <th>Predicted 0</th>\n",
              "    </tr>\n",
              "  </thead>\n",
              "  <tbody>\n",
              "    <tr>\n",
              "      <th>Actual 1</th>\n",
              "      <td>17374</td>\n",
              "      <td>2465</td>\n",
              "    </tr>\n",
              "    <tr>\n",
              "      <th>Actual 0</th>\n",
              "      <td>167</td>\n",
              "      <td>19681</td>\n",
              "    </tr>\n",
              "  </tbody>\n",
              "</table>\n",
              "</div>\n",
              "      <button class=\"colab-df-convert\" onclick=\"convertToInteractive('df-a3f3a24a-c245-4b61-953b-932f71d0218e')\"\n",
              "              title=\"Convert this dataframe to an interactive table.\"\n",
              "              style=\"display:none;\">\n",
              "        \n",
              "  <svg xmlns=\"http://www.w3.org/2000/svg\" height=\"24px\"viewBox=\"0 0 24 24\"\n",
              "       width=\"24px\">\n",
              "    <path d=\"M0 0h24v24H0V0z\" fill=\"none\"/>\n",
              "    <path d=\"M18.56 5.44l.94 2.06.94-2.06 2.06-.94-2.06-.94-.94-2.06-.94 2.06-2.06.94zm-11 1L8.5 8.5l.94-2.06 2.06-.94-2.06-.94L8.5 2.5l-.94 2.06-2.06.94zm10 10l.94 2.06.94-2.06 2.06-.94-2.06-.94-.94-2.06-.94 2.06-2.06.94z\"/><path d=\"M17.41 7.96l-1.37-1.37c-.4-.4-.92-.59-1.43-.59-.52 0-1.04.2-1.43.59L10.3 9.45l-7.72 7.72c-.78.78-.78 2.05 0 2.83L4 21.41c.39.39.9.59 1.41.59.51 0 1.02-.2 1.41-.59l7.78-7.78 2.81-2.81c.8-.78.8-2.07 0-2.86zM5.41 20L4 18.59l7.72-7.72 1.47 1.35L5.41 20z\"/>\n",
              "  </svg>\n",
              "      </button>\n",
              "      \n",
              "  <style>\n",
              "    .colab-df-container {\n",
              "      display:flex;\n",
              "      flex-wrap:wrap;\n",
              "      gap: 12px;\n",
              "    }\n",
              "\n",
              "    .colab-df-convert {\n",
              "      background-color: #E8F0FE;\n",
              "      border: none;\n",
              "      border-radius: 50%;\n",
              "      cursor: pointer;\n",
              "      display: none;\n",
              "      fill: #1967D2;\n",
              "      height: 32px;\n",
              "      padding: 0 0 0 0;\n",
              "      width: 32px;\n",
              "    }\n",
              "\n",
              "    .colab-df-convert:hover {\n",
              "      background-color: #E2EBFA;\n",
              "      box-shadow: 0px 1px 2px rgba(60, 64, 67, 0.3), 0px 1px 3px 1px rgba(60, 64, 67, 0.15);\n",
              "      fill: #174EA6;\n",
              "    }\n",
              "\n",
              "    [theme=dark] .colab-df-convert {\n",
              "      background-color: #3B4455;\n",
              "      fill: #D2E3FC;\n",
              "    }\n",
              "\n",
              "    [theme=dark] .colab-df-convert:hover {\n",
              "      background-color: #434B5C;\n",
              "      box-shadow: 0px 1px 3px 1px rgba(0, 0, 0, 0.15);\n",
              "      filter: drop-shadow(0px 1px 2px rgba(0, 0, 0, 0.3));\n",
              "      fill: #FFFFFF;\n",
              "    }\n",
              "  </style>\n",
              "\n",
              "      <script>\n",
              "        const buttonEl =\n",
              "          document.querySelector('#df-a3f3a24a-c245-4b61-953b-932f71d0218e button.colab-df-convert');\n",
              "        buttonEl.style.display =\n",
              "          google.colab.kernel.accessAllowed ? 'block' : 'none';\n",
              "\n",
              "        async function convertToInteractive(key) {\n",
              "          const element = document.querySelector('#df-a3f3a24a-c245-4b61-953b-932f71d0218e');\n",
              "          const dataTable =\n",
              "            await google.colab.kernel.invokeFunction('convertToInteractive',\n",
              "                                                     [key], {});\n",
              "          if (!dataTable) return;\n",
              "\n",
              "          const docLinkHtml = 'Like what you see? Visit the ' +\n",
              "            '<a target=\"_blank\" href=https://colab.research.google.com/notebooks/data_table.ipynb>data table notebook</a>'\n",
              "            + ' to learn more about interactive tables.';\n",
              "          element.innerHTML = '';\n",
              "          dataTable['output_type'] = 'display_data';\n",
              "          await google.colab.output.renderOutput(dataTable, element);\n",
              "          const docLink = document.createElement('div');\n",
              "          docLink.innerHTML = docLinkHtml;\n",
              "          element.appendChild(docLink);\n",
              "        }\n",
              "      </script>\n",
              "    </div>\n",
              "  </div>\n",
              "  "
            ]
          },
          "metadata": {},
          "execution_count": 92
        }
      ]
    },
    {
      "cell_type": "code",
      "source": [
        "#ROC Curve\n",
        "from sklearn.metrics import roc_curve\n",
        "fpr, tpr, _ = roc_curve(y_train, probability_train)\n",
        "\n",
        "plt.title('Logistic Regression ROC curve')\n",
        "plt.xlabel('FPR (Precision)')\n",
        "plt.ylabel('TPR (Recall)')\n",
        "\n",
        "plt.plot(fpr,tpr)\n",
        "plt.plot((0,1), ls='dashed',color='black')\n",
        "plt.show()"
      ],
      "metadata": {
        "colab": {
          "base_uri": "https://localhost:8080/",
          "height": 295
        },
        "id": "zSUYbgse_FbG",
        "outputId": "a2df0d07-7f94-4510-eb66-0f767a40a810"
      },
      "execution_count": 93,
      "outputs": [
        {
          "output_type": "display_data",
          "data": {
            "text/plain": [
              "<Figure size 432x288 with 1 Axes>"
            ],
            "image/png": "[encoded data removed]"
          },
          "metadata": {
            "needs_background": "light"
          }
        }
      ]
    },
    {
      "cell_type": "markdown",
      "source": [
        "### **Model evaluation on Test set**"
      ],
      "metadata": {
        "id": "kyV1PrIi9lk4"
      }
    },
    {
      "cell_type": "code",
      "source": [
        "# Predicting for test set\n",
        "\n",
        "y_pred_log = logreg.predict(X_test)\n",
        "logreg_probability =logreg.predict_proba(X_test)[:,1]\n",
        "\n",
        "print(classification_report(y_test, y_pred_log))"
      ],
      "metadata": {
        "colab": {
          "base_uri": "https://localhost:8080/"
        },
        "id": "DYp3KYUstDNG",
        "outputId": "203345e1-ca83-4f26-9427-08285255fad2"
      },
      "execution_count": 94,
      "outputs": [
        {
          "output_type": "stream",
          "name": "stdout",
          "text": [
            "              precision    recall  f1-score   support\n",
            "\n",
            "           0       0.89      0.99      0.94      8500\n",
            "           1       0.99      0.87      0.93      8509\n",
            "\n",
            "    accuracy                           0.93     17009\n",
            "   macro avg       0.94      0.93      0.93     17009\n",
            "weighted avg       0.94      0.93      0.93     17009\n",
            "\n"
          ]
        }
      ]
    },
    {
      "cell_type": "code",
      "source": [
        "#confusion matrix\n",
        "\n",
        "cm_logreg = confusion_matrix(y_test, y_pred_log, labels = [1,0])\n",
        "df_logreg = pd.DataFrame(data = cm_logreg , index = [\"Actual 1\",\"Actual 0\"], columns = [\"Predicted 1\", \"Predicted 0\"])\n",
        "df_logreg"
      ],
      "metadata": {
        "colab": {
          "base_uri": "https://localhost:8080/",
          "height": 112
        },
        "id": "FAThE3gctDId",
        "outputId": "fc0aa9b1-d6d0-499f-c1c7-59f8743c253f"
      },
      "execution_count": 95,
      "outputs": [
        {
          "output_type": "execute_result",
          "data": {
            "text/plain": [
              "          Predicted 1  Predicted 0\n",
              "Actual 1         7415         1094\n",
              "Actual 0           75         8425"
            ],
            "text/html": [
              "\n",
              "  <div id=\"df-4d9935f5-e7a8-4c9e-bb34-cb5de37805f4\">\n",
              "    <div class=\"colab-df-container\">\n",
              "      <div>\n",
              "<style scoped>\n",
              "    .dataframe tbody tr th:only-of-type {\n",
              "        vertical-align: middle;\n",
              "    }\n",
              "\n",
              "    .dataframe tbody tr th {\n",
              "        vertical-align: top;\n",
              "    }\n",
              "\n",
              "    .dataframe thead th {\n",
              "        text-align: right;\n",
              "    }\n",
              "</style>\n",
              "<table border=\"1\" class=\"dataframe\">\n",
              "  <thead>\n",
              "    <tr style=\"text-align: right;\">\n",
              "      <th></th>\n",
              "      <th>Predicted 1</th>\n",
              "      <th>Predicted 0</th>\n",
              "    </tr>\n",
              "  </thead>\n",
              "  <tbody>\n",
              "    <tr>\n",
              "      <th>Actual 1</th>\n",
              "      <td>7415</td>\n",
              "      <td>1094</td>\n",
              "    </tr>\n",
              "    <tr>\n",
              "      <th>Actual 0</th>\n",
              "      <td>75</td>\n",
              "      <td>8425</td>\n",
              "    </tr>\n",
              "  </tbody>\n",
              "</table>\n",
              "</div>\n",
              "      <button class=\"colab-df-convert\" onclick=\"convertToInteractive('df-4d9935f5-e7a8-4c9e-bb34-cb5de37805f4')\"\n",
              "              title=\"Convert this dataframe to an interactive table.\"\n",
              "              style=\"display:none;\">\n",
              "        \n",
              "  <svg xmlns=\"http://www.w3.org/2000/svg\" height=\"24px\"viewBox=\"0 0 24 24\"\n",
              "       width=\"24px\">\n",
              "    <path d=\"M0 0h24v24H0V0z\" fill=\"none\"/>\n",
              "    <path d=\"M18.56 5.44l.94 2.06.94-2.06 2.06-.94-2.06-.94-.94-2.06-.94 2.06-2.06.94zm-11 1L8.5 8.5l.94-2.06 2.06-.94-2.06-.94L8.5 2.5l-.94 2.06-2.06.94zm10 10l.94 2.06.94-2.06 2.06-.94-2.06-.94-.94-2.06-.94 2.06-2.06.94z\"/><path d=\"M17.41 7.96l-1.37-1.37c-.4-.4-.92-.59-1.43-.59-.52 0-1.04.2-1.43.59L10.3 9.45l-7.72 7.72c-.78.78-.78 2.05 0 2.83L4 21.41c.39.39.9.59 1.41.59.51 0 1.02-.2 1.41-.59l7.78-7.78 2.81-2.81c.8-.78.8-2.07 0-2.86zM5.41 20L4 18.59l7.72-7.72 1.47 1.35L5.41 20z\"/>\n",
              "  </svg>\n",
              "      </button>\n",
              "      \n",
              "  <style>\n",
              "    .colab-df-container {\n",
              "      display:flex;\n",
              "      flex-wrap:wrap;\n",
              "      gap: 12px;\n",
              "    }\n",
              "\n",
              "    .colab-df-convert {\n",
              "      background-color: #E8F0FE;\n",
              "      border: none;\n",
              "      border-radius: 50%;\n",
              "      cursor: pointer;\n",
              "      display: none;\n",
              "      fill: #1967D2;\n",
              "      height: 32px;\n",
              "      padding: 0 0 0 0;\n",
              "      width: 32px;\n",
              "    }\n",
              "\n",
              "    .colab-df-convert:hover {\n",
              "      background-color: #E2EBFA;\n",
              "      box-shadow: 0px 1px 2px rgba(60, 64, 67, 0.3), 0px 1px 3px 1px rgba(60, 64, 67, 0.15);\n",
              "      fill: #174EA6;\n",
              "    }\n",
              "\n",
              "    [theme=dark] .colab-df-convert {\n",
              "      background-color: #3B4455;\n",
              "      fill: #D2E3FC;\n",
              "    }\n",
              "\n",
              "    [theme=dark] .colab-df-convert:hover {\n",
              "      background-color: #434B5C;\n",
              "      box-shadow: 0px 1px 3px 1px rgba(0, 0, 0, 0.15);\n",
              "      filter: drop-shadow(0px 1px 2px rgba(0, 0, 0, 0.3));\n",
              "      fill: #FFFFFF;\n",
              "    }\n",
              "  </style>\n",
              "\n",
              "      <script>\n",
              "        const buttonEl =\n",
              "          document.querySelector('#df-4d9935f5-e7a8-4c9e-bb34-cb5de37805f4 button.colab-df-convert');\n",
              "        buttonEl.style.display =\n",
              "          google.colab.kernel.accessAllowed ? 'block' : 'none';\n",
              "\n",
              "        async function convertToInteractive(key) {\n",
              "          const element = document.querySelector('#df-4d9935f5-e7a8-4c9e-bb34-cb5de37805f4');\n",
              "          const dataTable =\n",
              "            await google.colab.kernel.invokeFunction('convertToInteractive',\n",
              "                                                     [key], {});\n",
              "          if (!dataTable) return;\n",
              "\n",
              "          const docLinkHtml = 'Like what you see? Visit the ' +\n",
              "            '<a target=\"_blank\" href=https://colab.research.google.com/notebooks/data_table.ipynb>data table notebook</a>'\n",
              "            + ' to learn more about interactive tables.';\n",
              "          element.innerHTML = '';\n",
              "          dataTable['output_type'] = 'display_data';\n",
              "          await google.colab.output.renderOutput(dataTable, element);\n",
              "          const docLink = document.createElement('div');\n",
              "          docLink.innerHTML = docLinkHtml;\n",
              "          element.appendChild(docLink);\n",
              "        }\n",
              "      </script>\n",
              "    </div>\n",
              "  </div>\n",
              "  "
            ]
          },
          "metadata": {},
          "execution_count": 95
        }
      ]
    },
    {
      "cell_type": "code",
      "source": [
        "#ROC Curve\n",
        "from sklearn.metrics import roc_curve\n",
        "fpr, tpr, _ = roc_curve(y_test, logreg_probability)\n",
        "\n",
        "plt.title('Logistic Regression ROC curve')\n",
        "plt.xlabel('FPR (Precision)')\n",
        "plt.ylabel('TPR (Recall)')\n",
        "\n",
        "plt.plot(fpr,tpr)\n",
        "plt.plot((0,1), ls='dashed',color='black')\n",
        "plt.show()"
      ],
      "metadata": {
        "colab": {
          "base_uri": "https://localhost:8080/",
          "height": 295
        },
        "id": "JuJhldiI5UWP",
        "outputId": "cff41fbd-229d-457a-adbf-43aa922e639c"
      },
      "execution_count": 96,
      "outputs": [
        {
          "output_type": "display_data",
          "data": {
            "text/plain": [
              "<Figure size 432x288 with 1 Axes>"
            ],
            "image/png": "[encoded data removed]"
          },
          "metadata": {
            "needs_background": "light"
          }
        }
      ]
    },
    {
      "cell_type": "code",
      "source": [
        "logreg_probability"
      ],
      "metadata": {
        "colab": {
          "base_uri": "https://localhost:8080/"
        },
        "id": "dLiA5N_kMAxZ",
        "outputId": "2030bf91-f7fb-4d7a-8a31-c1652562648a"
      },
      "execution_count": 97,
      "outputs": [
        {
          "output_type": "execute_result",
          "data": {
            "text/plain": [
              "array([1.        , 1.        , 1.        , ..., 0.00281978, 0.01408914,\n",
              "       1.        ])"
            ]
          },
          "metadata": {},
          "execution_count": 97
        }
      ]
    },
    {
      "cell_type": "code",
      "source": [
        "# writing model output file\n",
        "\n",
        "df_prediction_prob = pd.DataFrame(logreg.predict_proba(X_test), columns = ['prob_0', 'prob_1'])\n",
        "df_test_dataset = pd.DataFrame(y_test,columns=['Actual Status'])\n",
        "df_x_test = pd.DataFrame(X_test)\n",
        "\n",
        "dfx=pd.concat([df_test_dataset, df_prediction_prob], axis=1)\n",
        "dfx.head()\n"
      ],
      "metadata": {
        "colab": {
          "base_uri": "https://localhost:8080/",
          "height": 206
        },
        "id": "7sqHRuLV7FRM",
        "outputId": "d3b79ef7-e0f6-4b0f-ad45-7e727a5a7ad5"
      },
      "execution_count": 98,
      "outputs": [
        {
          "output_type": "execute_result",
          "data": {
            "text/plain": [
              "   Actual Status    prob_0    prob_1\n",
              "0              1  0.000000  1.000000\n",
              "1              1  0.000000  1.000000\n",
              "2              1  0.000000  1.000000\n",
              "3              1  0.000000  1.000000\n",
              "4              0  0.982868  0.017132"
            ],
            "text/html": [
              "\n",
              "  <div id=\"df-b4a7673e-44b9-40ae-8e1b-376bf23807f4\">\n",
              "    <div class=\"colab-df-container\">\n",
              "      <div>\n",
              "<style scoped>\n",
              "    .dataframe tbody tr th:only-of-type {\n",
              "        vertical-align: middle;\n",
              "    }\n",
              "\n",
              "    .dataframe tbody tr th {\n",
              "        vertical-align: top;\n",
              "    }\n",
              "\n",
              "    .dataframe thead th {\n",
              "        text-align: right;\n",
              "    }\n",
              "</style>\n",
              "<table border=\"1\" class=\"dataframe\">\n",
              "  <thead>\n",
              "    <tr style=\"text-align: right;\">\n",
              "      <th></th>\n",
              "      <th>Actual Status</th>\n",
              "      <th>prob_0</th>\n",
              "      <th>prob_1</th>\n",
              "    </tr>\n",
              "  </thead>\n",
              "  <tbody>\n",
              "    <tr>\n",
              "      <th>0</th>\n",
              "      <td>1</td>\n",
              "      <td>0.000000</td>\n",
              "      <td>1.000000</td>\n",
              "    </tr>\n",
              "    <tr>\n",
              "      <th>1</th>\n",
              "      <td>1</td>\n",
              "      <td>0.000000</td>\n",
              "      <td>1.000000</td>\n",
              "    </tr>\n",
              "    <tr>\n",
              "      <th>2</th>\n",
              "      <td>1</td>\n",
              "      <td>0.000000</td>\n",
              "      <td>1.000000</td>\n",
              "    </tr>\n",
              "    <tr>\n",
              "      <th>3</th>\n",
              "      <td>1</td>\n",
              "      <td>0.000000</td>\n",
              "      <td>1.000000</td>\n",
              "    </tr>\n",
              "    <tr>\n",
              "      <th>4</th>\n",
              "      <td>0</td>\n",
              "      <td>0.982868</td>\n",
              "      <td>0.017132</td>\n",
              "    </tr>\n",
              "  </tbody>\n",
              "</table>\n",
              "</div>\n",
              "      <button class=\"colab-df-convert\" onclick=\"convertToInteractive('df-b4a7673e-44b9-40ae-8e1b-376bf23807f4')\"\n",
              "              title=\"Convert this dataframe to an interactive table.\"\n",
              "              style=\"display:none;\">\n",
              "        \n",
              "  <svg xmlns=\"http://www.w3.org/2000/svg\" height=\"24px\"viewBox=\"0 0 24 24\"\n",
              "       width=\"24px\">\n",
              "    <path d=\"M0 0h24v24H0V0z\" fill=\"none\"/>\n",
              "    <path d=\"M18.56 5.44l.94 2.06.94-2.06 2.06-.94-2.06-.94-.94-2.06-.94 2.06-2.06.94zm-11 1L8.5 8.5l.94-2.06 2.06-.94-2.06-.94L8.5 2.5l-.94 2.06-2.06.94zm10 10l.94 2.06.94-2.06 2.06-.94-2.06-.94-.94-2.06-.94 2.06-2.06.94z\"/><path d=\"M17.41 7.96l-1.37-1.37c-.4-.4-.92-.59-1.43-.59-.52 0-1.04.2-1.43.59L10.3 9.45l-7.72 7.72c-.78.78-.78 2.05 0 2.83L4 21.41c.39.39.9.59 1.41.59.51 0 1.02-.2 1.41-.59l7.78-7.78 2.81-2.81c.8-.78.8-2.07 0-2.86zM5.41 20L4 18.59l7.72-7.72 1.47 1.35L5.41 20z\"/>\n",
              "  </svg>\n",
              "      </button>\n",
              "      \n",
              "  <style>\n",
              "    .colab-df-container {\n",
              "      display:flex;\n",
              "      flex-wrap:wrap;\n",
              "      gap: 12px;\n",
              "    }\n",
              "\n",
              "    .colab-df-convert {\n",
              "      background-color: #E8F0FE;\n",
              "      border: none;\n",
              "      border-radius: 50%;\n",
              "      cursor: pointer;\n",
              "      display: none;\n",
              "      fill: #1967D2;\n",
              "      height: 32px;\n",
              "      padding: 0 0 0 0;\n",
              "      width: 32px;\n",
              "    }\n",
              "\n",
              "    .colab-df-convert:hover {\n",
              "      background-color: #E2EBFA;\n",
              "      box-shadow: 0px 1px 2px rgba(60, 64, 67, 0.3), 0px 1px 3px 1px rgba(60, 64, 67, 0.15);\n",
              "      fill: #174EA6;\n",
              "    }\n",
              "\n",
              "    [theme=dark] .colab-df-convert {\n",
              "      background-color: #3B4455;\n",
              "      fill: #D2E3FC;\n",
              "    }\n",
              "\n",
              "    [theme=dark] .colab-df-convert:hover {\n",
              "      background-color: #434B5C;\n",
              "      box-shadow: 0px 1px 3px 1px rgba(0, 0, 0, 0.15);\n",
              "      filter: drop-shadow(0px 1px 2px rgba(0, 0, 0, 0.3));\n",
              "      fill: #FFFFFF;\n",
              "    }\n",
              "  </style>\n",
              "\n",
              "      <script>\n",
              "        const buttonEl =\n",
              "          document.querySelector('#df-b4a7673e-44b9-40ae-8e1b-376bf23807f4 button.colab-df-convert');\n",
              "        buttonEl.style.display =\n",
              "          google.colab.kernel.accessAllowed ? 'block' : 'none';\n",
              "\n",
              "        async function convertToInteractive(key) {\n",
              "          const element = document.querySelector('#df-b4a7673e-44b9-40ae-8e1b-376bf23807f4');\n",
              "          const dataTable =\n",
              "            await google.colab.kernel.invokeFunction('convertToInteractive',\n",
              "                                                     [key], {});\n",
              "          if (!dataTable) return;\n",
              "\n",
              "          const docLinkHtml = 'Like what you see? Visit the ' +\n",
              "            '<a target=\"_blank\" href=https://colab.research.google.com/notebooks/data_table.ipynb>data table notebook</a>'\n",
              "            + ' to learn more about interactive tables.';\n",
              "          element.innerHTML = '';\n",
              "          dataTable['output_type'] = 'display_data';\n",
              "          await google.colab.output.renderOutput(dataTable, element);\n",
              "          const docLink = document.createElement('div');\n",
              "          docLink.innerHTML = docLinkHtml;\n",
              "          element.appendChild(docLink);\n",
              "        }\n",
              "      </script>\n",
              "    </div>\n",
              "  </div>\n",
              "  "
            ]
          },
          "metadata": {},
          "execution_count": 98
        }
      ]
    },
    {
      "cell_type": "code",
      "source": [
        "dfx['Lead_score']=dfx['prob_1']*100"
      ],
      "metadata": {
        "id": "bfZfIIoPRcSC"
      },
      "execution_count": 99,
      "outputs": []
    },
    {
      "cell_type": "code",
      "source": [
        "dfx.head(5)"
      ],
      "metadata": {
        "colab": {
          "base_uri": "https://localhost:8080/",
          "height": 206
        },
        "id": "FML3DalTRcOk",
        "outputId": "feaba9eb-ef6d-439b-a43b-411bd5c65b51"
      },
      "execution_count": 100,
      "outputs": [
        {
          "output_type": "execute_result",
          "data": {
            "text/plain": [
              "   Actual Status    prob_0    prob_1  Lead_score\n",
              "0              1  0.000000  1.000000  100.000000\n",
              "1              1  0.000000  1.000000  100.000000\n",
              "2              1  0.000000  1.000000  100.000000\n",
              "3              1  0.000000  1.000000  100.000000\n",
              "4              0  0.982868  0.017132    1.713234"
            ],
            "text/html": [
              "\n",
              "  <div id=\"df-1fd7df3d-9f09-4a76-82e1-f5dfb0c26faf\">\n",
              "    <div class=\"colab-df-container\">\n",
              "      <div>\n",
              "<style scoped>\n",
              "    .dataframe tbody tr th:only-of-type {\n",
              "        vertical-align: middle;\n",
              "    }\n",
              "\n",
              "    .dataframe tbody tr th {\n",
              "        vertical-align: top;\n",
              "    }\n",
              "\n",
              "    .dataframe thead th {\n",
              "        text-align: right;\n",
              "    }\n",
              "</style>\n",
              "<table border=\"1\" class=\"dataframe\">\n",
              "  <thead>\n",
              "    <tr style=\"text-align: right;\">\n",
              "      <th></th>\n",
              "      <th>Actual Status</th>\n",
              "      <th>prob_0</th>\n",
              "      <th>prob_1</th>\n",
              "      <th>Lead_score</th>\n",
              "    </tr>\n",
              "  </thead>\n",
              "  <tbody>\n",
              "    <tr>\n",
              "      <th>0</th>\n",
              "      <td>1</td>\n",
              "      <td>0.000000</td>\n",
              "      <td>1.000000</td>\n",
              "      <td>100.000000</td>\n",
              "    </tr>\n",
              "    <tr>\n",
              "      <th>1</th>\n",
              "      <td>1</td>\n",
              "      <td>0.000000</td>\n",
              "      <td>1.000000</td>\n",
              "      <td>100.000000</td>\n",
              "    </tr>\n",
              "    <tr>\n",
              "      <th>2</th>\n",
              "      <td>1</td>\n",
              "      <td>0.000000</td>\n",
              "      <td>1.000000</td>\n",
              "      <td>100.000000</td>\n",
              "    </tr>\n",
              "    <tr>\n",
              "      <th>3</th>\n",
              "      <td>1</td>\n",
              "      <td>0.000000</td>\n",
              "      <td>1.000000</td>\n",
              "      <td>100.000000</td>\n",
              "    </tr>\n",
              "    <tr>\n",
              "      <th>4</th>\n",
              "      <td>0</td>\n",
              "      <td>0.982868</td>\n",
              "      <td>0.017132</td>\n",
              "      <td>1.713234</td>\n",
              "    </tr>\n",
              "  </tbody>\n",
              "</table>\n",
              "</div>\n",
              "      <button class=\"colab-df-convert\" onclick=\"convertToInteractive('df-1fd7df3d-9f09-4a76-82e1-f5dfb0c26faf')\"\n",
              "              title=\"Convert this dataframe to an interactive table.\"\n",
              "              style=\"display:none;\">\n",
              "        \n",
              "  <svg xmlns=\"http://www.w3.org/2000/svg\" height=\"24px\"viewBox=\"0 0 24 24\"\n",
              "       width=\"24px\">\n",
              "    <path d=\"M0 0h24v24H0V0z\" fill=\"none\"/>\n",
              "    <path d=\"M18.56 5.44l.94 2.06.94-2.06 2.06-.94-2.06-.94-.94-2.06-.94 2.06-2.06.94zm-11 1L8.5 8.5l.94-2.06 2.06-.94-2.06-.94L8.5 2.5l-.94 2.06-2.06.94zm10 10l.94 2.06.94-2.06 2.06-.94-2.06-.94-.94-2.06-.94 2.06-2.06.94z\"/><path d=\"M17.41 7.96l-1.37-1.37c-.4-.4-.92-.59-1.43-.59-.52 0-1.04.2-1.43.59L10.3 9.45l-7.72 7.72c-.78.78-.78 2.05 0 2.83L4 21.41c.39.39.9.59 1.41.59.51 0 1.02-.2 1.41-.59l7.78-7.78 2.81-2.81c.8-.78.8-2.07 0-2.86zM5.41 20L4 18.59l7.72-7.72 1.47 1.35L5.41 20z\"/>\n",
              "  </svg>\n",
              "      </button>\n",
              "      \n",
              "  <style>\n",
              "    .colab-df-container {\n",
              "      display:flex;\n",
              "      flex-wrap:wrap;\n",
              "      gap: 12px;\n",
              "    }\n",
              "\n",
              "    .colab-df-convert {\n",
              "      background-color: #E8F0FE;\n",
              "      border: none;\n",
              "      border-radius: 50%;\n",
              "      cursor: pointer;\n",
              "      display: none;\n",
              "      fill: #1967D2;\n",
              "      height: 32px;\n",
              "      padding: 0 0 0 0;\n",
              "      width: 32px;\n",
              "    }\n",
              "\n",
              "    .colab-df-convert:hover {\n",
              "      background-color: #E2EBFA;\n",
              "      box-shadow: 0px 1px 2px rgba(60, 64, 67, 0.3), 0px 1px 3px 1px rgba(60, 64, 67, 0.15);\n",
              "      fill: #174EA6;\n",
              "    }\n",
              "\n",
              "    [theme=dark] .colab-df-convert {\n",
              "      background-color: #3B4455;\n",
              "      fill: #D2E3FC;\n",
              "    }\n",
              "\n",
              "    [theme=dark] .colab-df-convert:hover {\n",
              "      background-color: #434B5C;\n",
              "      box-shadow: 0px 1px 3px 1px rgba(0, 0, 0, 0.15);\n",
              "      filter: drop-shadow(0px 1px 2px rgba(0, 0, 0, 0.3));\n",
              "      fill: #FFFFFF;\n",
              "    }\n",
              "  </style>\n",
              "\n",
              "      <script>\n",
              "        const buttonEl =\n",
              "          document.querySelector('#df-1fd7df3d-9f09-4a76-82e1-f5dfb0c26faf button.colab-df-convert');\n",
              "        buttonEl.style.display =\n",
              "          google.colab.kernel.accessAllowed ? 'block' : 'none';\n",
              "\n",
              "        async function convertToInteractive(key) {\n",
              "          const element = document.querySelector('#df-1fd7df3d-9f09-4a76-82e1-f5dfb0c26faf');\n",
              "          const dataTable =\n",
              "            await google.colab.kernel.invokeFunction('convertToInteractive',\n",
              "                                                     [key], {});\n",
              "          if (!dataTable) return;\n",
              "\n",
              "          const docLinkHtml = 'Like what you see? Visit the ' +\n",
              "            '<a target=\"_blank\" href=https://colab.research.google.com/notebooks/data_table.ipynb>data table notebook</a>'\n",
              "            + ' to learn more about interactive tables.';\n",
              "          element.innerHTML = '';\n",
              "          dataTable['output_type'] = 'display_data';\n",
              "          await google.colab.output.renderOutput(dataTable, element);\n",
              "          const docLink = document.createElement('div');\n",
              "          docLink.innerHTML = docLinkHtml;\n",
              "          element.appendChild(docLink);\n",
              "        }\n",
              "      </script>\n",
              "    </div>\n",
              "  </div>\n",
              "  "
            ]
          },
          "metadata": {},
          "execution_count": 100
        }
      ]
    },
    {
      "cell_type": "markdown",
      "source": [
        "**Based on the positive probability of the lead we will calculate their lead score and the bussiness can approach the potential leads accordingly.**"
      ],
      "metadata": {
        "id": "-121WujLSGDy"
      }
    },
    {
      "cell_type": "code",
      "source": [],
      "metadata": {
        "id": "JZ0tcySkRcMo"
      },
      "execution_count": null,
      "outputs": []
    },
    {
      "cell_type": "code",
      "source": [],
      "metadata": {
        "id": "cxkZ9nF8Rb9D"
      },
      "execution_count": null,
      "outputs": []
    },
    {
      "cell_type": "code",
      "source": [],
      "metadata": {
        "id": "tMfmGIUeRb4i"
      },
      "execution_count": null,
      "outputs": []
    },
    {
      "cell_type": "code",
      "source": [],
      "metadata": {
        "id": "BHrIC9qFRb13"
      },
      "execution_count": null,
      "outputs": []
    }
  ]
}